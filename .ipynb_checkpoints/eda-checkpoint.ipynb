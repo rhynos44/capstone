{
 "cells": [
  {
   "cell_type": "markdown",
   "metadata": {},
   "source": [
    "###  This is the eda notebook"
   ]
  },
  {
   "cell_type": "code",
   "execution_count": 1,
   "metadata": {},
   "outputs": [],
   "source": [
    "import pandas as pd\n",
    "import numpy as np\n",
    "import matplotlib.pyplot as plt\n",
    "import seaborn as sns"
   ]
  },
  {
   "cell_type": "code",
   "execution_count": 2,
   "metadata": {},
   "outputs": [
    {
     "name": "stdout",
     "output_type": "stream",
     "text": [
      "<class 'pandas.core.frame.DataFrame'>\n",
      "RangeIndex: 65703 entries, 0 to 65702\n",
      "Data columns (total 82 columns):\n",
      "Year                65703 non-null int64\n",
      "AssignedID          65703 non-null int64\n",
      "Bank                65703 non-null object\n",
      "FIPSStateCode       65703 non-null int64\n",
      "FIPSCountyCode      65703 non-null int64\n",
      "MSA                 65703 non-null int64\n",
      "FeatureID           65703 non-null int64\n",
      "Tract               65703 non-null float64\n",
      "MinPer              65703 non-null float64\n",
      "TraMedY             65703 non-null int64\n",
      "LocMedY             65703 non-null int64\n",
      "Tractrat            65703 non-null float64\n",
      "Income              65703 non-null int64\n",
      "CurAreY             65703 non-null int64\n",
      "IncRat              65703 non-null float64\n",
      "UPB                 65703 non-null int64\n",
      "LTV                 65703 non-null float64\n",
      "MortDate            65703 non-null int64\n",
      "AcquDate            65703 non-null int64\n",
      "Purpose             65703 non-null int64\n",
      "Coop                65703 non-null int64\n",
      "Product             65703 non-null int64\n",
      "FedGuar             65703 non-null int64\n",
      "Term                65703 non-null int64\n",
      "AmorTerm            65703 non-null int64\n",
      "SellType            65703 non-null int64\n",
      "NumBor              65703 non-null int64\n",
      "First               65703 non-null int64\n",
      "CICA                65703 non-null int64\n",
      "BoRace              65703 non-null int64\n",
      "CoRace              65703 non-null int64\n",
      "BoGender            65703 non-null int64\n",
      "CoGender            65703 non-null int64\n",
      "BoAge               65703 non-null int64\n",
      "CoAge               65703 non-null int64\n",
      "Occup               65703 non-null int64\n",
      "NumUnits            65703 non-null int64\n",
      "Bed1                65703 non-null int64\n",
      "Bed2                65703 non-null int64\n",
      "Bed3                65703 non-null int64\n",
      "Bed4                65703 non-null int64\n",
      "Aff1                65703 non-null int64\n",
      "Aff2                65703 non-null int64\n",
      "Aff3                65703 non-null int64\n",
      "Aff4                65703 non-null int64\n",
      "Rent1               65703 non-null int64\n",
      "Rent2               65703 non-null int64\n",
      "Rent3               65703 non-null int64\n",
      "Rent4               65703 non-null int64\n",
      "RentUt1             65703 non-null int64\n",
      "RentUt2             65703 non-null int64\n",
      "RentUt3             65703 non-null int64\n",
      "RentUt4             65703 non-null int64\n",
      "Geog                65703 non-null int64\n",
      "Rate                65703 non-null float64\n",
      "Amount              65703 non-null int64\n",
      "Front               65703 non-null float64\n",
      "Back                65703 non-null float64\n",
      "BoCreditScore       65703 non-null int64\n",
      "CoBoCreditScore     65703 non-null int64\n",
      "PMI                 65703 non-null float64\n",
      "Self                65703 non-null int64\n",
      "PropType            65703 non-null object\n",
      "ArmIndex            65703 non-null int64\n",
      "ArmMarg             65703 non-null int64\n",
      "PrepayP             65703 non-null object\n",
      "BoEth               65703 non-null int64\n",
      "Race2               65703 non-null int64\n",
      "Race3               65703 non-null int64\n",
      "Race4               65703 non-null int64\n",
      "Race5               65703 non-null int64\n",
      "CoEth               65703 non-null int64\n",
      "Corace2             65703 non-null int64\n",
      "Corace3             65703 non-null int64\n",
      "Corace4             65703 non-null int64\n",
      "Corace5             65703 non-null int64\n",
      "HOEPA               65703 non-null int64\n",
      "LienStatus          65703 non-null int64\n",
      "SpcHsgGoals         65703 non-null int64\n",
      "FedFinStbltyPlan    65703 non-null int64\n",
      "AcqTyp              65703 non-null int64\n",
      "GSEREO              65703 non-null int64\n",
      "dtypes: float64(9), int64(70), object(3)\n",
      "memory usage: 41.1+ MB\n"
     ]
    },
    {
     "data": {
      "text/html": [
       "<div>\n",
       "<style scoped>\n",
       "    .dataframe tbody tr th:only-of-type {\n",
       "        vertical-align: middle;\n",
       "    }\n",
       "\n",
       "    .dataframe tbody tr th {\n",
       "        vertical-align: top;\n",
       "    }\n",
       "\n",
       "    .dataframe thead th {\n",
       "        text-align: right;\n",
       "    }\n",
       "</style>\n",
       "<table border=\"1\" class=\"dataframe\">\n",
       "  <thead>\n",
       "    <tr style=\"text-align: right;\">\n",
       "      <th></th>\n",
       "      <th>Year</th>\n",
       "      <th>AssignedID</th>\n",
       "      <th>Bank</th>\n",
       "      <th>FIPSStateCode</th>\n",
       "      <th>FIPSCountyCode</th>\n",
       "      <th>MSA</th>\n",
       "      <th>FeatureID</th>\n",
       "      <th>Tract</th>\n",
       "      <th>MinPer</th>\n",
       "      <th>TraMedY</th>\n",
       "      <th>...</th>\n",
       "      <th>Corace2</th>\n",
       "      <th>Corace3</th>\n",
       "      <th>Corace4</th>\n",
       "      <th>Corace5</th>\n",
       "      <th>HOEPA</th>\n",
       "      <th>LienStatus</th>\n",
       "      <th>SpcHsgGoals</th>\n",
       "      <th>FedFinStbltyPlan</th>\n",
       "      <th>AcqTyp</th>\n",
       "      <th>GSEREO</th>\n",
       "    </tr>\n",
       "  </thead>\n",
       "  <tbody>\n",
       "    <tr>\n",
       "      <td>0</td>\n",
       "      <td>2018</td>\n",
       "      <td>2131406</td>\n",
       "      <td>Atlanta</td>\n",
       "      <td>24</td>\n",
       "      <td>21</td>\n",
       "      <td>47900</td>\n",
       "      <td>9999999999</td>\n",
       "      <td>7512.01</td>\n",
       "      <td>29.85</td>\n",
       "      <td>93261</td>\n",
       "      <td>...</td>\n",
       "      <td>6</td>\n",
       "      <td>6</td>\n",
       "      <td>6</td>\n",
       "      <td>6</td>\n",
       "      <td>2</td>\n",
       "      <td>1</td>\n",
       "      <td>2</td>\n",
       "      <td>2</td>\n",
       "      <td>1</td>\n",
       "      <td>2</td>\n",
       "    </tr>\n",
       "    <tr>\n",
       "      <td>1</td>\n",
       "      <td>2018</td>\n",
       "      <td>2131407</td>\n",
       "      <td>Atlanta</td>\n",
       "      <td>24</td>\n",
       "      <td>17</td>\n",
       "      <td>47900</td>\n",
       "      <td>9999999999</td>\n",
       "      <td>8509.04</td>\n",
       "      <td>67.24</td>\n",
       "      <td>112623</td>\n",
       "      <td>...</td>\n",
       "      <td>6</td>\n",
       "      <td>6</td>\n",
       "      <td>6</td>\n",
       "      <td>6</td>\n",
       "      <td>2</td>\n",
       "      <td>1</td>\n",
       "      <td>2</td>\n",
       "      <td>2</td>\n",
       "      <td>1</td>\n",
       "      <td>2</td>\n",
       "    </tr>\n",
       "    <tr>\n",
       "      <td>2</td>\n",
       "      <td>2018</td>\n",
       "      <td>2131408</td>\n",
       "      <td>Atlanta</td>\n",
       "      <td>51</td>\n",
       "      <td>153</td>\n",
       "      <td>47900</td>\n",
       "      <td>9999999999</td>\n",
       "      <td>9012.36</td>\n",
       "      <td>40.76</td>\n",
       "      <td>140156</td>\n",
       "      <td>...</td>\n",
       "      <td>6</td>\n",
       "      <td>6</td>\n",
       "      <td>6</td>\n",
       "      <td>6</td>\n",
       "      <td>2</td>\n",
       "      <td>1</td>\n",
       "      <td>2</td>\n",
       "      <td>2</td>\n",
       "      <td>1</td>\n",
       "      <td>2</td>\n",
       "    </tr>\n",
       "    <tr>\n",
       "      <td>3</td>\n",
       "      <td>2018</td>\n",
       "      <td>2131409</td>\n",
       "      <td>Atlanta</td>\n",
       "      <td>51</td>\n",
       "      <td>59</td>\n",
       "      <td>47900</td>\n",
       "      <td>9999999999</td>\n",
       "      <td>4221.02</td>\n",
       "      <td>75.97</td>\n",
       "      <td>89250</td>\n",
       "      <td>...</td>\n",
       "      <td>8</td>\n",
       "      <td>8</td>\n",
       "      <td>8</td>\n",
       "      <td>8</td>\n",
       "      <td>2</td>\n",
       "      <td>1</td>\n",
       "      <td>2</td>\n",
       "      <td>2</td>\n",
       "      <td>1</td>\n",
       "      <td>2</td>\n",
       "    </tr>\n",
       "    <tr>\n",
       "      <td>4</td>\n",
       "      <td>2018</td>\n",
       "      <td>2131410</td>\n",
       "      <td>Atlanta</td>\n",
       "      <td>24</td>\n",
       "      <td>5</td>\n",
       "      <td>12580</td>\n",
       "      <td>9999999999</td>\n",
       "      <td>4924.02</td>\n",
       "      <td>64.56</td>\n",
       "      <td>81397</td>\n",
       "      <td>...</td>\n",
       "      <td>8</td>\n",
       "      <td>8</td>\n",
       "      <td>8</td>\n",
       "      <td>8</td>\n",
       "      <td>2</td>\n",
       "      <td>1</td>\n",
       "      <td>2</td>\n",
       "      <td>2</td>\n",
       "      <td>1</td>\n",
       "      <td>2</td>\n",
       "    </tr>\n",
       "  </tbody>\n",
       "</table>\n",
       "<p>5 rows × 82 columns</p>\n",
       "</div>"
      ],
      "text/plain": [
       "   Year  AssignedID     Bank  FIPSStateCode  FIPSCountyCode    MSA  \\\n",
       "0  2018     2131406  Atlanta             24              21  47900   \n",
       "1  2018     2131407  Atlanta             24              17  47900   \n",
       "2  2018     2131408  Atlanta             51             153  47900   \n",
       "3  2018     2131409  Atlanta             51              59  47900   \n",
       "4  2018     2131410  Atlanta             24               5  12580   \n",
       "\n",
       "    FeatureID    Tract  MinPer  TraMedY  ...  Corace2  Corace3  Corace4  \\\n",
       "0  9999999999  7512.01   29.85    93261  ...        6        6        6   \n",
       "1  9999999999  8509.04   67.24   112623  ...        6        6        6   \n",
       "2  9999999999  9012.36   40.76   140156  ...        6        6        6   \n",
       "3  9999999999  4221.02   75.97    89250  ...        8        8        8   \n",
       "4  9999999999  4924.02   64.56    81397  ...        8        8        8   \n",
       "\n",
       "   Corace5  HOEPA  LienStatus  SpcHsgGoals  FedFinStbltyPlan  AcqTyp  GSEREO  \n",
       "0        6      2           1            2                 2       1       2  \n",
       "1        6      2           1            2                 2       1       2  \n",
       "2        6      2           1            2                 2       1       2  \n",
       "3        8      2           1            2                 2       1       2  \n",
       "4        8      2           1            2                 2       1       2  \n",
       "\n",
       "[5 rows x 82 columns]"
      ]
     },
     "execution_count": 2,
     "metadata": {},
     "output_type": "execute_result"
    }
   ],
   "source": [
    "#load data into df and view\n",
    "data = pd.read_csv(\"2018_PUDB_EXPORT_123118.csv\")\n",
    "data.info()\n",
    "data.head()"
   ]
  },
  {
   "cell_type": "markdown",
   "metadata": {},
   "source": [
    "### Initial inspection\n",
    "Looking at the info from the dataframe, there are no null values.  The data is made up of objects. integers and floats.  The columns represent several different characteristics of a mortgage.  From an initial look it seems to be broken up by geographic area, income, demographics, loan characteristics, and borrower characteristics.  Reading through the provided column descriptions, most of the integer data is for categorical variables.  These will have to be encoded which will add a ton of dimensionality to the dataset.  With that in mind, there's some tools with clustering and PCA that can help reduce the dimensionality.  The strategy going forward is going to be to explore the columns and try to organize them into lists.  From there they can be encoded and their dimensionality can be reduced."
   ]
  },
  {
   "cell_type": "code",
   "execution_count": 3,
   "metadata": {},
   "outputs": [],
   "source": [
    "# create lists for column categories\n",
    "# cols with geo data\n",
    "geo_cols = []\n",
    "\n",
    "# cols with income data\n",
    "income_cols = []\n",
    "\n",
    "# cols with loan data\n",
    "loan_cols = []\n",
    "\n",
    "# cols with borrower data\n",
    "borr_cols = []\n"
   ]
  },
  {
   "cell_type": "code",
   "execution_count": 4,
   "metadata": {},
   "outputs": [
    {
     "name": "stdout",
     "output_type": "stream",
     "text": [
      "<bound method Series.unique of 0        2131406\n",
      "1        2131407\n",
      "2        2131408\n",
      "3        2131409\n",
      "4        2131410\n",
      "          ...   \n",
      "65698    2161350\n",
      "65699    2161351\n",
      "65700    2161352\n",
      "65701    2161353\n",
      "65702    2161354\n",
      "Name: AssignedID, Length: 65703, dtype: int64>\n",
      "count    6.570300e+04\n",
      "mean     2.161124e+06\n",
      "std      1.896697e+04\n",
      "min      2.128273e+06\n",
      "25%      2.144698e+06\n",
      "50%      2.161124e+06\n",
      "75%      2.177550e+06\n",
      "max      2.193975e+06\n",
      "Name: AssignedID, dtype: float64\n"
     ]
    },
    {
     "data": {
      "text/plain": [
       "65702"
      ]
     },
     "execution_count": 4,
     "metadata": {},
     "output_type": "execute_result"
    }
   ],
   "source": [
    "#look for uniqueness in AssignedId\n",
    "print(data.AssignedID.unique)\n",
    "print(data.AssignedID.describe())\n",
    "(data.AssignedID.max() - data.AssignedID.min())"
   ]
  },
  {
   "cell_type": "code",
   "execution_count": 5,
   "metadata": {},
   "outputs": [
    {
     "data": {
      "text/plain": [
       "2018    65703\n",
       "Name: Year, dtype: int64"
      ]
     },
     "execution_count": 5,
     "metadata": {},
     "output_type": "execute_result"
    }
   ],
   "source": [
    "# check to make sure Year is all 2018\n",
    "data.Year.value_counts()"
   ]
  },
  {
   "cell_type": "code",
   "execution_count": 6,
   "metadata": {},
   "outputs": [],
   "source": [
    "# create list of columns to potentially drop\n",
    "cols_to_drop = []"
   ]
  },
  {
   "cell_type": "markdown",
   "metadata": {},
   "source": [
    "### Assigned ID\n",
    "The \"AssignedID\" column has a unique ID for each row in the data set.  This will make a better index than the one pandas assigned.  The year column isn't useful since the data was pulled for the year 2018 so it will be dropped."
   ]
  },
  {
   "cell_type": "code",
   "execution_count": 7,
   "metadata": {},
   "outputs": [
    {
     "data": {
      "text/html": [
       "<div>\n",
       "<style scoped>\n",
       "    .dataframe tbody tr th:only-of-type {\n",
       "        vertical-align: middle;\n",
       "    }\n",
       "\n",
       "    .dataframe tbody tr th {\n",
       "        vertical-align: top;\n",
       "    }\n",
       "\n",
       "    .dataframe thead th {\n",
       "        text-align: right;\n",
       "    }\n",
       "</style>\n",
       "<table border=\"1\" class=\"dataframe\">\n",
       "  <thead>\n",
       "    <tr style=\"text-align: right;\">\n",
       "      <th></th>\n",
       "      <th>Bank</th>\n",
       "      <th>FIPSStateCode</th>\n",
       "      <th>FIPSCountyCode</th>\n",
       "      <th>MSA</th>\n",
       "      <th>FeatureID</th>\n",
       "      <th>Tract</th>\n",
       "      <th>MinPer</th>\n",
       "      <th>TraMedY</th>\n",
       "      <th>LocMedY</th>\n",
       "      <th>Tractrat</th>\n",
       "      <th>...</th>\n",
       "      <th>Corace2</th>\n",
       "      <th>Corace3</th>\n",
       "      <th>Corace4</th>\n",
       "      <th>Corace5</th>\n",
       "      <th>HOEPA</th>\n",
       "      <th>LienStatus</th>\n",
       "      <th>SpcHsgGoals</th>\n",
       "      <th>FedFinStbltyPlan</th>\n",
       "      <th>AcqTyp</th>\n",
       "      <th>GSEREO</th>\n",
       "    </tr>\n",
       "    <tr>\n",
       "      <th>AssignedID</th>\n",
       "      <th></th>\n",
       "      <th></th>\n",
       "      <th></th>\n",
       "      <th></th>\n",
       "      <th></th>\n",
       "      <th></th>\n",
       "      <th></th>\n",
       "      <th></th>\n",
       "      <th></th>\n",
       "      <th></th>\n",
       "      <th></th>\n",
       "      <th></th>\n",
       "      <th></th>\n",
       "      <th></th>\n",
       "      <th></th>\n",
       "      <th></th>\n",
       "      <th></th>\n",
       "      <th></th>\n",
       "      <th></th>\n",
       "      <th></th>\n",
       "      <th></th>\n",
       "    </tr>\n",
       "  </thead>\n",
       "  <tbody>\n",
       "    <tr>\n",
       "      <td>2131406</td>\n",
       "      <td>Atlanta</td>\n",
       "      <td>24</td>\n",
       "      <td>21</td>\n",
       "      <td>47900</td>\n",
       "      <td>9999999999</td>\n",
       "      <td>7512.01</td>\n",
       "      <td>29.85</td>\n",
       "      <td>93261</td>\n",
       "      <td>108141</td>\n",
       "      <td>0.8624</td>\n",
       "      <td>...</td>\n",
       "      <td>6</td>\n",
       "      <td>6</td>\n",
       "      <td>6</td>\n",
       "      <td>6</td>\n",
       "      <td>2</td>\n",
       "      <td>1</td>\n",
       "      <td>2</td>\n",
       "      <td>2</td>\n",
       "      <td>1</td>\n",
       "      <td>2</td>\n",
       "    </tr>\n",
       "    <tr>\n",
       "      <td>2131407</td>\n",
       "      <td>Atlanta</td>\n",
       "      <td>24</td>\n",
       "      <td>17</td>\n",
       "      <td>47900</td>\n",
       "      <td>9999999999</td>\n",
       "      <td>8509.04</td>\n",
       "      <td>67.24</td>\n",
       "      <td>112623</td>\n",
       "      <td>108141</td>\n",
       "      <td>1.0414</td>\n",
       "      <td>...</td>\n",
       "      <td>6</td>\n",
       "      <td>6</td>\n",
       "      <td>6</td>\n",
       "      <td>6</td>\n",
       "      <td>2</td>\n",
       "      <td>1</td>\n",
       "      <td>2</td>\n",
       "      <td>2</td>\n",
       "      <td>1</td>\n",
       "      <td>2</td>\n",
       "    </tr>\n",
       "    <tr>\n",
       "      <td>2131408</td>\n",
       "      <td>Atlanta</td>\n",
       "      <td>51</td>\n",
       "      <td>153</td>\n",
       "      <td>47900</td>\n",
       "      <td>9999999999</td>\n",
       "      <td>9012.36</td>\n",
       "      <td>40.76</td>\n",
       "      <td>140156</td>\n",
       "      <td>108141</td>\n",
       "      <td>1.2960</td>\n",
       "      <td>...</td>\n",
       "      <td>6</td>\n",
       "      <td>6</td>\n",
       "      <td>6</td>\n",
       "      <td>6</td>\n",
       "      <td>2</td>\n",
       "      <td>1</td>\n",
       "      <td>2</td>\n",
       "      <td>2</td>\n",
       "      <td>1</td>\n",
       "      <td>2</td>\n",
       "    </tr>\n",
       "    <tr>\n",
       "      <td>2131409</td>\n",
       "      <td>Atlanta</td>\n",
       "      <td>51</td>\n",
       "      <td>59</td>\n",
       "      <td>47900</td>\n",
       "      <td>9999999999</td>\n",
       "      <td>4221.02</td>\n",
       "      <td>75.97</td>\n",
       "      <td>89250</td>\n",
       "      <td>108141</td>\n",
       "      <td>0.8253</td>\n",
       "      <td>...</td>\n",
       "      <td>8</td>\n",
       "      <td>8</td>\n",
       "      <td>8</td>\n",
       "      <td>8</td>\n",
       "      <td>2</td>\n",
       "      <td>1</td>\n",
       "      <td>2</td>\n",
       "      <td>2</td>\n",
       "      <td>1</td>\n",
       "      <td>2</td>\n",
       "    </tr>\n",
       "    <tr>\n",
       "      <td>2131410</td>\n",
       "      <td>Atlanta</td>\n",
       "      <td>24</td>\n",
       "      <td>5</td>\n",
       "      <td>12580</td>\n",
       "      <td>9999999999</td>\n",
       "      <td>4924.02</td>\n",
       "      <td>64.56</td>\n",
       "      <td>81397</td>\n",
       "      <td>87788</td>\n",
       "      <td>0.9272</td>\n",
       "      <td>...</td>\n",
       "      <td>8</td>\n",
       "      <td>8</td>\n",
       "      <td>8</td>\n",
       "      <td>8</td>\n",
       "      <td>2</td>\n",
       "      <td>1</td>\n",
       "      <td>2</td>\n",
       "      <td>2</td>\n",
       "      <td>1</td>\n",
       "      <td>2</td>\n",
       "    </tr>\n",
       "  </tbody>\n",
       "</table>\n",
       "<p>5 rows × 80 columns</p>\n",
       "</div>"
      ],
      "text/plain": [
       "               Bank  FIPSStateCode  FIPSCountyCode    MSA   FeatureID  \\\n",
       "AssignedID                                                              \n",
       "2131406     Atlanta             24              21  47900  9999999999   \n",
       "2131407     Atlanta             24              17  47900  9999999999   \n",
       "2131408     Atlanta             51             153  47900  9999999999   \n",
       "2131409     Atlanta             51              59  47900  9999999999   \n",
       "2131410     Atlanta             24               5  12580  9999999999   \n",
       "\n",
       "              Tract  MinPer  TraMedY  LocMedY  Tractrat  ...  Corace2  \\\n",
       "AssignedID                                               ...            \n",
       "2131406     7512.01   29.85    93261   108141    0.8624  ...        6   \n",
       "2131407     8509.04   67.24   112623   108141    1.0414  ...        6   \n",
       "2131408     9012.36   40.76   140156   108141    1.2960  ...        6   \n",
       "2131409     4221.02   75.97    89250   108141    0.8253  ...        8   \n",
       "2131410     4924.02   64.56    81397    87788    0.9272  ...        8   \n",
       "\n",
       "            Corace3  Corace4  Corace5  HOEPA  LienStatus  SpcHsgGoals  \\\n",
       "AssignedID                                                              \n",
       "2131406           6        6        6      2           1            2   \n",
       "2131407           6        6        6      2           1            2   \n",
       "2131408           6        6        6      2           1            2   \n",
       "2131409           8        8        8      2           1            2   \n",
       "2131410           8        8        8      2           1            2   \n",
       "\n",
       "            FedFinStbltyPlan  AcqTyp  GSEREO  \n",
       "AssignedID                                    \n",
       "2131406                    2       1       2  \n",
       "2131407                    2       1       2  \n",
       "2131408                    2       1       2  \n",
       "2131409                    2       1       2  \n",
       "2131410                    2       1       2  \n",
       "\n",
       "[5 rows x 80 columns]"
      ]
     },
     "execution_count": 7,
     "metadata": {},
     "output_type": "execute_result"
    }
   ],
   "source": [
    "#drop year column and set index to AssignedID\n",
    "data.drop(columns='Year', inplace=True)\n",
    "data.set_index(keys='AssignedID', inplace=True)\n",
    "cols_to_drop.append('Year')\n",
    "data.head()"
   ]
  },
  {
   "cell_type": "code",
   "execution_count": 8,
   "metadata": {},
   "outputs": [
    {
     "data": {
      "text/plain": [
       "Chicago          12994\n",
       "Topeka            9577\n",
       "Indianapolis      9514\n",
       "Cincinnati        8955\n",
       "Des Moines        8738\n",
       "Dallas            5269\n",
       "Pittsburgh        3566\n",
       "Boston            2671\n",
       "San Francisco     2294\n",
       "New York          1124\n",
       "Atlanta           1001\n",
       "Name: Bank, dtype: int64"
      ]
     },
     "execution_count": 8,
     "metadata": {},
     "output_type": "execute_result"
    }
   ],
   "source": [
    "#look at how many bank districts\n",
    "data.Bank.value_counts()"
   ]
  },
  {
   "cell_type": "code",
   "execution_count": 9,
   "metadata": {},
   "outputs": [
    {
     "data": {
      "text/plain": [
       "<matplotlib.axes._subplots.AxesSubplot at 0x7fdfc56be3c8>"
      ]
     },
     "execution_count": 9,
     "metadata": {},
     "output_type": "execute_result"
    },
    {
     "data": {
      "image/png": "[encoded data removed]",
      "text/plain": [
       "<Figure size 432x288 with 1 Axes>"
      ]
     },
     "metadata": {
      "needs_background": "light"
     },
     "output_type": "display_data"
    }
   ],
   "source": [
    "data.Bank.value_counts().plot(kind='bar')"
   ]
  },
  {
   "cell_type": "markdown",
   "metadata": {},
   "source": [
    "### Bank\n",
    "The Bank column has 11 Bank districts from across the United States.  The counts associated show the number of loans associated with each district.  An interesting note from the graph is that most of the loans are from districts in the Midwest Region."
   ]
  },
  {
   "cell_type": "markdown",
   "metadata": {},
   "source": [
    "# Geographical data\n",
    "\n",
    "There are a few columns that deal with geographic location.  Are there any relationships between the features? Do any of these features represent the same areas?"
   ]
  },
  {
   "cell_type": "code",
   "execution_count": 10,
   "metadata": {},
   "outputs": [],
   "source": [
    "def eda_func(df,col):\n",
    "    \"\"\"\n",
    "    Input dataframe and column name.\n",
    "    Return value counts, uniques, and summary statistics of the series\n",
    "    \"\"\"\n",
    "    \n",
    "    return(print(\"Value Counts:\\n\",df[col].value_counts()),\n",
    "           print(\"Number of uniques:\\n\",len(df[col].unique())),\n",
    "           print(\"Summary Statistics:\\n\",df[col].describe()))"
   ]
  },
  {
   "cell_type": "code",
   "execution_count": 11,
   "metadata": {},
   "outputs": [
    {
     "name": "stdout",
     "output_type": "stream",
     "text": [
      "Value Counts:\n",
      " 39    5310\n",
      "55    4839\n",
      "17    4714\n",
      "6     4083\n",
      "18    4044\n",
      "20    3768\n",
      "26    3341\n",
      "48    3262\n",
      "19    3220\n",
      "29    2567\n",
      "31    2057\n",
      "8     1969\n",
      "42    1959\n",
      "27    1828\n",
      "25    1566\n",
      "51    1376\n",
      "21    1296\n",
      "12    1141\n",
      "36    1030\n",
      "40    1000\n",
      "13     911\n",
      "46     876\n",
      "24     813\n",
      "37     766\n",
      "47     723\n",
      "16     713\n",
      "9      626\n",
      "4      573\n",
      "34     564\n",
      "41     518\n",
      "5      505\n",
      "53     411\n",
      "22     395\n",
      "1      328\n",
      "45     314\n",
      "32     301\n",
      "49     290\n",
      "35     224\n",
      "23     167\n",
      "54     150\n",
      "33     144\n",
      "50     144\n",
      "30     141\n",
      "11     128\n",
      "28     101\n",
      "56      99\n",
      "66      98\n",
      "38      89\n",
      "44      70\n",
      "10      62\n",
      "72      47\n",
      "15      25\n",
      "2       17\n",
      "Name: FIPSStateCode, dtype: int64\n",
      "Number of uniques:\n",
      " 53\n",
      "Summary Statistics:\n",
      " count    65703.000000\n",
      "mean        28.486690\n",
      "std         14.917115\n",
      "min          1.000000\n",
      "25%         18.000000\n",
      "50%         26.000000\n",
      "75%         39.000000\n",
      "max         72.000000\n",
      "Name: FIPSStateCode, dtype: float64\n"
     ]
    },
    {
     "data": {
      "text/plain": [
       "(None, None, None)"
      ]
     },
     "execution_count": 11,
     "metadata": {},
     "output_type": "execute_result"
    }
   ],
   "source": [
    "eda_func(data, 'FIPSStateCode')"
   ]
  },
  {
   "cell_type": "code",
   "execution_count": 12,
   "metadata": {},
   "outputs": [
    {
     "name": "stdout",
     "output_type": "stream",
     "text": [
      "Value Counts:\n",
      " 37     2100\n",
      "31     2022\n",
      "1      1576\n",
      "59     1556\n",
      "61     1549\n",
      "       ... \n",
      "341       1\n",
      "371       1\n",
      "469       1\n",
      "775       1\n",
      "255       1\n",
      "Name: FIPSCountyCode, Length: 226, dtype: int64\n",
      "Number of uniques:\n",
      " 226\n",
      "Summary Statistics:\n",
      " count    65703.000000\n",
      "mean        87.947339\n",
      "std         85.391896\n",
      "min          1.000000\n",
      "25%         31.000000\n",
      "50%         71.000000\n",
      "75%        119.000000\n",
      "max        840.000000\n",
      "Name: FIPSCountyCode, dtype: float64\n"
     ]
    },
    {
     "data": {
      "text/plain": [
       "(None, None, None)"
      ]
     },
     "execution_count": 12,
     "metadata": {},
     "output_type": "execute_result"
    }
   ],
   "source": [
    "#look at county codes\n",
    "eda_func(data, 'FIPSCountyCode')"
   ]
  },
  {
   "cell_type": "code",
   "execution_count": 13,
   "metadata": {},
   "outputs": [
    {
     "name": "stdout",
     "output_type": "stream",
     "text": [
      "State: 4\n",
      "count    573.000000\n",
      "mean      14.233857\n",
      "std        3.286086\n",
      "min        1.000000\n",
      "25%       13.000000\n",
      "50%       13.000000\n",
      "75%       13.000000\n",
      "max       25.000000\n",
      "Name: FIPSCountyCode, dtype: float64\n",
      "State: 5\n",
      "count    505.000000\n",
      "mean      78.227723\n",
      "std       55.764506\n",
      "min        5.000000\n",
      "25%        7.000000\n",
      "50%       85.000000\n",
      "75%      131.000000\n",
      "max      149.000000\n",
      "Name: FIPSCountyCode, dtype: float64\n",
      "State: 6\n",
      "count    4083.000000\n",
      "mean       51.305658\n",
      "std        29.180824\n",
      "min         1.000000\n",
      "25%        37.000000\n",
      "50%        53.000000\n",
      "75%        73.000000\n",
      "max       115.000000\n",
      "Name: FIPSCountyCode, dtype: float64\n"
     ]
    }
   ],
   "source": [
    "# look at sequential state codes to determine numbering of county codes\n",
    "state_code_lst = [4,5,6]\n",
    "for code in state_code_lst:\n",
    "    print('State:',code)\n",
    "    print(data[data.FIPSStateCode == code]['FIPSCountyCode'].describe())"
   ]
  },
  {
   "cell_type": "code",
   "execution_count": 14,
   "metadata": {},
   "outputs": [
    {
     "data": {
      "text/plain": [
       "48    2432\n",
       "5      418\n",
       "12     365\n",
       "22     334\n",
       "6      197\n",
       "47     176\n",
       "13     162\n",
       "35     145\n",
       "8       95\n",
       "55      80\n",
       "1       71\n",
       "53      69\n",
       "41      68\n",
       "4       62\n",
       "18      55\n",
       "17      50\n",
       "28      50\n",
       "26      35\n",
       "51      34\n",
       "39      33\n",
       "29      29\n",
       "32      25\n",
       "24      25\n",
       "21      24\n",
       "20      22\n",
       "9       21\n",
       "42      19\n",
       "25      18\n",
       "37      17\n",
       "56      17\n",
       "16      12\n",
       "38      12\n",
       "30      11\n",
       "34      10\n",
       "27       9\n",
       "40       9\n",
       "49       9\n",
       "36       8\n",
       "44       7\n",
       "50       6\n",
       "45       6\n",
       "11       5\n",
       "33       4\n",
       "10       4\n",
       "23       3\n",
       "31       3\n",
       "19       1\n",
       "15       1\n",
       "2        1\n",
       "Name: FIPSStateCode, dtype: int64"
      ]
     },
     "execution_count": 14,
     "metadata": {},
     "output_type": "execute_result"
    }
   ],
   "source": [
    "# look at a bank district and see how many loans were made and from which states\n",
    "data[data.Bank == 'Dallas']['FIPSStateCode'].value_counts()"
   ]
  },
  {
   "cell_type": "markdown",
   "metadata": {},
   "source": [
    "### FIPS State/County Code \n",
    "These codes are the federal codes that represent geographical areas.  The bank district shown above has mortgages from different states.  Each US state and territory has a unique code, as well as each county.\n",
    "\n",
    "* The state codes range from 1 to 72 with 53 unique codes\n",
    "* The county codes start at 1 and increase to the last county on the list for the state.  The county code goes back to 1 with each state.  Some states don't have a county code 1 which means there wasnt a record in that county in 2018.\n",
    "* The bank districts service loans from multiple states"
   ]
  },
  {
   "cell_type": "markdown",
   "metadata": {},
   "source": [
    "###  Explore MSA meaning"
   ]
  },
  {
   "cell_type": "code",
   "execution_count": 15,
   "metadata": {},
   "outputs": [
    {
     "name": "stdout",
     "output_type": "stream",
     "text": [
      "Value Counts:\n",
      " 99999    5676\n",
      "17140    2598\n",
      "16980    2566\n",
      "31080    1660\n",
      "28140    1432\n",
      "         ... \n",
      "12460       1\n",
      "45180       1\n",
      "44860       1\n",
      "27940       1\n",
      "23700       1\n",
      "Name: MSA, Length: 843, dtype: int64\n",
      "Number of uniques:\n",
      " 843\n",
      "Summary Statistics:\n",
      " count    65703.000000\n",
      "mean     34979.136919\n",
      "std      22587.264610\n",
      "min      10100.000000\n",
      "25%      19220.000000\n",
      "50%      30780.000000\n",
      "75%      41180.000000\n",
      "max      99999.000000\n",
      "Name: MSA, dtype: float64\n"
     ]
    },
    {
     "data": {
      "text/plain": [
       "(None, None, None)"
      ]
     },
     "execution_count": 15,
     "metadata": {},
     "output_type": "execute_result"
    }
   ],
   "source": [
    "eda_func(data, 'MSA')"
   ]
  },
  {
   "cell_type": "code",
   "execution_count": 16,
   "metadata": {},
   "outputs": [
    {
     "name": "stdout",
     "output_type": "stream",
     "text": [
      "Value Counts:\n",
      " 39    2067\n",
      "21     478\n",
      "18      53\n",
      "Name: FIPSStateCode, dtype: int64\n",
      "Number of uniques:\n",
      " 3\n",
      "Summary Statistics:\n",
      " count    2598.000000\n",
      "mean       35.259815\n",
      "std         7.391928\n",
      "min        18.000000\n",
      "25%        39.000000\n",
      "50%        39.000000\n",
      "75%        39.000000\n",
      "max        39.000000\n",
      "Name: FIPSStateCode, dtype: float64\n",
      "Value Counts:\n",
      " 61     981\n",
      "165    433\n",
      "17     410\n",
      "25     234\n",
      "15     186\n",
      "117    184\n",
      "37     112\n",
      "29      47\n",
      "161      4\n",
      "191      3\n",
      "115      2\n",
      "81       2\n",
      "Name: FIPSCountyCode, dtype: int64\n",
      "Number of uniques:\n",
      " 12\n",
      "Summary Statistics:\n",
      " count    2598.000000\n",
      "mean       67.567360\n",
      "std        51.353913\n",
      "min        15.000000\n",
      "25%        25.000000\n",
      "50%        61.000000\n",
      "75%        61.000000\n",
      "max       191.000000\n",
      "Name: FIPSCountyCode, dtype: float64\n"
     ]
    }
   ],
   "source": [
    "# visualize relationship between FIPS codes and a MSA code\n",
    "rand_msa = data[data.MSA == 17140]\n",
    "# columns with fips codes\n",
    "msa_cols = data.columns[1:3]\n",
    "for col in msa_cols:\n",
    "    eda_func(rand_msa, col)"
   ]
  },
  {
   "cell_type": "code",
   "execution_count": 17,
   "metadata": {},
   "outputs": [
    {
     "data": {
      "text/plain": [
       "19    949\n",
       "55    875\n",
       "20    566\n",
       "17    479\n",
       "29    388\n",
       "31    365\n",
       "18    305\n",
       "26    260\n",
       "27    215\n",
       "46    135\n",
       "40    130\n",
       "42    127\n",
       "8     124\n",
       "66     98\n",
       "39     92\n",
       "21     72\n",
       "51     60\n",
       "48     56\n",
       "54     47\n",
       "50     40\n",
       "13     29\n",
       "5      28\n",
       "30     26\n",
       "36     24\n",
       "6      24\n",
       "47     21\n",
       "37     20\n",
       "23     18\n",
       "38     14\n",
       "16     13\n",
       "24     11\n",
       "1       9\n",
       "53      8\n",
       "56      8\n",
       "49      7\n",
       "28      5\n",
       "35      5\n",
       "33      4\n",
       "22      4\n",
       "45      3\n",
       "25      3\n",
       "2       3\n",
       "12      2\n",
       "4       2\n",
       "32      1\n",
       "41      1\n",
       "Name: FIPSStateCode, dtype: int64"
      ]
     },
     "execution_count": 17,
     "metadata": {},
     "output_type": "execute_result"
    }
   ],
   "source": [
    "# look at the non msa areas and the value count spread of the states\n",
    "non_metro_areas = data[data.MSA == 99999][['FIPSStateCode', 'FIPSCountyCode', 'Tract']]\n",
    "non_metro_areas.FIPSStateCode.value_counts()"
   ]
  },
  {
   "cell_type": "code",
   "execution_count": 18,
   "metadata": {},
   "outputs": [
    {
     "data": {
      "text/plain": [
       "39    5218\n",
       "17    4235\n",
       "6     4059\n",
       "55    3964\n",
       "18    3739\n",
       "48    3206\n",
       "20    3202\n",
       "26    3081\n",
       "19    2271\n",
       "29    2179\n",
       "8     1845\n",
       "42    1832\n",
       "31    1692\n",
       "27    1613\n",
       "25    1563\n",
       "51    1316\n",
       "21    1224\n",
       "12    1139\n",
       "36    1006\n",
       "13     882\n",
       "40     870\n",
       "24     802\n",
       "37     746\n",
       "46     741\n",
       "47     702\n",
       "16     700\n",
       "9      626\n",
       "4      571\n",
       "34     564\n",
       "41     517\n",
       "5      477\n",
       "53     403\n",
       "22     391\n",
       "1      319\n",
       "45     311\n",
       "32     300\n",
       "49     283\n",
       "35     219\n",
       "23     149\n",
       "33     140\n",
       "11     128\n",
       "30     115\n",
       "50     104\n",
       "54     103\n",
       "28      96\n",
       "56      91\n",
       "38      75\n",
       "44      70\n",
       "10      62\n",
       "72      47\n",
       "15      25\n",
       "2       14\n",
       "Name: FIPSStateCode, dtype: int64"
      ]
     },
     "execution_count": 18,
     "metadata": {},
     "output_type": "execute_result"
    }
   ],
   "source": [
    "# metro areas and state value counts\n",
    "metro_areas = data[data.MSA != 99999][['FIPSStateCode', 'FIPSCountyCode', 'Tract']]\n",
    "metro_areas.FIPSStateCode.value_counts()"
   ]
  },
  {
   "cell_type": "markdown",
   "metadata": {},
   "source": [
    "###  MSA\n",
    "The MSA represents metropolitan statistical area, which is a type of core based statistical area (CBSA). Metropolitan statistical areas have at least one urbanized area of 50,000 or more population, plus adjacent territory that has a high degree of social and economic integration with the core as measured by commuting ties.\n",
    "\n",
    "The MSA code can be used to show an actual geographical area or can be signify that the mortgage is for a propery in a metro area or not."
   ]
  },
  {
   "cell_type": "code",
   "execution_count": 19,
   "metadata": {},
   "outputs": [
    {
     "name": "stdout",
     "output_type": "stream",
     "text": [
      "Value Counts:\n",
      " 9999999999    48278\n",
      "1086201         794\n",
      "2395423         385\n",
      "1086101         255\n",
      "1626373         199\n",
      "              ...  \n",
      "2409670           1\n",
      "2411911           1\n",
      "2411975           1\n",
      "2412103           1\n",
      "2404374           1\n",
      "Name: FeatureID, Length: 3449, dtype: int64\n",
      "Number of uniques:\n",
      " 3449\n",
      "Summary Statistics:\n",
      " count    6.570300e+04\n",
      "mean     7.348427e+09\n",
      "std      4.413622e+09\n",
      "min      6.920000e+03\n",
      "25%      2.410812e+06\n",
      "50%      1.000000e+10\n",
      "75%      1.000000e+10\n",
      "max      1.000000e+10\n",
      "Name: FeatureID, dtype: float64\n"
     ]
    },
    {
     "data": {
      "text/plain": [
       "(None, None, None)"
      ]
     },
     "execution_count": 19,
     "metadata": {},
     "output_type": "execute_result"
    }
   ],
   "source": [
    "# look at FeatureID in eda function\n",
    "eda_func(data, 'FeatureID')"
   ]
  },
  {
   "cell_type": "code",
   "execution_count": 20,
   "metadata": {},
   "outputs": [
    {
     "data": {
      "text/html": [
       "<div>\n",
       "<style scoped>\n",
       "    .dataframe tbody tr th:only-of-type {\n",
       "        vertical-align: middle;\n",
       "    }\n",
       "\n",
       "    .dataframe tbody tr th {\n",
       "        vertical-align: top;\n",
       "    }\n",
       "\n",
       "    .dataframe thead th {\n",
       "        text-align: right;\n",
       "    }\n",
       "</style>\n",
       "<table border=\"1\" class=\"dataframe\">\n",
       "  <thead>\n",
       "    <tr style=\"text-align: right;\">\n",
       "      <th></th>\n",
       "      <th>FIPSStateCode</th>\n",
       "      <th>FIPSCountyCode</th>\n",
       "      <th>MSA</th>\n",
       "      <th>Tract</th>\n",
       "    </tr>\n",
       "    <tr>\n",
       "      <th>AssignedID</th>\n",
       "      <th></th>\n",
       "      <th></th>\n",
       "      <th></th>\n",
       "      <th></th>\n",
       "    </tr>\n",
       "  </thead>\n",
       "  <tbody>\n",
       "    <tr>\n",
       "      <td>2131406</td>\n",
       "      <td>24</td>\n",
       "      <td>21</td>\n",
       "      <td>47900</td>\n",
       "      <td>7512.01</td>\n",
       "    </tr>\n",
       "    <tr>\n",
       "      <td>2131407</td>\n",
       "      <td>24</td>\n",
       "      <td>17</td>\n",
       "      <td>47900</td>\n",
       "      <td>8509.04</td>\n",
       "    </tr>\n",
       "    <tr>\n",
       "      <td>2131408</td>\n",
       "      <td>51</td>\n",
       "      <td>153</td>\n",
       "      <td>47900</td>\n",
       "      <td>9012.36</td>\n",
       "    </tr>\n",
       "    <tr>\n",
       "      <td>2131409</td>\n",
       "      <td>51</td>\n",
       "      <td>59</td>\n",
       "      <td>47900</td>\n",
       "      <td>4221.02</td>\n",
       "    </tr>\n",
       "    <tr>\n",
       "      <td>2131410</td>\n",
       "      <td>24</td>\n",
       "      <td>5</td>\n",
       "      <td>12580</td>\n",
       "      <td>4924.02</td>\n",
       "    </tr>\n",
       "    <tr>\n",
       "      <td>...</td>\n",
       "      <td>...</td>\n",
       "      <td>...</td>\n",
       "      <td>...</td>\n",
       "      <td>...</td>\n",
       "    </tr>\n",
       "    <tr>\n",
       "      <td>2161350</td>\n",
       "      <td>40</td>\n",
       "      <td>143</td>\n",
       "      <td>46140</td>\n",
       "      <td>75.22</td>\n",
       "    </tr>\n",
       "    <tr>\n",
       "      <td>2161351</td>\n",
       "      <td>31</td>\n",
       "      <td>109</td>\n",
       "      <td>30700</td>\n",
       "      <td>37.09</td>\n",
       "    </tr>\n",
       "    <tr>\n",
       "      <td>2161352</td>\n",
       "      <td>19</td>\n",
       "      <td>133</td>\n",
       "      <td>99999</td>\n",
       "      <td>9602.00</td>\n",
       "    </tr>\n",
       "    <tr>\n",
       "      <td>2161353</td>\n",
       "      <td>31</td>\n",
       "      <td>153</td>\n",
       "      <td>36540</td>\n",
       "      <td>106.23</td>\n",
       "    </tr>\n",
       "    <tr>\n",
       "      <td>2161354</td>\n",
       "      <td>31</td>\n",
       "      <td>179</td>\n",
       "      <td>99999</td>\n",
       "      <td>9787.00</td>\n",
       "    </tr>\n",
       "  </tbody>\n",
       "</table>\n",
       "<p>48278 rows × 4 columns</p>\n",
       "</div>"
      ],
      "text/plain": [
       "            FIPSStateCode  FIPSCountyCode    MSA    Tract\n",
       "AssignedID                                               \n",
       "2131406                24              21  47900  7512.01\n",
       "2131407                24              17  47900  8509.04\n",
       "2131408                51             153  47900  9012.36\n",
       "2131409                51              59  47900  4221.02\n",
       "2131410                24               5  12580  4924.02\n",
       "...                   ...             ...    ...      ...\n",
       "2161350                40             143  46140    75.22\n",
       "2161351                31             109  30700    37.09\n",
       "2161352                19             133  99999  9602.00\n",
       "2161353                31             153  36540   106.23\n",
       "2161354                31             179  99999  9787.00\n",
       "\n",
       "[48278 rows x 4 columns]"
      ]
     },
     "execution_count": 20,
     "metadata": {},
     "output_type": "execute_result"
    }
   ],
   "source": [
    "# look at the 999999999 code for featureID\n",
    "data[data.FeatureID == 9999999999][['FIPSStateCode', 'FIPSCountyCode', 'MSA', 'Tract']]"
   ]
  },
  {
   "cell_type": "markdown",
   "metadata": {},
   "source": [
    "### FeatureID Notes\n",
    "* The FeatureID is a list of codes that reference geographical points like, airports or canyons. \n",
    "* If there is a feature, then there is a unique code for the feature.  If the code is 9 repeated, then there is no feature associated."
   ]
  },
  {
   "cell_type": "code",
   "execution_count": 21,
   "metadata": {},
   "outputs": [],
   "source": [
    "cols_to_drop.append('FeatureID(maybe)')"
   ]
  },
  {
   "cell_type": "markdown",
   "metadata": {},
   "source": [
    "###  Tract\n",
    "* Explore Tract feature and its information"
   ]
  },
  {
   "cell_type": "code",
   "execution_count": 22,
   "metadata": {},
   "outputs": [
    {
     "name": "stdout",
     "output_type": "stream",
     "text": [
      "Value Counts:\n",
      " 9601.00    368\n",
      "9603.00    320\n",
      "2.00       305\n",
      "9502.00    298\n",
      "3.00       295\n",
      "          ... \n",
      "1841.08      1\n",
      "4433.21      1\n",
      "2641.03      1\n",
      "250.06       1\n",
      "1907.02      1\n",
      "Name: Tract, Length: 12338, dtype: int64\n",
      "Number of uniques:\n",
      " 12338\n",
      "Summary Statistics:\n",
      " count    65703.000000\n",
      "mean      2774.683530\n",
      "std       3628.958393\n",
      "min          1.000000\n",
      "25%        103.430000\n",
      "50%        508.000000\n",
      "75%       5105.010000\n",
      "max       9900.010000\n",
      "Name: Tract, dtype: float64\n"
     ]
    },
    {
     "data": {
      "text/plain": [
       "(None, None, None)"
      ]
     },
     "execution_count": 22,
     "metadata": {},
     "output_type": "execute_result"
    }
   ],
   "source": [
    "# look at Tract through eda function\n",
    "eda_func(data, 'Tract')"
   ]
  },
  {
   "cell_type": "code",
   "execution_count": 23,
   "metadata": {},
   "outputs": [
    {
     "name": "stdout",
     "output_type": "stream",
     "text": [
      "Value Counts:\n",
      " 2.00       12\n",
      "5125.03    11\n",
      "81.22      10\n",
      "4511.01     9\n",
      "320.56      9\n",
      "           ..\n",
      "204.02      1\n",
      "1513.06     1\n",
      "186.11      1\n",
      "25.01       1\n",
      "1872.00     1\n",
      "Name: Tract, Length: 2422, dtype: int64\n",
      "Number of uniques:\n",
      " 2422\n",
      "Summary Statistics:\n",
      " count    4083.000000\n",
      "mean     2553.773537\n",
      "std      2551.359944\n",
      "min         1.010000\n",
      "25%       207.025000\n",
      "50%      1512.010000\n",
      "75%      4403.350000\n",
      "max      9832.000000\n",
      "Name: Tract, dtype: float64\n"
     ]
    },
    {
     "data": {
      "text/plain": [
       "(None, None, None)"
      ]
     },
     "execution_count": 23,
     "metadata": {},
     "output_type": "execute_result"
    }
   ],
   "source": [
    "# look at value counts and descriptive stats for state code 6\n",
    "eda_func(data[data.FIPSStateCode == 6], 'Tract')"
   ]
  },
  {
   "cell_type": "code",
   "execution_count": 24,
   "metadata": {},
   "outputs": [
    {
     "name": "stdout",
     "output_type": "stream",
     "text": [
      "Value Counts:\n",
      " 8160.00    7\n",
      "8109.00    6\n",
      "610.10     6\n",
      "8169.00    5\n",
      "6100.00    5\n",
      "          ..\n",
      "6133.00    1\n",
      "1132.03    1\n",
      "1167.29    1\n",
      "46.38      1\n",
      "820.27     1\n",
      "Name: Tract, Length: 383, dtype: int64\n",
      "Number of uniques:\n",
      " 383\n",
      "Summary Statistics:\n",
      " count     573.000000\n",
      "mean     3212.610524\n",
      "std      3164.032362\n",
      "min         1.000000\n",
      "25%       506.060000\n",
      "50%      1170.000000\n",
      "75%      6123.000000\n",
      "max      9806.000000\n",
      "Name: Tract, dtype: float64\n"
     ]
    },
    {
     "data": {
      "text/plain": [
       "(None, None, None)"
      ]
     },
     "execution_count": 24,
     "metadata": {},
     "output_type": "execute_result"
    }
   ],
   "source": [
    "# look at State code 4 Tract\n",
    "eda_func(data[data.FIPSStateCode == 4], 'Tract')"
   ]
  },
  {
   "cell_type": "code",
   "execution_count": 25,
   "metadata": {},
   "outputs": [
    {
     "data": {
      "text/plain": [
       "29    94\n",
       "19    84\n",
       "55    68\n",
       "17    19\n",
       "31    16\n",
       "46    15\n",
       "20    13\n",
       "18    12\n",
       "16     7\n",
       "42     6\n",
       "26     5\n",
       "21     5\n",
       "27     4\n",
       "50     4\n",
       "13     3\n",
       "8      3\n",
       "22     2\n",
       "47     2\n",
       "48     2\n",
       "53     1\n",
       "45     1\n",
       "51     1\n",
       "1      1\n",
       "Name: FIPSStateCode, dtype: int64"
      ]
     },
     "execution_count": 25,
     "metadata": {},
     "output_type": "execute_result"
    }
   ],
   "source": [
    "# look at tract code with most loans in the data set\n",
    "top_tract = data[data.Tract == 9601.00][['FIPSStateCode', 'FIPSCountyCode', 'MSA', 'FeatureID']]\n",
    "top_tract.FIPSStateCode.value_counts()"
   ]
  },
  {
   "cell_type": "markdown",
   "metadata": {},
   "source": [
    "###  Tract Notes\n",
    "* The tract can be paired with the State and county codes to create a GeoID code congruent with census.gov\n",
    "* The tract codes can be present in other states and counties since they reset"
   ]
  },
  {
   "cell_type": "code",
   "execution_count": 26,
   "metadata": {},
   "outputs": [
    {
     "data": {
      "text/plain": [
       "AssignedID\n",
       "2131406    24\n",
       "2131407    24\n",
       "2131408    51\n",
       "2131409    51\n",
       "2131410    24\n",
       "           ..\n",
       "2161350    40\n",
       "2161351    31\n",
       "2161352    19\n",
       "2161353    31\n",
       "2161354    31\n",
       "Name: FIPSStateCode, Length: 65703, dtype: int64"
      ]
     },
     "execution_count": 26,
     "metadata": {},
     "output_type": "execute_result"
    }
   ],
   "source": [
    "#assign dataframe for codes\n",
    "geoid = data[['FIPSStateCode', 'FIPSCountyCode', 'Tract']]\n",
    "geoid.FIPSStateCode"
   ]
  },
  {
   "cell_type": "code",
   "execution_count": 27,
   "metadata": {},
   "outputs": [],
   "source": [
    "#data.drop(labels=['GeoID'], axis=1, inplace=True)"
   ]
  },
  {
   "cell_type": "code",
   "execution_count": 28,
   "metadata": {},
   "outputs": [
    {
     "data": {
      "text/html": [
       "<div>\n",
       "<style scoped>\n",
       "    .dataframe tbody tr th:only-of-type {\n",
       "        vertical-align: middle;\n",
       "    }\n",
       "\n",
       "    .dataframe tbody tr th {\n",
       "        vertical-align: top;\n",
       "    }\n",
       "\n",
       "    .dataframe thead th {\n",
       "        text-align: right;\n",
       "    }\n",
       "</style>\n",
       "<table border=\"1\" class=\"dataframe\">\n",
       "  <thead>\n",
       "    <tr style=\"text-align: right;\">\n",
       "      <th></th>\n",
       "      <th>Bank</th>\n",
       "      <th>FIPSStateCode</th>\n",
       "      <th>FIPSCountyCode</th>\n",
       "      <th>MSA</th>\n",
       "      <th>FeatureID</th>\n",
       "      <th>Tract</th>\n",
       "      <th>MinPer</th>\n",
       "      <th>TraMedY</th>\n",
       "      <th>LocMedY</th>\n",
       "      <th>Tractrat</th>\n",
       "      <th>...</th>\n",
       "      <th>Corace3</th>\n",
       "      <th>Corace4</th>\n",
       "      <th>Corace5</th>\n",
       "      <th>HOEPA</th>\n",
       "      <th>LienStatus</th>\n",
       "      <th>SpcHsgGoals</th>\n",
       "      <th>FedFinStbltyPlan</th>\n",
       "      <th>AcqTyp</th>\n",
       "      <th>GSEREO</th>\n",
       "      <th>GeoID</th>\n",
       "    </tr>\n",
       "    <tr>\n",
       "      <th>AssignedID</th>\n",
       "      <th></th>\n",
       "      <th></th>\n",
       "      <th></th>\n",
       "      <th></th>\n",
       "      <th></th>\n",
       "      <th></th>\n",
       "      <th></th>\n",
       "      <th></th>\n",
       "      <th></th>\n",
       "      <th></th>\n",
       "      <th></th>\n",
       "      <th></th>\n",
       "      <th></th>\n",
       "      <th></th>\n",
       "      <th></th>\n",
       "      <th></th>\n",
       "      <th></th>\n",
       "      <th></th>\n",
       "      <th></th>\n",
       "      <th></th>\n",
       "      <th></th>\n",
       "    </tr>\n",
       "  </thead>\n",
       "  <tbody>\n",
       "    <tr>\n",
       "      <td>2131406</td>\n",
       "      <td>Atlanta</td>\n",
       "      <td>24</td>\n",
       "      <td>21</td>\n",
       "      <td>47900</td>\n",
       "      <td>9999999999</td>\n",
       "      <td>7512.01</td>\n",
       "      <td>29.85</td>\n",
       "      <td>93261</td>\n",
       "      <td>108141</td>\n",
       "      <td>0.8624</td>\n",
       "      <td>...</td>\n",
       "      <td>6</td>\n",
       "      <td>6</td>\n",
       "      <td>6</td>\n",
       "      <td>2</td>\n",
       "      <td>1</td>\n",
       "      <td>2</td>\n",
       "      <td>2</td>\n",
       "      <td>1</td>\n",
       "      <td>2</td>\n",
       "      <td>2.421751e+07</td>\n",
       "    </tr>\n",
       "    <tr>\n",
       "      <td>2131407</td>\n",
       "      <td>Atlanta</td>\n",
       "      <td>24</td>\n",
       "      <td>17</td>\n",
       "      <td>47900</td>\n",
       "      <td>9999999999</td>\n",
       "      <td>8509.04</td>\n",
       "      <td>67.24</td>\n",
       "      <td>112623</td>\n",
       "      <td>108141</td>\n",
       "      <td>1.0414</td>\n",
       "      <td>...</td>\n",
       "      <td>6</td>\n",
       "      <td>6</td>\n",
       "      <td>6</td>\n",
       "      <td>2</td>\n",
       "      <td>1</td>\n",
       "      <td>2</td>\n",
       "      <td>2</td>\n",
       "      <td>1</td>\n",
       "      <td>2</td>\n",
       "      <td>2.417851e+07</td>\n",
       "    </tr>\n",
       "    <tr>\n",
       "      <td>2131408</td>\n",
       "      <td>Atlanta</td>\n",
       "      <td>51</td>\n",
       "      <td>153</td>\n",
       "      <td>47900</td>\n",
       "      <td>9999999999</td>\n",
       "      <td>9012.36</td>\n",
       "      <td>40.76</td>\n",
       "      <td>140156</td>\n",
       "      <td>108141</td>\n",
       "      <td>1.2960</td>\n",
       "      <td>...</td>\n",
       "      <td>6</td>\n",
       "      <td>6</td>\n",
       "      <td>6</td>\n",
       "      <td>2</td>\n",
       "      <td>1</td>\n",
       "      <td>2</td>\n",
       "      <td>2</td>\n",
       "      <td>1</td>\n",
       "      <td>2</td>\n",
       "      <td>5.115390e+08</td>\n",
       "    </tr>\n",
       "    <tr>\n",
       "      <td>2131409</td>\n",
       "      <td>Atlanta</td>\n",
       "      <td>51</td>\n",
       "      <td>59</td>\n",
       "      <td>47900</td>\n",
       "      <td>9999999999</td>\n",
       "      <td>4221.02</td>\n",
       "      <td>75.97</td>\n",
       "      <td>89250</td>\n",
       "      <td>108141</td>\n",
       "      <td>0.8253</td>\n",
       "      <td>...</td>\n",
       "      <td>8</td>\n",
       "      <td>8</td>\n",
       "      <td>8</td>\n",
       "      <td>2</td>\n",
       "      <td>1</td>\n",
       "      <td>2</td>\n",
       "      <td>2</td>\n",
       "      <td>1</td>\n",
       "      <td>2</td>\n",
       "      <td>5.159422e+07</td>\n",
       "    </tr>\n",
       "    <tr>\n",
       "      <td>2131410</td>\n",
       "      <td>Atlanta</td>\n",
       "      <td>24</td>\n",
       "      <td>5</td>\n",
       "      <td>12580</td>\n",
       "      <td>9999999999</td>\n",
       "      <td>4924.02</td>\n",
       "      <td>64.56</td>\n",
       "      <td>81397</td>\n",
       "      <td>87788</td>\n",
       "      <td>0.9272</td>\n",
       "      <td>...</td>\n",
       "      <td>8</td>\n",
       "      <td>8</td>\n",
       "      <td>8</td>\n",
       "      <td>2</td>\n",
       "      <td>1</td>\n",
       "      <td>2</td>\n",
       "      <td>2</td>\n",
       "      <td>1</td>\n",
       "      <td>2</td>\n",
       "      <td>2.454924e+06</td>\n",
       "    </tr>\n",
       "  </tbody>\n",
       "</table>\n",
       "<p>5 rows × 81 columns</p>\n",
       "</div>"
      ],
      "text/plain": [
       "               Bank FIPSStateCode FIPSCountyCode    MSA   FeatureID    Tract  \\\n",
       "AssignedID                                                                     \n",
       "2131406     Atlanta            24             21  47900  9999999999  7512.01   \n",
       "2131407     Atlanta            24             17  47900  9999999999  8509.04   \n",
       "2131408     Atlanta            51            153  47900  9999999999  9012.36   \n",
       "2131409     Atlanta            51             59  47900  9999999999  4221.02   \n",
       "2131410     Atlanta            24              5  12580  9999999999  4924.02   \n",
       "\n",
       "            MinPer  TraMedY  LocMedY  Tractrat  ...  Corace3  Corace4  \\\n",
       "AssignedID                                      ...                     \n",
       "2131406      29.85    93261   108141    0.8624  ...        6        6   \n",
       "2131407      67.24   112623   108141    1.0414  ...        6        6   \n",
       "2131408      40.76   140156   108141    1.2960  ...        6        6   \n",
       "2131409      75.97    89250   108141    0.8253  ...        8        8   \n",
       "2131410      64.56    81397    87788    0.9272  ...        8        8   \n",
       "\n",
       "            Corace5  HOEPA  LienStatus  SpcHsgGoals  FedFinStbltyPlan  AcqTyp  \\\n",
       "AssignedID                                                                      \n",
       "2131406           6      2           1            2                 2       1   \n",
       "2131407           6      2           1            2                 2       1   \n",
       "2131408           6      2           1            2                 2       1   \n",
       "2131409           8      2           1            2                 2       1   \n",
       "2131410           8      2           1            2                 2       1   \n",
       "\n",
       "            GSEREO         GeoID  \n",
       "AssignedID                        \n",
       "2131406          2  2.421751e+07  \n",
       "2131407          2  2.417851e+07  \n",
       "2131408          2  5.115390e+08  \n",
       "2131409          2  5.159422e+07  \n",
       "2131410          2  2.454924e+06  \n",
       "\n",
       "[5 rows x 81 columns]"
      ]
     },
     "execution_count": 28,
     "metadata": {},
     "output_type": "execute_result"
    }
   ],
   "source": [
    "cols = ['FIPSStateCode', 'FIPSCountyCode', 'Tract']\n",
    "data[cols] = data[cols].astype(str)\n",
    "\n",
    "\n",
    "# combine State, County, and tract Codes into GeoID col\n",
    "\n",
    "\n",
    "data[\"GeoID\"] = data[cols].apply(lambda x: ''.join(x.values.astype(str)), axis=1)\n",
    "data.GeoID = data.GeoID.astype(float)\n",
    "data.head()"
   ]
  },
  {
   "cell_type": "markdown",
   "metadata": {},
   "source": [
    "### Geographic data\n",
    "\n",
    "* The loans in this dataset have columns that represent the location of the property.  There are no physical addresses but the location is as finite as county subdivisions.  I want to see if I can get clusters of locations that can present the data in regions.  This will be further explored in feature engineering.  This is a good place to create a list ofthe colun names that will be used for the geographic feature.\n"
   ]
  },
  {
   "cell_type": "code",
   "execution_count": 29,
   "metadata": {},
   "outputs": [],
   "source": [
    "geo_cols = ['Bank', 'FIPSStateCode', 'FIPSCountyCode', 'MSA', 'FeatureID', 'Tract', 'GeoID']"
   ]
  },
  {
   "cell_type": "code",
   "execution_count": 30,
   "metadata": {},
   "outputs": [
    {
     "data": {
      "text/html": [
       "<div>\n",
       "<style scoped>\n",
       "    .dataframe tbody tr th:only-of-type {\n",
       "        vertical-align: middle;\n",
       "    }\n",
       "\n",
       "    .dataframe tbody tr th {\n",
       "        vertical-align: top;\n",
       "    }\n",
       "\n",
       "    .dataframe thead th {\n",
       "        text-align: right;\n",
       "    }\n",
       "</style>\n",
       "<table border=\"1\" class=\"dataframe\">\n",
       "  <thead>\n",
       "    <tr style=\"text-align: right;\">\n",
       "      <th></th>\n",
       "      <th>GeoID</th>\n",
       "      <th>FIPSStateCode</th>\n",
       "      <th>FIPSCountyCode</th>\n",
       "      <th>Tract</th>\n",
       "    </tr>\n",
       "    <tr>\n",
       "      <th>AssignedID</th>\n",
       "      <th></th>\n",
       "      <th></th>\n",
       "      <th></th>\n",
       "      <th></th>\n",
       "    </tr>\n",
       "  </thead>\n",
       "  <tbody>\n",
       "    <tr>\n",
       "      <td>2131458</td>\n",
       "      <td>1.889429e+06</td>\n",
       "      <td>18</td>\n",
       "      <td>89</td>\n",
       "      <td>429.02</td>\n",
       "    </tr>\n",
       "    <tr>\n",
       "      <td>2131461</td>\n",
       "      <td>1.731824e+07</td>\n",
       "      <td>17</td>\n",
       "      <td>31</td>\n",
       "      <td>8240.05</td>\n",
       "    </tr>\n",
       "    <tr>\n",
       "      <td>2131624</td>\n",
       "      <td>1.719788e+08</td>\n",
       "      <td>17</td>\n",
       "      <td>197</td>\n",
       "      <td>8803.12</td>\n",
       "    </tr>\n",
       "    <tr>\n",
       "      <td>2188798</td>\n",
       "      <td>1.731140e+07</td>\n",
       "      <td>17</td>\n",
       "      <td>31</td>\n",
       "      <td>1404.0</td>\n",
       "    </tr>\n",
       "    <tr>\n",
       "      <td>2188872</td>\n",
       "      <td>1.743842e+07</td>\n",
       "      <td>17</td>\n",
       "      <td>43</td>\n",
       "      <td>8418.02</td>\n",
       "    </tr>\n",
       "    <tr>\n",
       "      <td>...</td>\n",
       "      <td>...</td>\n",
       "      <td>...</td>\n",
       "      <td>...</td>\n",
       "      <td>...</td>\n",
       "    </tr>\n",
       "    <tr>\n",
       "      <td>2159496</td>\n",
       "      <td>1.731704e+06</td>\n",
       "      <td>17</td>\n",
       "      <td>31</td>\n",
       "      <td>704.0</td>\n",
       "    </tr>\n",
       "    <tr>\n",
       "      <td>2159677</td>\n",
       "      <td>1.731561e+07</td>\n",
       "      <td>17</td>\n",
       "      <td>31</td>\n",
       "      <td>5610.0</td>\n",
       "    </tr>\n",
       "    <tr>\n",
       "      <td>2159711</td>\n",
       "      <td>1.711187e+08</td>\n",
       "      <td>17</td>\n",
       "      <td>111</td>\n",
       "      <td>8711.06</td>\n",
       "    </tr>\n",
       "    <tr>\n",
       "      <td>2159914</td>\n",
       "      <td>1.731805e+07</td>\n",
       "      <td>17</td>\n",
       "      <td>31</td>\n",
       "      <td>8048.09</td>\n",
       "    </tr>\n",
       "    <tr>\n",
       "      <td>2160932</td>\n",
       "      <td>1.731818e+06</td>\n",
       "      <td>17</td>\n",
       "      <td>31</td>\n",
       "      <td>818.0</td>\n",
       "    </tr>\n",
       "  </tbody>\n",
       "</table>\n",
       "<p>2566 rows × 4 columns</p>\n",
       "</div>"
      ],
      "text/plain": [
       "                   GeoID FIPSStateCode FIPSCountyCode    Tract\n",
       "AssignedID                                                    \n",
       "2131458     1.889429e+06            18             89   429.02\n",
       "2131461     1.731824e+07            17             31  8240.05\n",
       "2131624     1.719788e+08            17            197  8803.12\n",
       "2188798     1.731140e+07            17             31   1404.0\n",
       "2188872     1.743842e+07            17             43  8418.02\n",
       "...                  ...           ...            ...      ...\n",
       "2159496     1.731704e+06            17             31    704.0\n",
       "2159677     1.731561e+07            17             31   5610.0\n",
       "2159711     1.711187e+08            17            111  8711.06\n",
       "2159914     1.731805e+07            17             31  8048.09\n",
       "2160932     1.731818e+06            17             31    818.0\n",
       "\n",
       "[2566 rows x 4 columns]"
      ]
     },
     "execution_count": 30,
     "metadata": {},
     "output_type": "execute_result"
    }
   ],
   "source": [
    "data[data.MSA == 16980][['GeoID', 'FIPSStateCode', 'FIPSCountyCode', 'Tract']]"
   ]
  },
  {
   "cell_type": "markdown",
   "metadata": {},
   "source": [
    "### GeoID\n",
    "* The code above shows how the MSA relates to the GeoID and state code.  The MSA can cover different states and might be a good feature for organizing by region."
   ]
  },
  {
   "cell_type": "markdown",
   "metadata": {},
   "source": [
    "# Census Data and  Income Ratios\n",
    "* The next few columns in this data set contain census data on income and demographics.  This is another opportunity to try and use unsupervised learning to do some dimensionality reduction.  "
   ]
  },
  {
   "cell_type": "markdown",
   "metadata": {},
   "source": [
    "###  MinPer\n",
    "* Look through the census tract minority percentage"
   ]
  },
  {
   "cell_type": "code",
   "execution_count": 31,
   "metadata": {},
   "outputs": [
    {
     "name": "stdout",
     "output_type": "stream",
     "text": [
      "Value Counts:\n",
      " 8.80     137\n",
      "3.65     130\n",
      "14.47    113\n",
      "92.90    100\n",
      "3.67      91\n",
      "        ... \n",
      "91.76      1\n",
      "27.51      1\n",
      "94.51      1\n",
      "54.31      1\n",
      "23.81      1\n",
      "Name: MinPer, Length: 7289, dtype: int64\n",
      "Number of uniques:\n",
      " 7289\n",
      "Summary Statistics:\n",
      " count    65703.000000\n",
      "mean        19.542209\n",
      "std         19.642892\n",
      "min          0.000000\n",
      "25%          5.950000\n",
      "50%         12.540000\n",
      "75%         25.620000\n",
      "max        100.000000\n",
      "Name: MinPer, dtype: float64\n"
     ]
    },
    {
     "data": {
      "text/plain": [
       "(None, None, None)"
      ]
     },
     "execution_count": 31,
     "metadata": {},
     "output_type": "execute_result"
    }
   ],
   "source": [
    "eda_func(data, 'MinPer')"
   ]
  },
  {
   "cell_type": "code",
   "execution_count": 32,
   "metadata": {},
   "outputs": [
    {
     "data": {
      "text/html": [
       "<div>\n",
       "<style scoped>\n",
       "    .dataframe tbody tr th:only-of-type {\n",
       "        vertical-align: middle;\n",
       "    }\n",
       "\n",
       "    .dataframe tbody tr th {\n",
       "        vertical-align: top;\n",
       "    }\n",
       "\n",
       "    .dataframe thead th {\n",
       "        text-align: right;\n",
       "    }\n",
       "</style>\n",
       "<table border=\"1\" class=\"dataframe\">\n",
       "  <thead>\n",
       "    <tr style=\"text-align: right;\">\n",
       "      <th></th>\n",
       "      <th>GeoID</th>\n",
       "      <th>MinPer</th>\n",
       "    </tr>\n",
       "    <tr>\n",
       "      <th>AssignedID</th>\n",
       "      <th></th>\n",
       "      <th></th>\n",
       "    </tr>\n",
       "  </thead>\n",
       "  <tbody>\n",
       "    <tr>\n",
       "      <td>2131406</td>\n",
       "      <td>2.421751e+07</td>\n",
       "      <td>29.85</td>\n",
       "    </tr>\n",
       "    <tr>\n",
       "      <td>2131407</td>\n",
       "      <td>2.417851e+07</td>\n",
       "      <td>67.24</td>\n",
       "    </tr>\n",
       "    <tr>\n",
       "      <td>2131408</td>\n",
       "      <td>5.115390e+08</td>\n",
       "      <td>40.76</td>\n",
       "    </tr>\n",
       "    <tr>\n",
       "      <td>2131409</td>\n",
       "      <td>5.159422e+07</td>\n",
       "      <td>75.97</td>\n",
       "    </tr>\n",
       "    <tr>\n",
       "      <td>2131410</td>\n",
       "      <td>2.454924e+06</td>\n",
       "      <td>64.56</td>\n",
       "    </tr>\n",
       "    <tr>\n",
       "      <td>...</td>\n",
       "      <td>...</td>\n",
       "      <td>...</td>\n",
       "    </tr>\n",
       "    <tr>\n",
       "      <td>2161350</td>\n",
       "      <td>4.014375e+06</td>\n",
       "      <td>22.82</td>\n",
       "    </tr>\n",
       "    <tr>\n",
       "      <td>2161351</td>\n",
       "      <td>3.110937e+06</td>\n",
       "      <td>7.61</td>\n",
       "    </tr>\n",
       "    <tr>\n",
       "      <td>2161352</td>\n",
       "      <td>1.913396e+08</td>\n",
       "      <td>3.69</td>\n",
       "    </tr>\n",
       "    <tr>\n",
       "      <td>2161353</td>\n",
       "      <td>3.115311e+07</td>\n",
       "      <td>10.16</td>\n",
       "    </tr>\n",
       "    <tr>\n",
       "      <td>2161354</td>\n",
       "      <td>3.117998e+08</td>\n",
       "      <td>9.02</td>\n",
       "    </tr>\n",
       "  </tbody>\n",
       "</table>\n",
       "<p>65703 rows × 2 columns</p>\n",
       "</div>"
      ],
      "text/plain": [
       "                   GeoID  MinPer\n",
       "AssignedID                      \n",
       "2131406     2.421751e+07   29.85\n",
       "2131407     2.417851e+07   67.24\n",
       "2131408     5.115390e+08   40.76\n",
       "2131409     5.159422e+07   75.97\n",
       "2131410     2.454924e+06   64.56\n",
       "...                  ...     ...\n",
       "2161350     4.014375e+06   22.82\n",
       "2161351     3.110937e+06    7.61\n",
       "2161352     1.913396e+08    3.69\n",
       "2161353     3.115311e+07   10.16\n",
       "2161354     3.117998e+08    9.02\n",
       "\n",
       "[65703 rows x 2 columns]"
      ]
     },
     "execution_count": 32,
     "metadata": {},
     "output_type": "execute_result"
    }
   ],
   "source": [
    "data[['GeoID', 'MinPer']]"
   ]
  },
  {
   "cell_type": "code",
   "execution_count": 33,
   "metadata": {},
   "outputs": [
    {
     "data": {
      "text/plain": [
       "<matplotlib.axes._subplots.AxesSubplot at 0x7fdfb53ae630>"
      ]
     },
     "execution_count": 33,
     "metadata": {},
     "output_type": "execute_result"
    },
    {
     "data": {
      "image/png": "[encoded data removed]",
      "text/plain": [
       "<Figure size 432x288 with 1 Axes>"
      ]
     },
     "metadata": {
      "needs_background": "light"
     },
     "output_type": "display_data"
    }
   ],
   "source": [
    "#look at distribution of Minority percentage\n",
    "sns.distplot(data.MinPer)"
   ]
  },
  {
   "cell_type": "code",
   "execution_count": 34,
   "metadata": {},
   "outputs": [
    {
     "data": {
      "text/plain": [
       "<matplotlib.axes._subplots.AxesSubplot at 0x7fdfb649bdd8>"
      ]
     },
     "execution_count": 34,
     "metadata": {},
     "output_type": "execute_result"
    },
    {
     "data": {
      "image/png": "[encoded data removed]",
      "text/plain": [
       "<Figure size 432x288 with 1 Axes>"
      ]
     },
     "metadata": {
      "needs_background": "light"
     },
     "output_type": "display_data"
    }
   ],
   "source": [
    "#plot mean minority percentage by bank district\n",
    "bank_minper = data.groupby('Bank')['MinPer'].mean()\n",
    "\n",
    "bank_minper.plot.bar()"
   ]
  },
  {
   "cell_type": "code",
   "execution_count": 35,
   "metadata": {},
   "outputs": [
    {
     "data": {
      "text/plain": [
       "<matplotlib.axes._subplots.AxesSubplot at 0x7fdfb6356710>"
      ]
     },
     "execution_count": 35,
     "metadata": {},
     "output_type": "execute_result"
    },
    {
     "data": {
      "image/png": "[encoded data removed]",
      "text/plain": [
       "<Figure size 432x288 with 1 Axes>"
      ]
     },
     "metadata": {
      "needs_background": "light"
     },
     "output_type": "display_data"
    }
   ],
   "source": [
    "#plot distribution of minority percentage by MSA\n",
    "msa_minper = data.groupby('MSA')['MinPer'].mean()\n",
    "sns.distplot(msa_minper)"
   ]
  },
  {
   "cell_type": "markdown",
   "metadata": {},
   "source": [
    "### Minority Percentage notes\n",
    "* Most of the loans are in census tracts with a minority percentage of 5-25%\n",
    "* Most of the bank regions have a similar representation of minority percentage at around 20%\n",
    "* Theres a few districts that have close to 50-50 representation in minority percentage."
   ]
  },
  {
   "cell_type": "code",
   "execution_count": 36,
   "metadata": {},
   "outputs": [],
   "source": [
    "# since the minority percentage relates more to the area, it will get placed with geograpic data\n",
    "geo_cols.append('MinPer')"
   ]
  },
  {
   "cell_type": "markdown",
   "metadata": {},
   "source": [
    "###  Tract Median Family Income(Whole Dollars)"
   ]
  },
  {
   "cell_type": "code",
   "execution_count": 37,
   "metadata": {},
   "outputs": [
    {
     "name": "stdout",
     "output_type": "stream",
     "text": [
      "Value Counts:\n",
      " 61250     99\n",
      "105766    81\n",
      "66250     80\n",
      "73750     68\n",
      "70000     68\n",
      "          ..\n",
      "107560     1\n",
      "62466      1\n",
      "42095      1\n",
      "75600      1\n",
      "65946      1\n",
      "Name: TraMedY, Length: 20489, dtype: int64\n",
      "Number of uniques:\n",
      " 20489\n",
      "Summary Statistics:\n",
      " count     65703.000000\n",
      "mean      83313.155411\n",
      "std       29989.138381\n",
      "min           0.000000\n",
      "25%       62375.000000\n",
      "50%       77318.000000\n",
      "75%       99719.500000\n",
      "max      250001.000000\n",
      "Name: TraMedY, dtype: float64\n"
     ]
    },
    {
     "data": {
      "text/plain": [
       "(None, None, None)"
      ]
     },
     "execution_count": 37,
     "metadata": {},
     "output_type": "execute_result"
    }
   ],
   "source": [
    "#look at tract median family income\n",
    "eda_func(data, 'TraMedY')"
   ]
  },
  {
   "cell_type": "code",
   "execution_count": 38,
   "metadata": {},
   "outputs": [
    {
     "data": {
      "text/plain": [
       "<matplotlib.axes._subplots.AxesSubplot at 0x7fdfb620d668>"
      ]
     },
     "execution_count": 38,
     "metadata": {},
     "output_type": "execute_result"
    },
    {
     "data": {
      "image/png": "[encoded data removed]",
      "text/plain": [
       "<Figure size 432x288 with 1 Axes>"
      ]
     },
     "metadata": {
      "needs_background": "light"
     },
     "output_type": "display_data"
    }
   ],
   "source": [
    "# look at the distribution of TraMedY\n",
    "sns.distplot(data.TraMedY)"
   ]
  },
  {
   "cell_type": "code",
   "execution_count": 39,
   "metadata": {},
   "outputs": [
    {
     "data": {
      "text/plain": [
       "<matplotlib.axes._subplots.AxesSubplot at 0x7fdfb6041668>"
      ]
     },
     "execution_count": 39,
     "metadata": {},
     "output_type": "execute_result"
    },
    {
     "data": {
      "image/png": "[encoded data removed]",
      "text/plain": [
       "<Figure size 432x288 with 1 Axes>"
      ]
     },
     "metadata": {
      "needs_background": "light"
     },
     "output_type": "display_data"
    }
   ],
   "source": [
    "# plot mean tract median income by bank district\n",
    "tr_med_inc = data.groupby('Bank')['TraMedY'].mean()\n",
    "tr_med_inc.plot.bar()"
   ]
  },
  {
   "cell_type": "code",
   "execution_count": 40,
   "metadata": {},
   "outputs": [],
   "source": [
    "income_cols.append('TraMedY')"
   ]
  },
  {
   "cell_type": "markdown",
   "metadata": {},
   "source": [
    "###  Local Area Median Income(Whole Dollars)"
   ]
  },
  {
   "cell_type": "code",
   "execution_count": 41,
   "metadata": {},
   "outputs": [
    {
     "name": "stdout",
     "output_type": "stream",
     "text": [
      "Value Counts:\n",
      " 70589    2537\n",
      "78092    2040\n",
      "74661    1331\n",
      "66803    1303\n",
      "70221    1274\n",
      "         ... \n",
      "65785       1\n",
      "53119       1\n",
      "66731       1\n",
      "52946       1\n",
      "66933       1\n",
      "Name: LocMedY, Length: 1402, dtype: int64\n",
      "Number of uniques:\n",
      " 1402\n",
      "Summary Statistics:\n",
      " count     65703.000000\n",
      "mean      70534.650199\n",
      "std       12351.727149\n",
      "min       18666.000000\n",
      "25%       62393.000000\n",
      "50%       69434.000000\n",
      "75%       75898.000000\n",
      "max      127500.000000\n",
      "Name: LocMedY, dtype: float64\n"
     ]
    },
    {
     "data": {
      "text/plain": [
       "(None, None, None)"
      ]
     },
     "execution_count": 41,
     "metadata": {},
     "output_type": "execute_result"
    }
   ],
   "source": [
    "# look at LocMedY\n",
    "eda_func(data, 'LocMedY')"
   ]
  },
  {
   "cell_type": "code",
   "execution_count": 42,
   "metadata": {},
   "outputs": [
    {
     "data": {
      "text/plain": [
       "<matplotlib.axes._subplots.AxesSubplot at 0x7fdfb664bdd8>"
      ]
     },
     "execution_count": 42,
     "metadata": {},
     "output_type": "execute_result"
    },
    {
     "data": {
      "image/png": "[encoded data removed]",
      "text/plain": [
       "<Figure size 432x288 with 1 Axes>"
      ]
     },
     "metadata": {
      "needs_background": "light"
     },
     "output_type": "display_data"
    }
   ],
   "source": [
    "sns.distplot(data.LocMedY)"
   ]
  },
  {
   "cell_type": "code",
   "execution_count": 43,
   "metadata": {},
   "outputs": [
    {
     "data": {
      "text/plain": [
       "<matplotlib.axes._subplots.AxesSubplot at 0x7fdfb6670668>"
      ]
     },
     "execution_count": 43,
     "metadata": {},
     "output_type": "execute_result"
    },
    {
     "data": {
      "image/png": "[encoded data removed]",
      "text/plain": [
       "<Figure size 432x288 with 1 Axes>"
      ]
     },
     "metadata": {
      "needs_background": "light"
     },
     "output_type": "display_data"
    }
   ],
   "source": [
    "#group Local area Median income with bank districts\n",
    "loc_med_bank = data.groupby('Bank')['LocMedY'].mean()\n",
    "loc_med_bank.plot.bar()"
   ]
  },
  {
   "cell_type": "code",
   "execution_count": 44,
   "metadata": {},
   "outputs": [],
   "source": [
    "income_cols.append('LocMedY')"
   ]
  },
  {
   "cell_type": "markdown",
   "metadata": {},
   "source": [
    "### Tract Income Ratio"
   ]
  },
  {
   "cell_type": "code",
   "execution_count": 45,
   "metadata": {},
   "outputs": [
    {
     "name": "stdout",
     "output_type": "stream",
     "text": [
      "Value Counts:\n",
      " 1.0000    311\n",
      "1.0600    275\n",
      "0.9300    242\n",
      "1.3200    162\n",
      "0.6700    162\n",
      "         ... \n",
      "1.7117      1\n",
      "0.5334      1\n",
      "1.7442      1\n",
      "1.6210      1\n",
      "0.8083      1\n",
      "Name: Tractrat, Length: 11637, dtype: int64\n",
      "Number of uniques:\n",
      " 11637\n",
      "Summary Statistics:\n",
      " count    65703.000000\n",
      "mean         1.171703\n",
      "std          0.370047\n",
      "min          0.000000\n",
      "25%          0.934100\n",
      "50%          1.110000\n",
      "75%          1.360000\n",
      "max          3.903700\n",
      "Name: Tractrat, dtype: float64\n"
     ]
    },
    {
     "data": {
      "text/plain": [
       "(None, None, None)"
      ]
     },
     "execution_count": 45,
     "metadata": {},
     "output_type": "execute_result"
    }
   ],
   "source": [
    "# look at Tractrat \n",
    "# tract income ratio = borrower's income / local area median income\n",
    "eda_func(data, 'Tractrat')"
   ]
  },
  {
   "cell_type": "code",
   "execution_count": 46,
   "metadata": {},
   "outputs": [
    {
     "data": {
      "text/plain": [
       "<matplotlib.axes._subplots.AxesSubplot at 0x7fdfb573f240>"
      ]
     },
     "execution_count": 46,
     "metadata": {},
     "output_type": "execute_result"
    },
    {
     "data": {
      "image/png": "[encoded data removed]",
      "text/plain": [
       "<Figure size 432x288 with 1 Axes>"
      ]
     },
     "metadata": {
      "needs_background": "light"
     },
     "output_type": "display_data"
    }
   ],
   "source": [
    "sns.distplot(data.Tractrat)"
   ]
  },
  {
   "cell_type": "code",
   "execution_count": 47,
   "metadata": {},
   "outputs": [],
   "source": [
    "income_cols.append('Tractrat')"
   ]
  },
  {
   "cell_type": "markdown",
   "metadata": {},
   "source": [
    "###  Income\n"
   ]
  },
  {
   "cell_type": "code",
   "execution_count": 48,
   "metadata": {},
   "outputs": [
    {
     "name": "stdout",
     "output_type": "stream",
     "text": [
      "Value Counts:\n",
      " 120000    176\n",
      "60000     171\n",
      "90000     168\n",
      "75000     144\n",
      "99996     120\n",
      "         ... \n",
      "160872      1\n",
      "148590      1\n",
      "179313      1\n",
      "193656      1\n",
      "262144      1\n",
      "Name: Income, Length: 34337, dtype: int64\n",
      "Number of uniques:\n",
      " 34337\n",
      "Summary Statistics:\n",
      " count    6.570300e+04\n",
      "mean     1.126889e+05\n",
      "std      1.021151e+05\n",
      "min      1.100400e+04\n",
      "25%      6.349200e+04\n",
      "50%      9.500000e+04\n",
      "75%      1.370350e+05\n",
      "max      9.614088e+06\n",
      "Name: Income, dtype: float64\n"
     ]
    },
    {
     "data": {
      "text/plain": [
       "(None, None, None)"
      ]
     },
     "execution_count": 48,
     "metadata": {},
     "output_type": "execute_result"
    }
   ],
   "source": [
    "# look at Income\n",
    "# The Income is the total borrower's income in whole dollars\n",
    "eda_func(data, 'Income')"
   ]
  },
  {
   "cell_type": "code",
   "execution_count": 49,
   "metadata": {},
   "outputs": [
    {
     "data": {
      "text/plain": [
       "<matplotlib.axes._subplots.AxesSubplot at 0x7fdfb5691940>"
      ]
     },
     "execution_count": 49,
     "metadata": {},
     "output_type": "execute_result"
    },
    {
     "data": {
      "image/png": "[encoded data removed]",
      "text/plain": [
       "<Figure size 432x288 with 1 Axes>"
      ]
     },
     "metadata": {
      "needs_background": "light"
     },
     "output_type": "display_data"
    }
   ],
   "source": [
    "# plot distribution of income\n",
    "sns.distplot(data.Income)"
   ]
  },
  {
   "cell_type": "markdown",
   "metadata": {},
   "source": [
    "###  Heavily skewed\n",
    "The heavy skew can be fixed by log transform"
   ]
  },
  {
   "cell_type": "code",
   "execution_count": 50,
   "metadata": {},
   "outputs": [
    {
     "data": {
      "text/plain": [
       "<matplotlib.axes._subplots.AxesSubplot at 0x7fdfb687e470>"
      ]
     },
     "execution_count": 50,
     "metadata": {},
     "output_type": "execute_result"
    },
    {
     "data": {
      "image/png": "[encoded data removed]",
      "text/plain": [
       "<Figure size 432x288 with 1 Axes>"
      ]
     },
     "metadata": {
      "needs_background": "light"
     },
     "output_type": "display_data"
    }
   ],
   "source": [
    "# log transform income to look at distribution\n",
    "inc_raw = data.Income\n",
    "data.Income = data.Income.apply(lambda x: np.log(x))\n",
    "sns.distplot(data.Income)\n"
   ]
  },
  {
   "cell_type": "code",
   "execution_count": 51,
   "metadata": {},
   "outputs": [],
   "source": [
    "income_cols.append('Income')"
   ]
  },
  {
   "cell_type": "markdown",
   "metadata": {},
   "source": [
    "###  Income notes\n",
    "Log transformation on the income data may benefit various models used"
   ]
  },
  {
   "cell_type": "markdown",
   "metadata": {},
   "source": [
    "###  Area Median Family Income in Whole dollars\n"
   ]
  },
  {
   "cell_type": "code",
   "execution_count": 52,
   "metadata": {},
   "outputs": [
    {
     "name": "stdout",
     "output_type": "stream",
     "text": [
      "Value Counts:\n",
      " 84600     2040\n",
      "67800     1855\n",
      "69400     1573\n",
      "80000     1420\n",
      "69300     1410\n",
      "          ... \n",
      "78800        1\n",
      "47200        1\n",
      "104900       1\n",
      "97100        1\n",
      "45900        1\n",
      "Name: CurAreY, Length: 457, dtype: int64\n",
      "Number of uniques:\n",
      " 457\n",
      "Summary Statistics:\n",
      " count     65703.000000\n",
      "mean      75020.088885\n",
      "std       13510.576005\n",
      "min       18600.000000\n",
      "25%       65800.000000\n",
      "50%       73600.000000\n",
      "75%       80600.000000\n",
      "max      134800.000000\n",
      "Name: CurAreY, dtype: float64\n"
     ]
    },
    {
     "data": {
      "text/plain": [
       "(None, None, None)"
      ]
     },
     "execution_count": 52,
     "metadata": {},
     "output_type": "execute_result"
    }
   ],
   "source": [
    "# look at CurAreY\n",
    "# Essentially represents median family income for msa or non msa\n",
    "\n",
    "eda_func(data, 'CurAreY')"
   ]
  },
  {
   "cell_type": "code",
   "execution_count": 53,
   "metadata": {},
   "outputs": [
    {
     "data": {
      "text/plain": [
       "<matplotlib.axes._subplots.AxesSubplot at 0x7fdfb6789400>"
      ]
     },
     "execution_count": 53,
     "metadata": {},
     "output_type": "execute_result"
    },
    {
     "data": {
      "image/png": "[encoded data removed]",
      "text/plain": [
       "<Figure size 432x288 with 1 Axes>"
      ]
     },
     "metadata": {
      "needs_background": "light"
     },
     "output_type": "display_data"
    }
   ],
   "source": [
    "sns.distplot(data.CurAreY)"
   ]
  },
  {
   "cell_type": "code",
   "execution_count": 54,
   "metadata": {},
   "outputs": [],
   "source": [
    "income_cols.append('CurAreY')"
   ]
  },
  {
   "cell_type": "markdown",
   "metadata": {},
   "source": [
    "###  Borrower Income Ratio"
   ]
  },
  {
   "cell_type": "code",
   "execution_count": 55,
   "metadata": {},
   "outputs": [
    {
     "name": "stdout",
     "output_type": "stream",
     "text": [
      "Value Counts:\n",
      " 1.5625    16\n",
      "0.8535    15\n",
      "1.1380    15\n",
      "0.7573    14\n",
      "1.0638    14\n",
      "          ..\n",
      "1.9613     1\n",
      "2.7020     1\n",
      "3.2180     1\n",
      "2.6290     1\n",
      "3.0852     1\n",
      "Name: IncRat, Length: 25270, dtype: int64\n",
      "Number of uniques:\n",
      " 25270\n",
      "Summary Statistics:\n",
      " count    65703.000000\n",
      "mean         1.522125\n",
      "std          1.402976\n",
      "min          0.158600\n",
      "25%          0.865100\n",
      "50%          1.274600\n",
      "75%          1.825850\n",
      "max        148.230900\n",
      "Name: IncRat, dtype: float64\n"
     ]
    },
    {
     "data": {
      "text/plain": [
       "(None, None, None)"
      ]
     },
     "execution_count": 55,
     "metadata": {},
     "output_type": "execute_result"
    }
   ],
   "source": [
    "# look at IncRat\n",
    "# income ratio = borrower monthly debt / monthly income\n",
    "\n",
    "eda_func(data, 'IncRat')"
   ]
  },
  {
   "cell_type": "code",
   "execution_count": 56,
   "metadata": {},
   "outputs": [
    {
     "data": {
      "text/plain": [
       "<matplotlib.axes._subplots.AxesSubplot at 0x7fdfb55cd3c8>"
      ]
     },
     "execution_count": 56,
     "metadata": {},
     "output_type": "execute_result"
    },
    {
     "data": {
      "image/png": "[encoded data removed]",
      "text/plain": [
       "<Figure size 432x288 with 1 Axes>"
      ]
     },
     "metadata": {
      "needs_background": "light"
     },
     "output_type": "display_data"
    }
   ],
   "source": [
    "sns.distplot(data.IncRat)"
   ]
  },
  {
   "cell_type": "code",
   "execution_count": 57,
   "metadata": {},
   "outputs": [
    {
     "data": {
      "text/plain": [
       "<matplotlib.axes._subplots.AxesSubplot at 0x7fdfb704fda0>"
      ]
     },
     "execution_count": 57,
     "metadata": {},
     "output_type": "execute_result"
    },
    {
     "data": {
      "image/png": "[encoded data removed]",
      "text/plain": [
       "<Figure size 432x288 with 1 Axes>"
      ]
     },
     "metadata": {
      "needs_background": "light"
     },
     "output_type": "display_data"
    }
   ],
   "source": [
    "borr_inc_rat_raw = data.IncRat\n",
    "# log transform income ratio for borrower\n",
    "data.IncRat = data.IncRat.apply(lambda x: np.log(x))\n",
    "\n",
    "sns.distplot(data.IncRat)"
   ]
  },
  {
   "cell_type": "code",
   "execution_count": 58,
   "metadata": {},
   "outputs": [],
   "source": [
    "income_cols.append('IncRat')"
   ]
  },
  {
   "cell_type": "markdown",
   "metadata": {},
   "source": [
    "###  Acquisition unpaid Principal balance in whole dollars"
   ]
  },
  {
   "cell_type": "code",
   "execution_count": 59,
   "metadata": {},
   "outputs": [
    {
     "name": "stdout",
     "output_type": "stream",
     "text": [
      "Value Counts:\n",
      " 453100    880\n",
      "200000    577\n",
      "100000    435\n",
      "300000    390\n",
      "180000    389\n",
      "         ... \n",
      "146720      1\n",
      "511262      1\n",
      "617738      1\n",
      "314622      1\n",
      "264193      1\n",
      "Name: UPB, Length: 19447, dtype: int64\n",
      "Number of uniques:\n",
      " 19447\n",
      "Summary Statistics:\n",
      " count    6.570300e+04\n",
      "mean     2.373806e+05\n",
      "std      1.320074e+05\n",
      "min      1.040000e+04\n",
      "25%      1.396500e+05\n",
      "50%      2.105000e+05\n",
      "75%      3.065065e+05\n",
      "max      1.190000e+06\n",
      "Name: UPB, dtype: float64\n"
     ]
    },
    {
     "data": {
      "text/plain": [
       "(None, None, None)"
      ]
     },
     "execution_count": 59,
     "metadata": {},
     "output_type": "execute_result"
    }
   ],
   "source": [
    "# look at UPB\n",
    "eda_func(data, 'UPB')"
   ]
  },
  {
   "cell_type": "code",
   "execution_count": 60,
   "metadata": {},
   "outputs": [
    {
     "data": {
      "text/plain": [
       "<matplotlib.axes._subplots.AxesSubplot at 0x7fdfb7045860>"
      ]
     },
     "execution_count": 60,
     "metadata": {},
     "output_type": "execute_result"
    },
    {
     "data": {
      "image/png": "[encoded data removed]",
      "text/plain": [
       "<Figure size 432x288 with 1 Axes>"
      ]
     },
     "metadata": {
      "needs_background": "light"
     },
     "output_type": "display_data"
    }
   ],
   "source": [
    "sns.distplot(data.UPB)"
   ]
  },
  {
   "cell_type": "code",
   "execution_count": 61,
   "metadata": {},
   "outputs": [],
   "source": [
    "income_cols.append('UPB')"
   ]
  },
  {
   "cell_type": "markdown",
   "metadata": {},
   "source": [
    "###  Loan to Value at origination\n"
   ]
  },
  {
   "cell_type": "code",
   "execution_count": 62,
   "metadata": {},
   "outputs": [
    {
     "name": "stdout",
     "output_type": "stream",
     "text": [
      "Value Counts:\n",
      " 0.80    22777\n",
      "0.95     5503\n",
      "0.90     4082\n",
      "0.75     2465\n",
      "0.85     1579\n",
      "        ...  \n",
      "1.56        1\n",
      "0.08        1\n",
      "1.19        1\n",
      "0.09        1\n",
      "1.37        1\n",
      "Name: LTV, Length: 111, dtype: int64\n",
      "Number of uniques:\n",
      " 111\n",
      "Summary Statistics:\n",
      " count    65703.000000\n",
      "mean         0.771016\n",
      "std          0.147873\n",
      "min          0.008000\n",
      "25%          0.720000\n",
      "50%          0.800000\n",
      "75%          0.850000\n",
      "max          1.680000\n",
      "Name: LTV, dtype: float64\n"
     ]
    },
    {
     "data": {
      "text/plain": [
       "(None, None, None)"
      ]
     },
     "execution_count": 62,
     "metadata": {},
     "output_type": "execute_result"
    }
   ],
   "source": [
    "# look at LTV\n",
    "#LTV = amount borrowed / appraised value of property\n",
    "\n",
    "eda_func(data, 'LTV')"
   ]
  },
  {
   "cell_type": "code",
   "execution_count": 63,
   "metadata": {},
   "outputs": [
    {
     "data": {
      "text/plain": [
       "<matplotlib.axes._subplots.AxesSubplot at 0x7fdfb710bac8>"
      ]
     },
     "execution_count": 63,
     "metadata": {},
     "output_type": "execute_result"
    },
    {
     "data": {
      "image/png": "[encoded data removed]",
      "text/plain": [
       "<Figure size 432x288 with 1 Axes>"
      ]
     },
     "metadata": {
      "needs_background": "light"
     },
     "output_type": "display_data"
    }
   ],
   "source": [
    "sns.distplot(data.LTV)"
   ]
  },
  {
   "cell_type": "code",
   "execution_count": 64,
   "metadata": {},
   "outputs": [],
   "source": [
    "income_cols.append('LTV')"
   ]
  },
  {
   "cell_type": "markdown",
   "metadata": {},
   "source": [
    "# Loan Characteristics "
   ]
  },
  {
   "cell_type": "markdown",
   "metadata": {},
   "source": [
    "###  Loan Dates"
   ]
  },
  {
   "cell_type": "code",
   "execution_count": 65,
   "metadata": {},
   "outputs": [
    {
     "name": "stdout",
     "output_type": "stream",
     "text": [
      "Value Counts:\n",
      " 2018    62305\n",
      "2017     3390\n",
      "2016        8\n",
      "Name: MortDate, dtype: int64\n",
      "Number of uniques:\n",
      " 3\n",
      "Summary Statistics:\n",
      " count    65703.000000\n",
      "mean      2017.948161\n",
      "std          0.222253\n",
      "min       2016.000000\n",
      "25%       2018.000000\n",
      "50%       2018.000000\n",
      "75%       2018.000000\n",
      "max       2018.000000\n",
      "Name: MortDate, dtype: float64\n"
     ]
    },
    {
     "data": {
      "text/plain": [
       "(None, None, None)"
      ]
     },
     "execution_count": 65,
     "metadata": {},
     "output_type": "execute_result"
    }
   ],
   "source": [
    "# look at MortDate and AcquDate\n",
    "eda_func(data, 'MortDate')"
   ]
  },
  {
   "cell_type": "code",
   "execution_count": 66,
   "metadata": {},
   "outputs": [
    {
     "name": "stdout",
     "output_type": "stream",
     "text": [
      "Value Counts:\n",
      " 2018    65703\n",
      "Name: AcquDate, dtype: int64\n",
      "Number of uniques:\n",
      " 1\n",
      "Summary Statistics:\n",
      " count    65703.0\n",
      "mean      2018.0\n",
      "std          0.0\n",
      "min       2018.0\n",
      "25%       2018.0\n",
      "50%       2018.0\n",
      "75%       2018.0\n",
      "max       2018.0\n",
      "Name: AcquDate, dtype: float64\n"
     ]
    },
    {
     "data": {
      "text/plain": [
       "(None, None, None)"
      ]
     },
     "execution_count": 66,
     "metadata": {},
     "output_type": "execute_result"
    }
   ],
   "source": [
    "eda_func(data, 'AcquDate')"
   ]
  },
  {
   "cell_type": "markdown",
   "metadata": {},
   "source": [
    "###  The Acquisition Date\n",
    "This column has the same value throughout the dataset, so it will be added to drop columns"
   ]
  },
  {
   "cell_type": "code",
   "execution_count": 67,
   "metadata": {},
   "outputs": [],
   "source": [
    "cols_to_drop.append('AcquDate')"
   ]
  },
  {
   "cell_type": "markdown",
   "metadata": {},
   "source": [
    "### Purpose"
   ]
  },
  {
   "cell_type": "code",
   "execution_count": 68,
   "metadata": {},
   "outputs": [
    {
     "name": "stdout",
     "output_type": "stream",
     "text": [
      "Value Counts:\n",
      " 1    43313\n",
      "2    22374\n",
      "4       16\n",
      "Name: Purpose, dtype: int64\n",
      "Number of uniques:\n",
      " 3\n",
      "Summary Statistics:\n",
      " count    65703.000000\n",
      "mean         1.341263\n",
      "std          0.475675\n",
      "min          1.000000\n",
      "25%          1.000000\n",
      "50%          1.000000\n",
      "75%          2.000000\n",
      "max          4.000000\n",
      "Name: Purpose, dtype: float64\n"
     ]
    },
    {
     "data": {
      "text/plain": [
       "(None, None, None)"
      ]
     },
     "execution_count": 68,
     "metadata": {},
     "output_type": "execute_result"
    }
   ],
   "source": [
    "# look at loan purpose\n",
    "eda_func(data, 'Purpose')"
   ]
  },
  {
   "cell_type": "markdown",
   "metadata": {},
   "source": [
    "###  Purpose Note\n",
    "A majority of the data for loan purpose is binary.  This is interesting to consider for supervised learning.  Dropping the 16 rows of data pertaining to being new construction(value = 4) will make this column binary and a target variable."
   ]
  },
  {
   "cell_type": "code",
   "execution_count": 69,
   "metadata": {},
   "outputs": [
    {
     "data": {
      "text/plain": [
       "1    43313\n",
       "2    22374\n",
       "Name: Purpose, dtype: int64"
      ]
     },
     "execution_count": 69,
     "metadata": {},
     "output_type": "execute_result"
    }
   ],
   "source": [
    "# drop rows that have value 4 for purpose\n",
    "drop_idx = data[data.Purpose == 4].index\n",
    "data.drop(index=drop_idx, axis=0, inplace=True)\n",
    "data.Purpose.value_counts()"
   ]
  },
  {
   "cell_type": "markdown",
   "metadata": {},
   "source": [
    "###  Coop"
   ]
  },
  {
   "cell_type": "code",
   "execution_count": 70,
   "metadata": {},
   "outputs": [
    {
     "name": "stdout",
     "output_type": "stream",
     "text": [
      "Value Counts:\n",
      " 2    65687\n",
      "Name: Coop, dtype: int64\n",
      "Number of uniques:\n",
      " 1\n",
      "Summary Statistics:\n",
      " count    65687.0\n",
      "mean         2.0\n",
      "std          0.0\n",
      "min          2.0\n",
      "25%          2.0\n",
      "50%          2.0\n",
      "75%          2.0\n",
      "max          2.0\n",
      "Name: Coop, dtype: float64\n"
     ]
    },
    {
     "data": {
      "text/plain": [
       "(None, None, None)"
      ]
     },
     "execution_count": 70,
     "metadata": {},
     "output_type": "execute_result"
    }
   ],
   "source": [
    "# look at coop\n",
    "eda_func(data, 'Coop')"
   ]
  },
  {
   "cell_type": "code",
   "execution_count": 71,
   "metadata": {},
   "outputs": [],
   "source": [
    "# add Coop to drop list\n",
    "cols_to_drop.append('Coop')"
   ]
  },
  {
   "cell_type": "markdown",
   "metadata": {},
   "source": [
    "###  Number of Units"
   ]
  },
  {
   "cell_type": "code",
   "execution_count": 72,
   "metadata": {},
   "outputs": [
    {
     "name": "stdout",
     "output_type": "stream",
     "text": [
      "Value Counts:\n",
      " 1    65078\n",
      "2      530\n",
      "3       53\n",
      "4       26\n",
      "Name: NumUnits, dtype: int64\n",
      "Number of uniques:\n",
      " 4\n",
      "Summary Statistics:\n",
      " count    65687.00000\n",
      "mean         1.01087\n",
      "std          0.12141\n",
      "min          1.00000\n",
      "25%          1.00000\n",
      "50%          1.00000\n",
      "75%          1.00000\n",
      "max          4.00000\n",
      "Name: NumUnits, dtype: float64\n"
     ]
    },
    {
     "data": {
      "text/plain": [
       "(None, None, None)"
      ]
     },
     "execution_count": 72,
     "metadata": {},
     "output_type": "execute_result"
    }
   ],
   "source": [
    "# look at number of units\n",
    "eda_func(data, 'NumUnits')"
   ]
  },
  {
   "cell_type": "markdown",
   "metadata": {},
   "source": [
    "###  Single Unit Properties\n",
    "99% of the mortgages are single unit properties.  Essentially this data set is for single units, therefore, the few rows with multiple unit properties will be dropped and then the NumUnits column"
   ]
  },
  {
   "cell_type": "code",
   "execution_count": 73,
   "metadata": {},
   "outputs": [],
   "source": [
    "# get indexes for multi unit properties and drop\n",
    "drop_idx = data[data.NumUnits > 1].index\n",
    "data.drop(index=drop_idx, axis=0, inplace=True)\n",
    "data.NumUnits.value_counts()\n",
    "\n",
    "# add NumUnits to drop col\n",
    "cols_to_drop.append('NumUnits')"
   ]
  },
  {
   "cell_type": "code",
   "execution_count": 74,
   "metadata": {},
   "outputs": [
    {
     "data": {
      "text/plain": [
       "65078"
      ]
     },
     "execution_count": 74,
     "metadata": {},
     "output_type": "execute_result"
    }
   ],
   "source": [
    "len(data)"
   ]
  },
  {
   "cell_type": "markdown",
   "metadata": {},
   "source": [
    "### Handling Categorical data\n",
    "There are several columns of data that have integers or objects depicting different categories.  If these are to be included in any modeling, they will be encoded which will add a lot of dimensionality.  I can write a function that can go through the value counts of these columns and determine if drops can be made or not.  For example, if the column is just one value, it can be dropped.  If there is more than one value in the counts, then create a list of the value and inspect."
   ]
  },
  {
   "cell_type": "code",
   "execution_count": 75,
   "metadata": {},
   "outputs": [],
   "source": [
    "# func to sort through columns to find columns to drop or inspect\n",
    "def decision_func(df, col):\n",
    "        \"\"\"\n",
    "        Input: dataframe and column to inspect\n",
    "        Output: Column name and action\n",
    "        \"\"\"\n",
    "        # set condition to drop at 1 value in value_counts()\n",
    "        if len(df[col].value_counts()) == 1:\n",
    "            return(col, 'Drop')\n",
    "        \n",
    "        # store percentage of values compared to highest value_count()\n",
    "        elif len(df[col].value_counts()) > 1:\n",
    "            cnt_sum = df[col].value_counts().values[1:].sum()\n",
    "            per_col = cnt_sum/(df[col].value_counts().values[0])\n",
    "        \n",
    "        # set condition to leave columns alone  \n",
    "        if per_col > 0.10:\n",
    "            return(col, 'Fine')\n",
    "        \n",
    "        # any column's value_counts that are less than 10% of the highest value_count\n",
    "        else:\n",
    "            return(col, 'Inspect')"
   ]
  },
  {
   "cell_type": "code",
   "execution_count": 76,
   "metadata": {},
   "outputs": [],
   "source": [
    "# create lists of columns that organize them into data types and categories to be checked in the decision function\n",
    "# columns with floats\n",
    "flt_types = [col for col in data.columns if data[col].dtype == 'float64']\n",
    "\n",
    "# conditions for check list\n",
    "conds_checklist = [col not in flt_types,\n",
    "                   col not in cols_to_drop,\n",
    "                   col not in geo_cols,\n",
    "                   col not in income_cols]\n",
    "\n",
    "#columns that aren't floats and havent already been explored\n",
    "check_lst = []\n",
    "\n",
    "for el in data.columns:\n",
    "    conditions = [el not in flt_types,\n",
    "                  el not in cols_to_drop,\n",
    "                  el not in geo_cols,\n",
    "                  el not in income_cols]\n",
    "    if all(conditions):\n",
    "        check_lst.append(el)\n",
    "\n"
   ]
  },
  {
   "cell_type": "code",
   "execution_count": 77,
   "metadata": {},
   "outputs": [
    {
     "data": {
      "text/plain": [
       "['MinPer',\n",
       " 'Tractrat',\n",
       " 'Income',\n",
       " 'IncRat',\n",
       " 'LTV',\n",
       " 'Rate',\n",
       " 'Front',\n",
       " 'Back',\n",
       " 'PMI',\n",
       " 'GeoID']"
      ]
     },
     "execution_count": 77,
     "metadata": {},
     "output_type": "execute_result"
    }
   ],
   "source": [
    "flt_types"
   ]
  },
  {
   "cell_type": "code",
   "execution_count": 78,
   "metadata": {},
   "outputs": [],
   "source": [
    "keys = []\n",
    "vals = []\n",
    "for el in check_lst:\n",
    "    keys.append(decision_func(data, el)[0])\n",
    "    vals.append(decision_func(data, el)[1])\n"
   ]
  },
  {
   "cell_type": "code",
   "execution_count": 79,
   "metadata": {},
   "outputs": [],
   "source": [
    "# populate a dictionary with decision func data\n",
    "check_dict = {k:v for k,v in zip(keys,vals)}\n"
   ]
  },
  {
   "cell_type": "code",
   "execution_count": 80,
   "metadata": {},
   "outputs": [
    {
     "name": "stdout",
     "output_type": "stream",
     "text": [
      "1    65078\n",
      "Name: Product, dtype: int64\n",
      "1    65078\n",
      "Name: SellType, dtype: int64\n",
      "98    65078\n",
      "Name: Bed1, dtype: int64\n",
      "98    65078\n",
      "Name: Bed2, dtype: int64\n",
      "98    65078\n",
      "Name: Bed3, dtype: int64\n",
      "98    65078\n",
      "Name: Bed4, dtype: int64\n",
      "2    65078\n",
      "Name: Aff1, dtype: int64\n",
      "2    65078\n",
      "Name: Aff2, dtype: int64\n",
      "2    65078\n",
      "Name: Aff3, dtype: int64\n",
      "2    65078\n",
      "Name: Aff4, dtype: int64\n",
      "9999999999    65078\n",
      "Name: Rent1, dtype: int64\n",
      "9999999999    65078\n",
      "Name: Rent2, dtype: int64\n",
      "9999999999    65078\n",
      "Name: Rent3, dtype: int64\n",
      "9999999999    65078\n",
      "Name: Rent4, dtype: int64\n",
      "9999999999    65078\n",
      "Name: RentUt1, dtype: int64\n",
      "9999999999    65078\n",
      "Name: RentUt2, dtype: int64\n",
      "9999999999    65078\n",
      "Name: RentUt3, dtype: int64\n",
      "9999999999    65078\n",
      "Name: RentUt4, dtype: int64\n",
      "99    65078\n",
      "Name: ArmIndex, dtype: int64\n",
      "99999    65078\n",
      "Name: ArmMarg, dtype: int64\n",
      "12/31/9999    65078\n",
      "Name: PrepayP, dtype: int64\n",
      "2    65078\n",
      "Name: HOEPA, dtype: int64\n",
      "1    65078\n",
      "Name: LienStatus, dtype: int64\n",
      "2    65078\n",
      "Name: FedFinStbltyPlan, dtype: int64\n",
      "2    65078\n",
      "Name: GSEREO, dtype: int64\n"
     ]
    }
   ],
   "source": [
    "# double check to make sure all columns are single value\n",
    "check_drops = [key for key, val in check_dict.items() if val == 'Drop']\n",
    "\n",
    "for el in check_drops:\n",
    "    print(data[el].value_counts())"
   ]
  },
  {
   "cell_type": "code",
   "execution_count": 81,
   "metadata": {},
   "outputs": [],
   "source": [
    "# add these columns to drop column list\n",
    "for el in check_drops:\n",
    "    cols_to_drop.append(el)"
   ]
  },
  {
   "cell_type": "code",
   "execution_count": 82,
   "metadata": {},
   "outputs": [
    {
     "data": {
      "text/plain": [
       "['Year',\n",
       " 'FeatureID(maybe)',\n",
       " 'AcquDate',\n",
       " 'Coop',\n",
       " 'NumUnits',\n",
       " 'Product',\n",
       " 'SellType',\n",
       " 'Bed1',\n",
       " 'Bed2',\n",
       " 'Bed3',\n",
       " 'Bed4',\n",
       " 'Aff1',\n",
       " 'Aff2',\n",
       " 'Aff3',\n",
       " 'Aff4',\n",
       " 'Rent1',\n",
       " 'Rent2',\n",
       " 'Rent3',\n",
       " 'Rent4',\n",
       " 'RentUt1',\n",
       " 'RentUt2',\n",
       " 'RentUt3',\n",
       " 'RentUt4',\n",
       " 'ArmIndex',\n",
       " 'ArmMarg',\n",
       " 'PrepayP',\n",
       " 'HOEPA',\n",
       " 'LienStatus',\n",
       " 'FedFinStbltyPlan',\n",
       " 'GSEREO']"
      ]
     },
     "execution_count": 82,
     "metadata": {},
     "output_type": "execute_result"
    }
   ],
   "source": [
    "cols_to_drop"
   ]
  },
  {
   "cell_type": "markdown",
   "metadata": {},
   "source": [
    "###  What drops mean to dataset\n",
    "Looking at the list of columns to drop reveals a lot about the dataset.  The mortgages are on single unit properties that are owner occupied dwellings.  The loans are not adjustable rate mortgages, meaning they are fixed rate, have no prepayment penalty, not subject to The Home Ownership and Equity Protection Act, secured by the first lien, not on a Federal Financial stability plan, and are not owned by government sponsored enterprises."
   ]
  },
  {
   "cell_type": "code",
   "execution_count": 83,
   "metadata": {},
   "outputs": [
    {
     "name": "stdout",
     "output_type": "stream",
     "text": [
      "2018    61725\n",
      "2017     3345\n",
      "2016        8\n",
      "Name: MortDate, dtype: int64\n",
      "0    60784\n",
      "2     1659\n",
      "3     1436\n",
      "1     1199\n",
      "Name: FedGuar, dtype: int64\n",
      "9    64881\n",
      "1      158\n",
      "2       39\n",
      "Name: CICA, dtype: int64\n",
      "1    63006\n",
      "2     2072\n",
      "Name: Occup, dtype: int64\n",
      "2    62951\n",
      "1     2127\n",
      "Name: Geog, dtype: int64\n",
      "6    64801\n",
      "5      212\n",
      "2       23\n",
      "3       20\n",
      "4       11\n",
      "1       11\n",
      "Name: Race2, dtype: int64\n",
      "6    65069\n",
      "5        7\n",
      "3        1\n",
      "1        1\n",
      "Name: Race3, dtype: int64\n",
      "6    65077\n",
      "4        1\n",
      "Name: Race4, dtype: int64\n",
      "6    65077\n",
      "5        1\n",
      "Name: Race5, dtype: int64\n",
      "2    63122\n",
      "1     1956\n",
      "Name: SpcHsgGoals, dtype: int64\n"
     ]
    }
   ],
   "source": [
    "# Check the columns flagged as Inspect\n",
    "check_insp = [key for key, val in check_dict.items() if val == 'Inspect']\n",
    "\n",
    "for el in check_insp:\n",
    "    print(data[el].value_counts())"
   ]
  },
  {
   "cell_type": "code",
   "execution_count": 84,
   "metadata": {},
   "outputs": [
    {
     "data": {
      "text/plain": [
       "['Year',\n",
       " 'FeatureID(maybe)',\n",
       " 'AcquDate',\n",
       " 'Coop',\n",
       " 'NumUnits',\n",
       " 'Product',\n",
       " 'SellType',\n",
       " 'Bed1',\n",
       " 'Bed2',\n",
       " 'Bed3',\n",
       " 'Bed4',\n",
       " 'Aff1',\n",
       " 'Aff2',\n",
       " 'Aff3',\n",
       " 'Aff4',\n",
       " 'Rent1',\n",
       " 'Rent2',\n",
       " 'Rent3',\n",
       " 'Rent4',\n",
       " 'RentUt1',\n",
       " 'RentUt2',\n",
       " 'RentUt3',\n",
       " 'RentUt4',\n",
       " 'ArmIndex',\n",
       " 'ArmMarg',\n",
       " 'PrepayP',\n",
       " 'HOEPA',\n",
       " 'LienStatus',\n",
       " 'FedFinStbltyPlan',\n",
       " 'GSEREO',\n",
       " 'CICA',\n",
       " 'Race2',\n",
       " 'Race3',\n",
       " 'Race4',\n",
       " 'Race5']"
      ]
     },
     "execution_count": 84,
     "metadata": {},
     "output_type": "execute_result"
    }
   ],
   "source": [
    "# looking at the columns flagged as inspect, add columns to drop column list\n",
    "\n",
    "new_drops = ['CICA', 'Race2', 'Race3', 'Race4', 'Race5']\n",
    "for el in new_drops:\n",
    "    cols_to_drop.append(el)\n",
    "\n",
    "\n",
    "cols_to_drop"
   ]
  },
  {
   "cell_type": "code",
   "execution_count": 85,
   "metadata": {
    "scrolled": false
   },
   "outputs": [
    {
     "name": "stdout",
     "output_type": "stream",
     "text": [
      "1    42982\n",
      "2    22096\n",
      "Name: Purpose, dtype: int64\n",
      "360    57997\n",
      "240     3439\n",
      "180     3105\n",
      "300      144\n",
      "120      129\n",
      "359      106\n",
      "348       61\n",
      "354       12\n",
      "336        9\n",
      "312        8\n",
      "352        6\n",
      "324        6\n",
      "351        5\n",
      "60         4\n",
      "123        4\n",
      "288        4\n",
      "353        3\n",
      "144        3\n",
      "347        3\n",
      "216        2\n",
      "318        2\n",
      "349        2\n",
      "356        2\n",
      "294        1\n",
      "320        1\n",
      "321        1\n",
      "322        1\n",
      "355        1\n",
      "284        1\n",
      "325        1\n",
      "357        1\n",
      "342        1\n",
      "326        1\n",
      "345        1\n",
      "344        1\n",
      "264        1\n",
      "296        1\n",
      "330        1\n",
      "343        1\n",
      "350        1\n",
      "304        1\n",
      "346        1\n",
      "178        1\n",
      "84         1\n",
      "358        1\n",
      "Name: Term, dtype: int64\n",
      "360    57997\n",
      "240     3439\n",
      "180     3105\n",
      "300      144\n",
      "120      129\n",
      "359      106\n",
      "348       61\n",
      "354       12\n",
      "336        9\n",
      "312        8\n",
      "352        6\n",
      "324        6\n",
      "351        5\n",
      "60         4\n",
      "123        4\n",
      "288        4\n",
      "353        3\n",
      "144        3\n",
      "347        3\n",
      "216        2\n",
      "318        2\n",
      "349        2\n",
      "356        2\n",
      "294        1\n",
      "320        1\n",
      "321        1\n",
      "322        1\n",
      "355        1\n",
      "284        1\n",
      "325        1\n",
      "357        1\n",
      "342        1\n",
      "326        1\n",
      "345        1\n",
      "344        1\n",
      "264        1\n",
      "296        1\n",
      "330        1\n",
      "343        1\n",
      "350        1\n",
      "304        1\n",
      "346        1\n",
      "178        1\n",
      "84         1\n",
      "358        1\n",
      "Name: AmorTerm, dtype: int64\n",
      "2    35664\n",
      "1    29002\n",
      "3      343\n",
      "4       69\n",
      "Name: NumBor, dtype: int64\n",
      "2    50239\n",
      "1    14839\n",
      "Name: First, dtype: int64\n",
      "5    54211\n",
      "7     6439\n",
      "2     2500\n",
      "3     1489\n",
      "1      318\n",
      "4      121\n",
      "Name: BoRace, dtype: int64\n",
      "5    30291\n",
      "8    29002\n",
      "7     3783\n",
      "2     1289\n",
      "3      524\n",
      "1      118\n",
      "4       71\n",
      "Name: CoRace, dtype: int64\n",
      "1    43205\n",
      "2    17611\n",
      "3     4262\n",
      "Name: BoGender, dtype: int64\n",
      "4    29002\n",
      "2    26918\n",
      "1     6612\n",
      "3     2546\n",
      "Name: CoGender, dtype: int64\n",
      "99    5948\n",
      "34    1919\n",
      "35    1904\n",
      "36    1888\n",
      "33    1824\n",
      "      ... \n",
      "88       5\n",
      "91       3\n",
      "98       1\n",
      "93       1\n",
      "95       1\n",
      "Name: BoAge, Length: 77, dtype: int64\n",
      "98    29002\n",
      "99     3365\n",
      "32     1152\n",
      "33     1147\n",
      "35     1129\n",
      "      ...  \n",
      "18        3\n",
      "89        1\n",
      "91        1\n",
      "92        1\n",
      "93        1\n",
      "Name: CoAge, Length: 78, dtype: int64\n",
      "453100    1036\n",
      "200000     669\n",
      "100000     483\n",
      "180000     444\n",
      "300000     443\n",
      "          ... \n",
      "202960       1\n",
      "90303        1\n",
      "92350        1\n",
      "592050       1\n",
      "71677        1\n",
      "Name: Amount, Length: 12665, dtype: int64\n",
      "5    34272\n",
      "4    20768\n",
      "3     7313\n",
      "2     2482\n",
      "9      129\n",
      "1      114\n",
      "Name: BoCreditScore, dtype: int64\n",
      "9    29215\n",
      "5    20644\n",
      "4    10935\n",
      "3     3233\n",
      "2     1003\n",
      "1       48\n",
      "Name: CoBoCreditScore, dtype: int64\n",
      "2    58063\n",
      "1     7015\n",
      "Name: Self, dtype: int64\n",
      "PT01    48436\n",
      "PT07    10096\n",
      "PT11     2937\n",
      "PT02     2455\n",
      "PT06     1032\n",
      "PT12      121\n",
      "PT04        1\n",
      "Name: PropType, dtype: int64\n",
      "2    54667\n",
      "3     7428\n",
      "1     2983\n",
      "Name: BoEth, dtype: int64\n",
      "2    30226\n",
      "5    29002\n",
      "3     4394\n",
      "1     1456\n",
      "Name: CoEth, dtype: int64\n",
      "6    35959\n",
      "8    29002\n",
      "5       85\n",
      "2       12\n",
      "4        9\n",
      "3        9\n",
      "1        2\n",
      "Name: Corace2, dtype: int64\n",
      "6    36071\n",
      "8    29002\n",
      "5        3\n",
      "4        1\n",
      "3        1\n",
      "Name: Corace3, dtype: int64\n",
      "6    36074\n",
      "8    29002\n",
      "5        1\n",
      "4        1\n",
      "Name: Corace4, dtype: int64\n",
      "6    36075\n",
      "8    29002\n",
      "5        1\n",
      "Name: Corace5, dtype: int64\n",
      "1    56153\n",
      "4     8925\n",
      "Name: AcqTyp, dtype: int64\n"
     ]
    }
   ],
   "source": [
    "# look at columns flagged as fine\n",
    "check_fine = [key for key, val in check_dict.items() if val == 'Fine']\n",
    "\n",
    "for el in check_fine:\n",
    "    print(data[el].value_counts())"
   ]
  },
  {
   "cell_type": "code",
   "execution_count": 86,
   "metadata": {},
   "outputs": [
    {
     "data": {
      "text/plain": [
       "['MortDate',\n",
       " 'Purpose',\n",
       " 'FedGuar',\n",
       " 'Term',\n",
       " 'AmorTerm',\n",
       " 'NumBor',\n",
       " 'First',\n",
       " 'BoRace',\n",
       " 'CoRace',\n",
       " 'BoGender',\n",
       " 'CoGender',\n",
       " 'BoAge',\n",
       " 'CoAge',\n",
       " 'Occup',\n",
       " 'Geog',\n",
       " 'Rate',\n",
       " 'Amount',\n",
       " 'Front',\n",
       " 'Back',\n",
       " 'BoCreditScore',\n",
       " 'CoBoCreditScore',\n",
       " 'PMI',\n",
       " 'Self',\n",
       " 'PropType',\n",
       " 'BoEth',\n",
       " 'CoEth',\n",
       " 'Corace2',\n",
       " 'Corace3',\n",
       " 'Corace4',\n",
       " 'Corace5',\n",
       " 'SpcHsgGoals',\n",
       " 'AcqTyp']"
      ]
     },
     "execution_count": 86,
     "metadata": {},
     "output_type": "execute_result"
    }
   ],
   "source": [
    "# updated list of columns not already explored\n",
    "new_cols_lst = []\n",
    "\n",
    "for el in data.columns:\n",
    "    conditions = [el not in cols_to_drop,\n",
    "                  el not in geo_cols,\n",
    "                  el not in income_cols]\n",
    "    if all(conditions):\n",
    "        new_cols_lst.append(el)\n",
    "new_cols_lst"
   ]
  },
  {
   "cell_type": "code",
   "execution_count": 87,
   "metadata": {},
   "outputs": [],
   "source": [
    "# Organize columns by loan data\n",
    "add_to_loans = ['MortDate', 'FedGuar','Term','AmorTerm', 'Rate','Amount','Front','Back', 'PMI', 'AcqTyp']\n",
    "for el in add_to_loans:\n",
    "    loan_cols.append(el)"
   ]
  },
  {
   "cell_type": "code",
   "execution_count": 88,
   "metadata": {},
   "outputs": [],
   "source": [
    "# organize columns by borrower data\n",
    "add_to_borr = ['NumBor', 'First','BoRace','CoRace','BoGender','CoGender','BoAge','CoAge','Occup', 'BoCreditScore',\n",
    "               'CoBoCreditScore','BoEth','CoEth','Corace2','Corace3','Corace4','Corace5']\n",
    "\n",
    "for el in add_to_borr:\n",
    "    borr_cols.append(el)"
   ]
  },
  {
   "cell_type": "code",
   "execution_count": 89,
   "metadata": {},
   "outputs": [],
   "source": [
    "# remaining columns added to appropriate genre\n",
    "loan_cols.append('SpcHsgGoals')\n",
    "geo_cols.append('PropType')\n",
    "borr_cols.append('Self')"
   ]
  },
  {
   "cell_type": "code",
   "execution_count": 90,
   "metadata": {},
   "outputs": [],
   "source": [
    "# create data frames from organized columns\n",
    "geo_df = data[geo_cols]\n",
    "income_df = data[income_cols]\n",
    "loan_df = data[loan_cols]\n",
    "borr_df = data[borr_cols]"
   ]
  },
  {
   "cell_type": "code",
   "execution_count": 91,
   "metadata": {},
   "outputs": [
    {
     "data": {
      "text/plain": [
       "['Year',\n",
       " 'FeatureID(maybe)',\n",
       " 'AcquDate',\n",
       " 'Coop',\n",
       " 'NumUnits',\n",
       " 'Product',\n",
       " 'SellType',\n",
       " 'Bed1',\n",
       " 'Bed2',\n",
       " 'Bed3',\n",
       " 'Bed4',\n",
       " 'Aff1',\n",
       " 'Aff2',\n",
       " 'Aff3',\n",
       " 'Aff4',\n",
       " 'Rent1',\n",
       " 'Rent2',\n",
       " 'Rent3',\n",
       " 'Rent4',\n",
       " 'RentUt1',\n",
       " 'RentUt2',\n",
       " 'RentUt3',\n",
       " 'RentUt4',\n",
       " 'ArmIndex',\n",
       " 'ArmMarg',\n",
       " 'PrepayP',\n",
       " 'HOEPA',\n",
       " 'LienStatus',\n",
       " 'FedFinStbltyPlan',\n",
       " 'GSEREO',\n",
       " 'CICA',\n",
       " 'Race2',\n",
       " 'Race3',\n",
       " 'Race4',\n",
       " 'Race5']"
      ]
     },
     "execution_count": 91,
     "metadata": {},
     "output_type": "execute_result"
    }
   ],
   "source": [
    "cols_to_drop"
   ]
  },
  {
   "cell_type": "code",
   "execution_count": 92,
   "metadata": {},
   "outputs": [
    {
     "data": {
      "text/plain": [
       "9999999999    47743\n",
       "1086201         783\n",
       "2395423         383\n",
       "1086101         254\n",
       "1626373         192\n",
       "              ...  \n",
       "2391457           1\n",
       "2403771           1\n",
       "1184441           1\n",
       "1660356           1\n",
       "2404374           1\n",
       "Name: FeatureID, Length: 3438, dtype: int64"
      ]
     },
     "execution_count": 92,
     "metadata": {},
     "output_type": "execute_result"
    }
   ],
   "source": [
    "data.FeatureID.value_counts()"
   ]
  },
  {
   "cell_type": "code",
   "execution_count": 93,
   "metadata": {},
   "outputs": [
    {
     "name": "stdout",
     "output_type": "stream",
     "text": [
      "All Columns accounted for\n"
     ]
    }
   ],
   "source": [
    "# check if all columns were accounted for\n",
    "conditions = [col not in geo_df.columns,\n",
    "              col not in income_df.columns,\n",
    "              col not in borr_df.columns,\n",
    "              col not in loan_df.columns]\n",
    "for col in data.columns:\n",
    "    if all(conditions):\n",
    "        print(col)\n",
    "\n",
    "print('All Columns accounted for')\n",
    "    "
   ]
  },
  {
   "cell_type": "markdown",
   "metadata": {},
   "source": [
    "# Feature Engineering\n",
    "\n",
    "### Geo data cluster\n",
    "\n"
   ]
  },
  {
   "cell_type": "code",
   "execution_count": 94,
   "metadata": {},
   "outputs": [
    {
     "name": "stdout",
     "output_type": "stream",
     "text": [
      "<class 'pandas.core.frame.DataFrame'>\n",
      "Int64Index: 65078 entries, 2131406 to 2161354\n",
      "Data columns (total 9 columns):\n",
      "Bank              65078 non-null object\n",
      "FIPSStateCode     65078 non-null object\n",
      "FIPSCountyCode    65078 non-null object\n",
      "MSA               65078 non-null int64\n",
      "FeatureID         65078 non-null int64\n",
      "Tract             65078 non-null object\n",
      "GeoID             65078 non-null float64\n",
      "MinPer            65078 non-null float64\n",
      "PropType          65078 non-null object\n",
      "dtypes: float64(2), int64(2), object(5)\n",
      "memory usage: 5.0+ MB\n"
     ]
    }
   ],
   "source": [
    "#look at geo_df\n",
    "geo_df.info()"
   ]
  },
  {
   "cell_type": "code",
   "execution_count": 95,
   "metadata": {},
   "outputs": [],
   "source": [
    "# function to get dummy variables\n",
    "def dummy_getter(df, cols):\n",
    "    \"\"\"\n",
    "    Get dummy variables for specified columns and drop dummy variable column that has lowest value_counts\n",
    "    \n",
    "    Input: Dataframe and list of columns to have turned into dummys\n",
    "    Output: New data frame with dummy variables and dropped columns\n",
    "    \"\"\"\n",
    "    # create list to store columns that need to be dropped from dummys\n",
    "    drp_cols = []\n",
    "    \n",
    "    # get dummies for df[cols]\n",
    "    new_df = pd.get_dummies(df[cols])\n",
    "    \n",
    "    # find lowest value count in columns and add that column to drop list\n",
    "    \n",
    "    for col in cols:\n",
    "        \n",
    "        idxs = df[col].value_counts().index\n",
    "        vals = df[col].value_counts().values\n",
    "\n",
    "        for idx, val in zip(idxs, vals):\n",
    "            if val == vals.min():\n",
    "                drp_col = col + '_' + idx\n",
    "            \n",
    "        drp_cols.append(drp_col)\n",
    "        \n",
    "    # drop columns with lowest value counts\n",
    "    new_df.drop(columns=drp_cols, inplace=True)\n",
    "    \n",
    "    return(new_df)\n",
    "    \n",
    "    "
   ]
  },
  {
   "cell_type": "code",
   "execution_count": 96,
   "metadata": {},
   "outputs": [
    {
     "data": {
      "text/html": [
       "<div>\n",
       "<style scoped>\n",
       "    .dataframe tbody tr th:only-of-type {\n",
       "        vertical-align: middle;\n",
       "    }\n",
       "\n",
       "    .dataframe tbody tr th {\n",
       "        vertical-align: top;\n",
       "    }\n",
       "\n",
       "    .dataframe thead th {\n",
       "        text-align: right;\n",
       "    }\n",
       "</style>\n",
       "<table border=\"1\" class=\"dataframe\">\n",
       "  <thead>\n",
       "    <tr style=\"text-align: right;\">\n",
       "      <th></th>\n",
       "      <th>Bank_Boston</th>\n",
       "      <th>Bank_Chicago</th>\n",
       "      <th>Bank_Cincinnati</th>\n",
       "      <th>Bank_Dallas</th>\n",
       "      <th>Bank_Des Moines</th>\n",
       "      <th>Bank_Indianapolis</th>\n",
       "      <th>Bank_New York</th>\n",
       "      <th>Bank_Pittsburgh</th>\n",
       "      <th>Bank_San Francisco</th>\n",
       "      <th>Bank_Topeka</th>\n",
       "      <th>...</th>\n",
       "      <th>FIPSStateCode_51</th>\n",
       "      <th>FIPSStateCode_53</th>\n",
       "      <th>FIPSStateCode_54</th>\n",
       "      <th>FIPSStateCode_55</th>\n",
       "      <th>FIPSStateCode_56</th>\n",
       "      <th>FIPSStateCode_6</th>\n",
       "      <th>FIPSStateCode_66</th>\n",
       "      <th>FIPSStateCode_72</th>\n",
       "      <th>FIPSStateCode_8</th>\n",
       "      <th>FIPSStateCode_9</th>\n",
       "    </tr>\n",
       "    <tr>\n",
       "      <th>AssignedID</th>\n",
       "      <th></th>\n",
       "      <th></th>\n",
       "      <th></th>\n",
       "      <th></th>\n",
       "      <th></th>\n",
       "      <th></th>\n",
       "      <th></th>\n",
       "      <th></th>\n",
       "      <th></th>\n",
       "      <th></th>\n",
       "      <th></th>\n",
       "      <th></th>\n",
       "      <th></th>\n",
       "      <th></th>\n",
       "      <th></th>\n",
       "      <th></th>\n",
       "      <th></th>\n",
       "      <th></th>\n",
       "      <th></th>\n",
       "      <th></th>\n",
       "      <th></th>\n",
       "    </tr>\n",
       "  </thead>\n",
       "  <tbody>\n",
       "    <tr>\n",
       "      <td>2131406</td>\n",
       "      <td>0</td>\n",
       "      <td>0</td>\n",
       "      <td>0</td>\n",
       "      <td>0</td>\n",
       "      <td>0</td>\n",
       "      <td>0</td>\n",
       "      <td>0</td>\n",
       "      <td>0</td>\n",
       "      <td>0</td>\n",
       "      <td>0</td>\n",
       "      <td>...</td>\n",
       "      <td>0</td>\n",
       "      <td>0</td>\n",
       "      <td>0</td>\n",
       "      <td>0</td>\n",
       "      <td>0</td>\n",
       "      <td>0</td>\n",
       "      <td>0</td>\n",
       "      <td>0</td>\n",
       "      <td>0</td>\n",
       "      <td>0</td>\n",
       "    </tr>\n",
       "    <tr>\n",
       "      <td>2131407</td>\n",
       "      <td>0</td>\n",
       "      <td>0</td>\n",
       "      <td>0</td>\n",
       "      <td>0</td>\n",
       "      <td>0</td>\n",
       "      <td>0</td>\n",
       "      <td>0</td>\n",
       "      <td>0</td>\n",
       "      <td>0</td>\n",
       "      <td>0</td>\n",
       "      <td>...</td>\n",
       "      <td>0</td>\n",
       "      <td>0</td>\n",
       "      <td>0</td>\n",
       "      <td>0</td>\n",
       "      <td>0</td>\n",
       "      <td>0</td>\n",
       "      <td>0</td>\n",
       "      <td>0</td>\n",
       "      <td>0</td>\n",
       "      <td>0</td>\n",
       "    </tr>\n",
       "    <tr>\n",
       "      <td>2131408</td>\n",
       "      <td>0</td>\n",
       "      <td>0</td>\n",
       "      <td>0</td>\n",
       "      <td>0</td>\n",
       "      <td>0</td>\n",
       "      <td>0</td>\n",
       "      <td>0</td>\n",
       "      <td>0</td>\n",
       "      <td>0</td>\n",
       "      <td>0</td>\n",
       "      <td>...</td>\n",
       "      <td>1</td>\n",
       "      <td>0</td>\n",
       "      <td>0</td>\n",
       "      <td>0</td>\n",
       "      <td>0</td>\n",
       "      <td>0</td>\n",
       "      <td>0</td>\n",
       "      <td>0</td>\n",
       "      <td>0</td>\n",
       "      <td>0</td>\n",
       "    </tr>\n",
       "    <tr>\n",
       "      <td>2131409</td>\n",
       "      <td>0</td>\n",
       "      <td>0</td>\n",
       "      <td>0</td>\n",
       "      <td>0</td>\n",
       "      <td>0</td>\n",
       "      <td>0</td>\n",
       "      <td>0</td>\n",
       "      <td>0</td>\n",
       "      <td>0</td>\n",
       "      <td>0</td>\n",
       "      <td>...</td>\n",
       "      <td>1</td>\n",
       "      <td>0</td>\n",
       "      <td>0</td>\n",
       "      <td>0</td>\n",
       "      <td>0</td>\n",
       "      <td>0</td>\n",
       "      <td>0</td>\n",
       "      <td>0</td>\n",
       "      <td>0</td>\n",
       "      <td>0</td>\n",
       "    </tr>\n",
       "    <tr>\n",
       "      <td>2131410</td>\n",
       "      <td>0</td>\n",
       "      <td>0</td>\n",
       "      <td>0</td>\n",
       "      <td>0</td>\n",
       "      <td>0</td>\n",
       "      <td>0</td>\n",
       "      <td>0</td>\n",
       "      <td>0</td>\n",
       "      <td>0</td>\n",
       "      <td>0</td>\n",
       "      <td>...</td>\n",
       "      <td>0</td>\n",
       "      <td>0</td>\n",
       "      <td>0</td>\n",
       "      <td>0</td>\n",
       "      <td>0</td>\n",
       "      <td>0</td>\n",
       "      <td>0</td>\n",
       "      <td>0</td>\n",
       "      <td>0</td>\n",
       "      <td>0</td>\n",
       "    </tr>\n",
       "    <tr>\n",
       "      <td>...</td>\n",
       "      <td>...</td>\n",
       "      <td>...</td>\n",
       "      <td>...</td>\n",
       "      <td>...</td>\n",
       "      <td>...</td>\n",
       "      <td>...</td>\n",
       "      <td>...</td>\n",
       "      <td>...</td>\n",
       "      <td>...</td>\n",
       "      <td>...</td>\n",
       "      <td>...</td>\n",
       "      <td>...</td>\n",
       "      <td>...</td>\n",
       "      <td>...</td>\n",
       "      <td>...</td>\n",
       "      <td>...</td>\n",
       "      <td>...</td>\n",
       "      <td>...</td>\n",
       "      <td>...</td>\n",
       "      <td>...</td>\n",
       "      <td>...</td>\n",
       "    </tr>\n",
       "    <tr>\n",
       "      <td>2161350</td>\n",
       "      <td>0</td>\n",
       "      <td>0</td>\n",
       "      <td>0</td>\n",
       "      <td>0</td>\n",
       "      <td>0</td>\n",
       "      <td>0</td>\n",
       "      <td>0</td>\n",
       "      <td>0</td>\n",
       "      <td>0</td>\n",
       "      <td>1</td>\n",
       "      <td>...</td>\n",
       "      <td>0</td>\n",
       "      <td>0</td>\n",
       "      <td>0</td>\n",
       "      <td>0</td>\n",
       "      <td>0</td>\n",
       "      <td>0</td>\n",
       "      <td>0</td>\n",
       "      <td>0</td>\n",
       "      <td>0</td>\n",
       "      <td>0</td>\n",
       "    </tr>\n",
       "    <tr>\n",
       "      <td>2161351</td>\n",
       "      <td>0</td>\n",
       "      <td>0</td>\n",
       "      <td>0</td>\n",
       "      <td>0</td>\n",
       "      <td>0</td>\n",
       "      <td>0</td>\n",
       "      <td>0</td>\n",
       "      <td>0</td>\n",
       "      <td>0</td>\n",
       "      <td>1</td>\n",
       "      <td>...</td>\n",
       "      <td>0</td>\n",
       "      <td>0</td>\n",
       "      <td>0</td>\n",
       "      <td>0</td>\n",
       "      <td>0</td>\n",
       "      <td>0</td>\n",
       "      <td>0</td>\n",
       "      <td>0</td>\n",
       "      <td>0</td>\n",
       "      <td>0</td>\n",
       "    </tr>\n",
       "    <tr>\n",
       "      <td>2161352</td>\n",
       "      <td>0</td>\n",
       "      <td>0</td>\n",
       "      <td>0</td>\n",
       "      <td>0</td>\n",
       "      <td>0</td>\n",
       "      <td>0</td>\n",
       "      <td>0</td>\n",
       "      <td>0</td>\n",
       "      <td>0</td>\n",
       "      <td>1</td>\n",
       "      <td>...</td>\n",
       "      <td>0</td>\n",
       "      <td>0</td>\n",
       "      <td>0</td>\n",
       "      <td>0</td>\n",
       "      <td>0</td>\n",
       "      <td>0</td>\n",
       "      <td>0</td>\n",
       "      <td>0</td>\n",
       "      <td>0</td>\n",
       "      <td>0</td>\n",
       "    </tr>\n",
       "    <tr>\n",
       "      <td>2161353</td>\n",
       "      <td>0</td>\n",
       "      <td>0</td>\n",
       "      <td>0</td>\n",
       "      <td>0</td>\n",
       "      <td>0</td>\n",
       "      <td>0</td>\n",
       "      <td>0</td>\n",
       "      <td>0</td>\n",
       "      <td>0</td>\n",
       "      <td>1</td>\n",
       "      <td>...</td>\n",
       "      <td>0</td>\n",
       "      <td>0</td>\n",
       "      <td>0</td>\n",
       "      <td>0</td>\n",
       "      <td>0</td>\n",
       "      <td>0</td>\n",
       "      <td>0</td>\n",
       "      <td>0</td>\n",
       "      <td>0</td>\n",
       "      <td>0</td>\n",
       "    </tr>\n",
       "    <tr>\n",
       "      <td>2161354</td>\n",
       "      <td>0</td>\n",
       "      <td>0</td>\n",
       "      <td>0</td>\n",
       "      <td>0</td>\n",
       "      <td>0</td>\n",
       "      <td>0</td>\n",
       "      <td>0</td>\n",
       "      <td>0</td>\n",
       "      <td>0</td>\n",
       "      <td>1</td>\n",
       "      <td>...</td>\n",
       "      <td>0</td>\n",
       "      <td>0</td>\n",
       "      <td>0</td>\n",
       "      <td>0</td>\n",
       "      <td>0</td>\n",
       "      <td>0</td>\n",
       "      <td>0</td>\n",
       "      <td>0</td>\n",
       "      <td>0</td>\n",
       "      <td>0</td>\n",
       "    </tr>\n",
       "  </tbody>\n",
       "</table>\n",
       "<p>65078 rows × 62 columns</p>\n",
       "</div>"
      ],
      "text/plain": [
       "            Bank_Boston  Bank_Chicago  Bank_Cincinnati  Bank_Dallas  \\\n",
       "AssignedID                                                            \n",
       "2131406               0             0                0            0   \n",
       "2131407               0             0                0            0   \n",
       "2131408               0             0                0            0   \n",
       "2131409               0             0                0            0   \n",
       "2131410               0             0                0            0   \n",
       "...                 ...           ...              ...          ...   \n",
       "2161350               0             0                0            0   \n",
       "2161351               0             0                0            0   \n",
       "2161352               0             0                0            0   \n",
       "2161353               0             0                0            0   \n",
       "2161354               0             0                0            0   \n",
       "\n",
       "            Bank_Des Moines  Bank_Indianapolis  Bank_New York  \\\n",
       "AssignedID                                                      \n",
       "2131406                   0                  0              0   \n",
       "2131407                   0                  0              0   \n",
       "2131408                   0                  0              0   \n",
       "2131409                   0                  0              0   \n",
       "2131410                   0                  0              0   \n",
       "...                     ...                ...            ...   \n",
       "2161350                   0                  0              0   \n",
       "2161351                   0                  0              0   \n",
       "2161352                   0                  0              0   \n",
       "2161353                   0                  0              0   \n",
       "2161354                   0                  0              0   \n",
       "\n",
       "            Bank_Pittsburgh  Bank_San Francisco  Bank_Topeka  ...  \\\n",
       "AssignedID                                                    ...   \n",
       "2131406                   0                   0            0  ...   \n",
       "2131407                   0                   0            0  ...   \n",
       "2131408                   0                   0            0  ...   \n",
       "2131409                   0                   0            0  ...   \n",
       "2131410                   0                   0            0  ...   \n",
       "...                     ...                 ...          ...  ...   \n",
       "2161350                   0                   0            1  ...   \n",
       "2161351                   0                   0            1  ...   \n",
       "2161352                   0                   0            1  ...   \n",
       "2161353                   0                   0            1  ...   \n",
       "2161354                   0                   0            1  ...   \n",
       "\n",
       "            FIPSStateCode_51  FIPSStateCode_53  FIPSStateCode_54  \\\n",
       "AssignedID                                                         \n",
       "2131406                    0                 0                 0   \n",
       "2131407                    0                 0                 0   \n",
       "2131408                    1                 0                 0   \n",
       "2131409                    1                 0                 0   \n",
       "2131410                    0                 0                 0   \n",
       "...                      ...               ...               ...   \n",
       "2161350                    0                 0                 0   \n",
       "2161351                    0                 0                 0   \n",
       "2161352                    0                 0                 0   \n",
       "2161353                    0                 0                 0   \n",
       "2161354                    0                 0                 0   \n",
       "\n",
       "            FIPSStateCode_55  FIPSStateCode_56  FIPSStateCode_6  \\\n",
       "AssignedID                                                        \n",
       "2131406                    0                 0                0   \n",
       "2131407                    0                 0                0   \n",
       "2131408                    0                 0                0   \n",
       "2131409                    0                 0                0   \n",
       "2131410                    0                 0                0   \n",
       "...                      ...               ...              ...   \n",
       "2161350                    0                 0                0   \n",
       "2161351                    0                 0                0   \n",
       "2161352                    0                 0                0   \n",
       "2161353                    0                 0                0   \n",
       "2161354                    0                 0                0   \n",
       "\n",
       "            FIPSStateCode_66  FIPSStateCode_72  FIPSStateCode_8  \\\n",
       "AssignedID                                                        \n",
       "2131406                    0                 0                0   \n",
       "2131407                    0                 0                0   \n",
       "2131408                    0                 0                0   \n",
       "2131409                    0                 0                0   \n",
       "2131410                    0                 0                0   \n",
       "...                      ...               ...              ...   \n",
       "2161350                    0                 0                0   \n",
       "2161351                    0                 0                0   \n",
       "2161352                    0                 0                0   \n",
       "2161353                    0                 0                0   \n",
       "2161354                    0                 0                0   \n",
       "\n",
       "            FIPSStateCode_9  \n",
       "AssignedID                   \n",
       "2131406                   0  \n",
       "2131407                   0  \n",
       "2131408                   0  \n",
       "2131409                   0  \n",
       "2131410                   0  \n",
       "...                     ...  \n",
       "2161350                   0  \n",
       "2161351                   0  \n",
       "2161352                   0  \n",
       "2161353                   0  \n",
       "2161354                   0  \n",
       "\n",
       "[65078 rows x 62 columns]"
      ]
     },
     "execution_count": 96,
     "metadata": {},
     "output_type": "execute_result"
    }
   ],
   "source": [
    "# Get dummies for Bank and State code to prep for kmeans\n",
    "cols_for_dummy = ['Bank', 'FIPSStateCode']\n",
    "dummy_bank_state_df = dummy_getter(geo_df, cols_for_dummy)\n",
    "dummy_bank_state_df"
   ]
  },
  {
   "cell_type": "code",
   "execution_count": 97,
   "metadata": {},
   "outputs": [],
   "source": [
    "# import  Kmeans clustering\n",
    "from sklearn.cluster import KMeans, AgglomerativeClustering\n",
    "from sklearn.metrics import calinski_harabasz_score\n",
    "\n",
    "k_means_2 = KMeans(n_clusters=2)\n",
    "k_means_2.fit(dummy_bank_state_df)\n",
    "k_2_preds = k_means_2.predict(dummy_bank_state_df)\n",
    "\n"
   ]
  },
  {
   "cell_type": "code",
   "execution_count": 98,
   "metadata": {},
   "outputs": [],
   "source": [
    "\n",
    "# find optimal level of k\n",
    "\n",
    "k_means_3 = KMeans(n_clusters=3).fit(dummy_bank_state_df)\n",
    "k_means_4 = KMeans(n_clusters=4).fit(dummy_bank_state_df)\n",
    "k_means_5 = KMeans(n_clusters=5).fit(dummy_bank_state_df)\n",
    "k_means_6 = KMeans(n_clusters=6).fit(dummy_bank_state_df)\n",
    "k_means_7 = KMeans(n_clusters=7).fit(dummy_bank_state_df)\n",
    "k_means_8 = KMeans(n_clusters=8).fit(dummy_bank_state_df)\n",
    "k_means_9 = KMeans(n_clusters=9).fit(dummy_bank_state_df)\n",
    "\n",
    "\n",
    "k_list = [k_means_2, k_means_3, k_means_4, k_means_5, k_means_6, k_means_7, k_means_8, k_means_9]\n",
    "\n",
    "# get calinski harabasz score\n",
    "ch_score = []\n",
    "\n",
    "for model in k_list:\n",
    "    labels = model.labels_\n",
    "    ch_score.append(calinski_harabasz_score(dummy_bank_state_df, labels))\n",
    "    \n"
   ]
  },
  {
   "cell_type": "code",
   "execution_count": 99,
   "metadata": {},
   "outputs": [
    {
     "data": {
      "image/png": "[encoded data removed]",
      "text/plain": [
       "<Figure size 432x288 with 1 Axes>"
      ]
     },
     "metadata": {
      "needs_background": "light"
     },
     "output_type": "display_data"
    }
   ],
   "source": [
    "# graph ch score to look for elbow\n",
    "plt.plot([2,3, 4, 5, 6, 7,8,9], ch_score)\n",
    "plt.xticks([2,3,4,5,6,7,8,9])\n",
    "plt.title('Calinski Harabasz Scores for Different Values of K')\n",
    "plt.ylabel('Variance Ratio')\n",
    "plt.xlabel('K=')\n",
    "plt.show()"
   ]
  },
  {
   "cell_type": "code",
   "execution_count": 100,
   "metadata": {},
   "outputs": [
    {
     "data": {
      "text/plain": [
       "[0, 1, 2, 3, 4, 5]"
      ]
     },
     "execution_count": 100,
     "metadata": {},
     "output_type": "execute_result"
    }
   ],
   "source": [
    "# Looks like k=6 is the best ch score\n",
    "# predict on k=6 and get clusters\n",
    "k_6_preds = k_means_6.predict(dummy_bank_state_df)\n",
    "k_6_pred_vals = list(set(k_6_preds))\n",
    "k_6_pred_vals\n"
   ]
  },
  {
   "cell_type": "code",
   "execution_count": 101,
   "metadata": {
    "scrolled": true
   },
   "outputs": [
    {
     "data": {
      "text/html": [
       "<div>\n",
       "<style scoped>\n",
       "    .dataframe tbody tr th:only-of-type {\n",
       "        vertical-align: middle;\n",
       "    }\n",
       "\n",
       "    .dataframe tbody tr th {\n",
       "        vertical-align: top;\n",
       "    }\n",
       "\n",
       "    .dataframe thead th {\n",
       "        text-align: right;\n",
       "    }\n",
       "</style>\n",
       "<table border=\"1\" class=\"dataframe\">\n",
       "  <thead>\n",
       "    <tr style=\"text-align: right;\">\n",
       "      <th></th>\n",
       "      <th>Bank</th>\n",
       "      <th>FIPSStateCode</th>\n",
       "      <th>FIPSCountyCode</th>\n",
       "      <th>MSA</th>\n",
       "      <th>FeatureID</th>\n",
       "      <th>Tract</th>\n",
       "      <th>MinPer</th>\n",
       "      <th>TraMedY</th>\n",
       "      <th>LocMedY</th>\n",
       "      <th>Tractrat</th>\n",
       "      <th>...</th>\n",
       "      <th>Corace4</th>\n",
       "      <th>Corace5</th>\n",
       "      <th>HOEPA</th>\n",
       "      <th>LienStatus</th>\n",
       "      <th>SpcHsgGoals</th>\n",
       "      <th>FedFinStbltyPlan</th>\n",
       "      <th>AcqTyp</th>\n",
       "      <th>GSEREO</th>\n",
       "      <th>GeoID</th>\n",
       "      <th>BankStateCluster</th>\n",
       "    </tr>\n",
       "    <tr>\n",
       "      <th>AssignedID</th>\n",
       "      <th></th>\n",
       "      <th></th>\n",
       "      <th></th>\n",
       "      <th></th>\n",
       "      <th></th>\n",
       "      <th></th>\n",
       "      <th></th>\n",
       "      <th></th>\n",
       "      <th></th>\n",
       "      <th></th>\n",
       "      <th></th>\n",
       "      <th></th>\n",
       "      <th></th>\n",
       "      <th></th>\n",
       "      <th></th>\n",
       "      <th></th>\n",
       "      <th></th>\n",
       "      <th></th>\n",
       "      <th></th>\n",
       "      <th></th>\n",
       "      <th></th>\n",
       "    </tr>\n",
       "  </thead>\n",
       "  <tbody>\n",
       "    <tr>\n",
       "      <td>2131406</td>\n",
       "      <td>Atlanta</td>\n",
       "      <td>24</td>\n",
       "      <td>21</td>\n",
       "      <td>47900</td>\n",
       "      <td>9999999999</td>\n",
       "      <td>7512.01</td>\n",
       "      <td>29.85</td>\n",
       "      <td>93261</td>\n",
       "      <td>108141</td>\n",
       "      <td>0.8624</td>\n",
       "      <td>...</td>\n",
       "      <td>6</td>\n",
       "      <td>6</td>\n",
       "      <td>2</td>\n",
       "      <td>1</td>\n",
       "      <td>2</td>\n",
       "      <td>2</td>\n",
       "      <td>1</td>\n",
       "      <td>2</td>\n",
       "      <td>2.421751e+07</td>\n",
       "      <td>0</td>\n",
       "    </tr>\n",
       "    <tr>\n",
       "      <td>2131407</td>\n",
       "      <td>Atlanta</td>\n",
       "      <td>24</td>\n",
       "      <td>17</td>\n",
       "      <td>47900</td>\n",
       "      <td>9999999999</td>\n",
       "      <td>8509.04</td>\n",
       "      <td>67.24</td>\n",
       "      <td>112623</td>\n",
       "      <td>108141</td>\n",
       "      <td>1.0414</td>\n",
       "      <td>...</td>\n",
       "      <td>6</td>\n",
       "      <td>6</td>\n",
       "      <td>2</td>\n",
       "      <td>1</td>\n",
       "      <td>2</td>\n",
       "      <td>2</td>\n",
       "      <td>1</td>\n",
       "      <td>2</td>\n",
       "      <td>2.417851e+07</td>\n",
       "      <td>0</td>\n",
       "    </tr>\n",
       "    <tr>\n",
       "      <td>2131408</td>\n",
       "      <td>Atlanta</td>\n",
       "      <td>51</td>\n",
       "      <td>153</td>\n",
       "      <td>47900</td>\n",
       "      <td>9999999999</td>\n",
       "      <td>9012.36</td>\n",
       "      <td>40.76</td>\n",
       "      <td>140156</td>\n",
       "      <td>108141</td>\n",
       "      <td>1.2960</td>\n",
       "      <td>...</td>\n",
       "      <td>6</td>\n",
       "      <td>6</td>\n",
       "      <td>2</td>\n",
       "      <td>1</td>\n",
       "      <td>2</td>\n",
       "      <td>2</td>\n",
       "      <td>1</td>\n",
       "      <td>2</td>\n",
       "      <td>5.115390e+08</td>\n",
       "      <td>0</td>\n",
       "    </tr>\n",
       "    <tr>\n",
       "      <td>2131409</td>\n",
       "      <td>Atlanta</td>\n",
       "      <td>51</td>\n",
       "      <td>59</td>\n",
       "      <td>47900</td>\n",
       "      <td>9999999999</td>\n",
       "      <td>4221.02</td>\n",
       "      <td>75.97</td>\n",
       "      <td>89250</td>\n",
       "      <td>108141</td>\n",
       "      <td>0.8253</td>\n",
       "      <td>...</td>\n",
       "      <td>8</td>\n",
       "      <td>8</td>\n",
       "      <td>2</td>\n",
       "      <td>1</td>\n",
       "      <td>2</td>\n",
       "      <td>2</td>\n",
       "      <td>1</td>\n",
       "      <td>2</td>\n",
       "      <td>5.159422e+07</td>\n",
       "      <td>0</td>\n",
       "    </tr>\n",
       "    <tr>\n",
       "      <td>2131410</td>\n",
       "      <td>Atlanta</td>\n",
       "      <td>24</td>\n",
       "      <td>5</td>\n",
       "      <td>12580</td>\n",
       "      <td>9999999999</td>\n",
       "      <td>4924.02</td>\n",
       "      <td>64.56</td>\n",
       "      <td>81397</td>\n",
       "      <td>87788</td>\n",
       "      <td>0.9272</td>\n",
       "      <td>...</td>\n",
       "      <td>8</td>\n",
       "      <td>8</td>\n",
       "      <td>2</td>\n",
       "      <td>1</td>\n",
       "      <td>2</td>\n",
       "      <td>2</td>\n",
       "      <td>1</td>\n",
       "      <td>2</td>\n",
       "      <td>2.454924e+06</td>\n",
       "      <td>0</td>\n",
       "    </tr>\n",
       "  </tbody>\n",
       "</table>\n",
       "<p>5 rows × 82 columns</p>\n",
       "</div>"
      ],
      "text/plain": [
       "               Bank FIPSStateCode FIPSCountyCode    MSA   FeatureID    Tract  \\\n",
       "AssignedID                                                                     \n",
       "2131406     Atlanta            24             21  47900  9999999999  7512.01   \n",
       "2131407     Atlanta            24             17  47900  9999999999  8509.04   \n",
       "2131408     Atlanta            51            153  47900  9999999999  9012.36   \n",
       "2131409     Atlanta            51             59  47900  9999999999  4221.02   \n",
       "2131410     Atlanta            24              5  12580  9999999999  4924.02   \n",
       "\n",
       "            MinPer  TraMedY  LocMedY  Tractrat  ...  Corace4  Corace5  HOEPA  \\\n",
       "AssignedID                                      ...                            \n",
       "2131406      29.85    93261   108141    0.8624  ...        6        6      2   \n",
       "2131407      67.24   112623   108141    1.0414  ...        6        6      2   \n",
       "2131408      40.76   140156   108141    1.2960  ...        6        6      2   \n",
       "2131409      75.97    89250   108141    0.8253  ...        8        8      2   \n",
       "2131410      64.56    81397    87788    0.9272  ...        8        8      2   \n",
       "\n",
       "            LienStatus  SpcHsgGoals  FedFinStbltyPlan  AcqTyp  GSEREO  \\\n",
       "AssignedID                                                              \n",
       "2131406              1            2                 2       1       2   \n",
       "2131407              1            2                 2       1       2   \n",
       "2131408              1            2                 2       1       2   \n",
       "2131409              1            2                 2       1       2   \n",
       "2131410              1            2                 2       1       2   \n",
       "\n",
       "                   GeoID  BankStateCluster  \n",
       "AssignedID                                  \n",
       "2131406     2.421751e+07                 0  \n",
       "2131407     2.417851e+07                 0  \n",
       "2131408     5.115390e+08                 0  \n",
       "2131409     5.159422e+07                 0  \n",
       "2131410     2.454924e+06                 0  \n",
       "\n",
       "[5 rows x 82 columns]"
      ]
     },
     "execution_count": 101,
     "metadata": {},
     "output_type": "execute_result"
    }
   ],
   "source": [
    "# create column with the bank state cluster\n",
    "data['BankStateCluster'] = k_6_preds\n",
    "data.head()"
   ]
  },
  {
   "cell_type": "code",
   "execution_count": 102,
   "metadata": {},
   "outputs": [
    {
     "name": "stdout",
     "output_type": "stream",
     "text": [
      "Cluster: 0\n",
      "Dallas           5226\n",
      "Pittsburgh       3535\n",
      "Boston           2562\n",
      "San Francisco    2254\n",
      "New York         1098\n",
      "Atlanta           997\n",
      "Name: Bank, dtype: int64\n",
      "Cluster: 1\n",
      "Indianapolis    9454\n",
      "Name: Bank, dtype: int64\n",
      "Cluster: 2\n",
      "Topeka    9548\n",
      "Name: Bank, dtype: int64\n",
      "Cluster: 3\n",
      "Cincinnati    8925\n",
      "Name: Bank, dtype: int64\n",
      "Cluster: 4\n",
      "Des Moines    8719\n",
      "Name: Bank, dtype: int64\n",
      "Cluster: 5\n",
      "Chicago    12760\n",
      "Name: Bank, dtype: int64\n"
     ]
    }
   ],
   "source": [
    "# look at how many bank districts are in each cluster\n",
    "for val in k_6_pred_vals:\n",
    "    print('Cluster:',val)\n",
    "    print(data[data.BankStateCluster == val]['Bank'].value_counts())"
   ]
  },
  {
   "cell_type": "code",
   "execution_count": 103,
   "metadata": {},
   "outputs": [
    {
     "name": "stdout",
     "output_type": "stream",
     "text": [
      "BankStateCluster\n",
      "0    126259.333716\n",
      "Name: RawIncome, dtype: float64\n",
      "BankStateCluster\n",
      "1    115938.586313\n",
      "Name: RawIncome, dtype: float64\n",
      "BankStateCluster\n",
      "2    110989.176267\n",
      "Name: RawIncome, dtype: float64\n",
      "BankStateCluster\n",
      "3    112698.123585\n",
      "Name: RawIncome, dtype: float64\n",
      "BankStateCluster\n",
      "4    97328.123065\n",
      "Name: RawIncome, dtype: float64\n",
      "BankStateCluster\n",
      "5    105759.976724\n",
      "Name: RawIncome, dtype: float64\n"
     ]
    }
   ],
   "source": [
    "# Look at clusters and thier mean borrower income\n",
    "\n",
    "# income data was log transformed earlier\n",
    "# bring raw income data back into data to see data in whole dollars\n",
    "data[\"RawIncome\"] = inc_raw\n",
    "\n",
    "for val in k_6_pred_vals:\n",
    "    print(data[data.BankStateCluster == val].groupby('BankStateCluster')['RawIncome'].mean())"
   ]
  },
  {
   "cell_type": "code",
   "execution_count": 104,
   "metadata": {},
   "outputs": [
    {
     "name": "stdout",
     "output_type": "stream",
     "text": [
      "BankStateCluster\n",
      "0    1.210754\n",
      "Name: Tractrat, dtype: float64\n",
      "BankStateCluster\n",
      "1    1.182772\n",
      "Name: Tractrat, dtype: float64\n",
      "BankStateCluster\n",
      "2    1.162332\n",
      "Name: Tractrat, dtype: float64\n",
      "BankStateCluster\n",
      "3    1.257429\n",
      "Name: Tractrat, dtype: float64\n",
      "BankStateCluster\n",
      "4    1.070702\n",
      "Name: Tractrat, dtype: float64\n",
      "BankStateCluster\n",
      "5    1.143257\n",
      "Name: Tractrat, dtype: float64\n"
     ]
    }
   ],
   "source": [
    "# Look at clusters and and their mean Tract income ratio\n",
    "for val in k_6_pred_vals:\n",
    "    print(data[data.BankStateCluster == val].groupby('BankStateCluster')['Tractrat'].mean())"
   ]
  },
  {
   "cell_type": "code",
   "execution_count": 105,
   "metadata": {},
   "outputs": [],
   "source": [
    "def cluster_func(dummy_df):\n",
    "    \"\"\"\n",
    "    Get KMeans clusters from dummy variables.  Keep the number of clusters from 2-9\n",
    "    \n",
    "    Input: DataFrame of dummy variables\n",
    "    Output: Result statement detailing how many clusters and ch score\n",
    "            Predicted clusters\n",
    "    \"\"\"\n",
    "    k_nums = list(range(2,10))\n",
    "    \n",
    "    # dictionary of k values and kmeans.fit\n",
    "    vals = [KMeans(n_clusters=val).fit(dummy_df) for val in k_nums]\n",
    "    \n",
    "    fit_dict = {k:v for k,v in zip(k_nums,vals)}\n",
    "    \n",
    "    # get max ch score for KMeans fit\n",
    "    ch_score = []\n",
    "    for k in k_nums:\n",
    "        ch_score.append(calinski_harabasz_score(dummy_df, KMeans(n_clusters=k).fit(dummy_df).labels_))\n",
    "    \n",
    "    ch_score_dict = {k:v for k,v in zip(k_nums,ch_score)}\n",
    "    \n",
    "    for k in k_nums:\n",
    "        if ch_score_dict[k] == max(ch_score_dict.values()):\n",
    "            k_max = k\n",
    "    \n",
    "    #fit KMeans with the k value that had highest ch score\n",
    "    model = KMeans(n_clusters=k_max).fit(dummy_df)\n",
    "    model_preds = model.predict(dummy_df)\n",
    "    pred_vals = list(set(model_preds))\n",
    "    \n",
    "    return(print(\"Number of Clusters:\", k_max), model_preds)\n",
    "    \n",
    "    \n"
   ]
  },
  {
   "cell_type": "code",
   "execution_count": 106,
   "metadata": {},
   "outputs": [
    {
     "name": "stdout",
     "output_type": "stream",
     "text": [
      "Number of Clusters: 9\n"
     ]
    }
   ],
   "source": [
    "dummy_state = dummy_getter(data, ['FIPSStateCode'])\n",
    "results, predictions = cluster_func(dummy_state)\n",
    "results"
   ]
  },
  {
   "cell_type": "code",
   "execution_count": 107,
   "metadata": {},
   "outputs": [
    {
     "data": {
      "text/plain": [
       "0    32030\n",
       "2     5290\n",
       "5     4737\n",
       "1     4640\n",
       "3     4038\n",
       "4     4002\n",
       "7     3763\n",
       "8     3321\n",
       "6     3257\n",
       "Name: StateCluster, dtype: int64"
      ]
     },
     "execution_count": 107,
     "metadata": {},
     "output_type": "execute_result"
    }
   ],
   "source": [
    "data['StateCluster'] = predictions\n",
    "data.StateCluster.value_counts()"
   ]
  },
  {
   "cell_type": "code",
   "execution_count": 108,
   "metadata": {},
   "outputs": [
    {
     "name": "stdout",
     "output_type": "stream",
     "text": [
      "Cluster:  0 19    3214\n",
      "29    2557\n",
      "31    2054\n",
      "8     1964\n",
      "42    1932\n",
      "27    1818\n",
      "25    1469\n",
      "51    1374\n",
      "21    1293\n",
      "12    1131\n",
      "40     999\n",
      "36     989\n",
      "13     910\n",
      "46     876\n",
      "24     811\n",
      "37     762\n",
      "47     719\n",
      "16     712\n",
      "9      622\n",
      "4      572\n",
      "34     537\n",
      "41     515\n",
      "5      504\n",
      "53     409\n",
      "22     375\n",
      "1      327\n",
      "45     312\n",
      "32     301\n",
      "49     288\n",
      "35     224\n",
      "23     164\n",
      "54     150\n",
      "33     142\n",
      "30     140\n",
      "50     136\n",
      "11     122\n",
      "28     101\n",
      "56      99\n",
      "66      98\n",
      "38      89\n",
      "44      68\n",
      "10      62\n",
      "72      47\n",
      "15      25\n",
      "2       17\n",
      "Name: FIPSStateCode, dtype: int64\n",
      "Cluster:  1 17    4640\n",
      "Name: FIPSStateCode, dtype: int64\n",
      "Cluster:  2 39    5290\n",
      "Name: FIPSStateCode, dtype: int64\n",
      "Cluster:  3 18    4038\n",
      "Name: FIPSStateCode, dtype: int64\n",
      "Cluster:  4 6    4002\n",
      "Name: FIPSStateCode, dtype: int64\n",
      "Cluster:  5 55    4737\n",
      "Name: FIPSStateCode, dtype: int64\n",
      "Cluster:  6 48    3257\n",
      "Name: FIPSStateCode, dtype: int64\n",
      "Cluster:  7 20    3763\n",
      "Name: FIPSStateCode, dtype: int64\n",
      "Cluster:  8 26    3321\n",
      "Name: FIPSStateCode, dtype: int64\n"
     ]
    }
   ],
   "source": [
    "for val in range(0,9):\n",
    "    \n",
    "    print(\"Cluster: \", val, data[data.StateCluster == val]['FIPSStateCode'].value_counts())"
   ]
  },
  {
   "cell_type": "code",
   "execution_count": 109,
   "metadata": {},
   "outputs": [],
   "source": [
    "data['StateCounty'] = data.FIPSStateCode + data.FIPSCountyCode"
   ]
  },
  {
   "cell_type": "code",
   "execution_count": 110,
   "metadata": {},
   "outputs": [
    {
     "data": {
      "text/html": [
       "<div>\n",
       "<style scoped>\n",
       "    .dataframe tbody tr th:only-of-type {\n",
       "        vertical-align: middle;\n",
       "    }\n",
       "\n",
       "    .dataframe tbody tr th {\n",
       "        vertical-align: top;\n",
       "    }\n",
       "\n",
       "    .dataframe thead th {\n",
       "        text-align: right;\n",
       "    }\n",
       "</style>\n",
       "<table border=\"1\" class=\"dataframe\">\n",
       "  <thead>\n",
       "    <tr style=\"text-align: right;\">\n",
       "      <th></th>\n",
       "      <th>Bank</th>\n",
       "      <th>FIPSStateCode</th>\n",
       "      <th>FIPSCountyCode</th>\n",
       "      <th>MSA</th>\n",
       "      <th>FeatureID</th>\n",
       "      <th>Tract</th>\n",
       "      <th>GeoID</th>\n",
       "      <th>MinPer</th>\n",
       "      <th>PropType</th>\n",
       "    </tr>\n",
       "    <tr>\n",
       "      <th>AssignedID</th>\n",
       "      <th></th>\n",
       "      <th></th>\n",
       "      <th></th>\n",
       "      <th></th>\n",
       "      <th></th>\n",
       "      <th></th>\n",
       "      <th></th>\n",
       "      <th></th>\n",
       "      <th></th>\n",
       "    </tr>\n",
       "  </thead>\n",
       "  <tbody>\n",
       "    <tr>\n",
       "      <td>2131406</td>\n",
       "      <td>Atlanta</td>\n",
       "      <td>24</td>\n",
       "      <td>21</td>\n",
       "      <td>47900</td>\n",
       "      <td>9999999999</td>\n",
       "      <td>7512.01</td>\n",
       "      <td>2.421751e+07</td>\n",
       "      <td>29.85</td>\n",
       "      <td>PT07</td>\n",
       "    </tr>\n",
       "    <tr>\n",
       "      <td>2131407</td>\n",
       "      <td>Atlanta</td>\n",
       "      <td>24</td>\n",
       "      <td>17</td>\n",
       "      <td>47900</td>\n",
       "      <td>9999999999</td>\n",
       "      <td>8509.04</td>\n",
       "      <td>2.417851e+07</td>\n",
       "      <td>67.24</td>\n",
       "      <td>PT07</td>\n",
       "    </tr>\n",
       "    <tr>\n",
       "      <td>2131408</td>\n",
       "      <td>Atlanta</td>\n",
       "      <td>51</td>\n",
       "      <td>153</td>\n",
       "      <td>47900</td>\n",
       "      <td>9999999999</td>\n",
       "      <td>9012.36</td>\n",
       "      <td>5.115390e+08</td>\n",
       "      <td>40.76</td>\n",
       "      <td>PT07</td>\n",
       "    </tr>\n",
       "    <tr>\n",
       "      <td>2131409</td>\n",
       "      <td>Atlanta</td>\n",
       "      <td>51</td>\n",
       "      <td>59</td>\n",
       "      <td>47900</td>\n",
       "      <td>9999999999</td>\n",
       "      <td>4221.02</td>\n",
       "      <td>5.159422e+07</td>\n",
       "      <td>75.97</td>\n",
       "      <td>PT07</td>\n",
       "    </tr>\n",
       "    <tr>\n",
       "      <td>2131410</td>\n",
       "      <td>Atlanta</td>\n",
       "      <td>24</td>\n",
       "      <td>5</td>\n",
       "      <td>12580</td>\n",
       "      <td>9999999999</td>\n",
       "      <td>4924.02</td>\n",
       "      <td>2.454924e+06</td>\n",
       "      <td>64.56</td>\n",
       "      <td>PT01</td>\n",
       "    </tr>\n",
       "  </tbody>\n",
       "</table>\n",
       "</div>"
      ],
      "text/plain": [
       "               Bank FIPSStateCode FIPSCountyCode    MSA   FeatureID    Tract  \\\n",
       "AssignedID                                                                     \n",
       "2131406     Atlanta            24             21  47900  9999999999  7512.01   \n",
       "2131407     Atlanta            24             17  47900  9999999999  8509.04   \n",
       "2131408     Atlanta            51            153  47900  9999999999  9012.36   \n",
       "2131409     Atlanta            51             59  47900  9999999999  4221.02   \n",
       "2131410     Atlanta            24              5  12580  9999999999  4924.02   \n",
       "\n",
       "                   GeoID  MinPer PropType  \n",
       "AssignedID                                 \n",
       "2131406     2.421751e+07   29.85     PT07  \n",
       "2131407     2.417851e+07   67.24     PT07  \n",
       "2131408     5.115390e+08   40.76     PT07  \n",
       "2131409     5.159422e+07   75.97     PT07  \n",
       "2131410     2.454924e+06   64.56     PT01  "
      ]
     },
     "execution_count": 110,
     "metadata": {},
     "output_type": "execute_result"
    }
   ],
   "source": [
    "geo_df.head()"
   ]
  },
  {
   "cell_type": "markdown",
   "metadata": {},
   "source": [
    "# Geo data problems\n",
    "\n",
    "Trying to do clustering as a form of feature engineering presents a few problems.  One problem is that the codes for the state, county, and MSA have no real distance metric.  Primarily they are just numbered alphabetically for each state and county.  This doesn't really mean anything as far as KMeans and the distance between points.  I tried to use dummy variables to see if KMeans could find some similarities, but ran into dimensionality problems.  I am going to keep the state cluster in the model to see how it works.  "
   ]
  },
  {
   "cell_type": "code",
   "execution_count": 111,
   "metadata": {},
   "outputs": [
    {
     "data": {
      "text/plain": [
       "dtype('int32')"
      ]
     },
     "execution_count": 111,
     "metadata": {},
     "output_type": "execute_result"
    }
   ],
   "source": [
    "# cluster cols are integers and dummy function wants it in string\n",
    "data.StateCluster.dtype"
   ]
  },
  {
   "cell_type": "code",
   "execution_count": 112,
   "metadata": {},
   "outputs": [
    {
     "data": {
      "text/plain": [
       "0    32030\n",
       "2     5290\n",
       "5     4737\n",
       "1     4640\n",
       "3     4038\n",
       "4     4002\n",
       "7     3763\n",
       "8     3321\n",
       "6     3257\n",
       "Name: StateCluster, dtype: int64"
      ]
     },
     "execution_count": 112,
     "metadata": {},
     "output_type": "execute_result"
    }
   ],
   "source": [
    "# convert dtype to string\n",
    "data.StateCluster = data.StateCluster.astype(str)\n",
    "data.StateCluster.dtype\n",
    "data.StateCluster.value_counts()"
   ]
  },
  {
   "cell_type": "code",
   "execution_count": 113,
   "metadata": {},
   "outputs": [],
   "source": [
    "# get a list for columns for model dataframe\n",
    "cols_for_model = []\n",
    "\n",
    "# get cluster cols into dummy vars for model\n",
    "cluster_dummy_state = dummy_getter(data, ['StateCluster'])\n",
    "for col in cluster_dummy_state.columns:\n",
    "    cols_for_model.append(col)\n"
   ]
  },
  {
   "cell_type": "code",
   "execution_count": 114,
   "metadata": {},
   "outputs": [],
   "source": [
    "# append MinPer col to model list\n",
    "cols_for_model.append('MinPer')"
   ]
  },
  {
   "cell_type": "code",
   "execution_count": 115,
   "metadata": {},
   "outputs": [
    {
     "data": {
      "text/html": [
       "<div>\n",
       "<style scoped>\n",
       "    .dataframe tbody tr th:only-of-type {\n",
       "        vertical-align: middle;\n",
       "    }\n",
       "\n",
       "    .dataframe tbody tr th {\n",
       "        vertical-align: top;\n",
       "    }\n",
       "\n",
       "    .dataframe thead th {\n",
       "        text-align: right;\n",
       "    }\n",
       "</style>\n",
       "<table border=\"1\" class=\"dataframe\">\n",
       "  <thead>\n",
       "    <tr style=\"text-align: right;\">\n",
       "      <th></th>\n",
       "      <th>Bank</th>\n",
       "      <th>FIPSStateCode</th>\n",
       "      <th>FIPSCountyCode</th>\n",
       "      <th>MSA</th>\n",
       "      <th>FeatureID</th>\n",
       "      <th>Tract</th>\n",
       "      <th>MinPer</th>\n",
       "      <th>TraMedY</th>\n",
       "      <th>LocMedY</th>\n",
       "      <th>Tractrat</th>\n",
       "      <th>...</th>\n",
       "      <th>StateCluster</th>\n",
       "      <th>StateCounty</th>\n",
       "      <th>StateCluster_0</th>\n",
       "      <th>StateCluster_1</th>\n",
       "      <th>StateCluster_2</th>\n",
       "      <th>StateCluster_3</th>\n",
       "      <th>StateCluster_4</th>\n",
       "      <th>StateCluster_5</th>\n",
       "      <th>StateCluster_7</th>\n",
       "      <th>StateCluster_8</th>\n",
       "    </tr>\n",
       "    <tr>\n",
       "      <th>AssignedID</th>\n",
       "      <th></th>\n",
       "      <th></th>\n",
       "      <th></th>\n",
       "      <th></th>\n",
       "      <th></th>\n",
       "      <th></th>\n",
       "      <th></th>\n",
       "      <th></th>\n",
       "      <th></th>\n",
       "      <th></th>\n",
       "      <th></th>\n",
       "      <th></th>\n",
       "      <th></th>\n",
       "      <th></th>\n",
       "      <th></th>\n",
       "      <th></th>\n",
       "      <th></th>\n",
       "      <th></th>\n",
       "      <th></th>\n",
       "      <th></th>\n",
       "      <th></th>\n",
       "    </tr>\n",
       "  </thead>\n",
       "  <tbody>\n",
       "    <tr>\n",
       "      <td>2131406</td>\n",
       "      <td>Atlanta</td>\n",
       "      <td>24</td>\n",
       "      <td>21</td>\n",
       "      <td>47900</td>\n",
       "      <td>9999999999</td>\n",
       "      <td>7512.01</td>\n",
       "      <td>29.85</td>\n",
       "      <td>93261</td>\n",
       "      <td>108141</td>\n",
       "      <td>0.8624</td>\n",
       "      <td>...</td>\n",
       "      <td>0</td>\n",
       "      <td>2421</td>\n",
       "      <td>1</td>\n",
       "      <td>0</td>\n",
       "      <td>0</td>\n",
       "      <td>0</td>\n",
       "      <td>0</td>\n",
       "      <td>0</td>\n",
       "      <td>0</td>\n",
       "      <td>0</td>\n",
       "    </tr>\n",
       "    <tr>\n",
       "      <td>2131407</td>\n",
       "      <td>Atlanta</td>\n",
       "      <td>24</td>\n",
       "      <td>17</td>\n",
       "      <td>47900</td>\n",
       "      <td>9999999999</td>\n",
       "      <td>8509.04</td>\n",
       "      <td>67.24</td>\n",
       "      <td>112623</td>\n",
       "      <td>108141</td>\n",
       "      <td>1.0414</td>\n",
       "      <td>...</td>\n",
       "      <td>0</td>\n",
       "      <td>2417</td>\n",
       "      <td>1</td>\n",
       "      <td>0</td>\n",
       "      <td>0</td>\n",
       "      <td>0</td>\n",
       "      <td>0</td>\n",
       "      <td>0</td>\n",
       "      <td>0</td>\n",
       "      <td>0</td>\n",
       "    </tr>\n",
       "    <tr>\n",
       "      <td>2131408</td>\n",
       "      <td>Atlanta</td>\n",
       "      <td>51</td>\n",
       "      <td>153</td>\n",
       "      <td>47900</td>\n",
       "      <td>9999999999</td>\n",
       "      <td>9012.36</td>\n",
       "      <td>40.76</td>\n",
       "      <td>140156</td>\n",
       "      <td>108141</td>\n",
       "      <td>1.2960</td>\n",
       "      <td>...</td>\n",
       "      <td>0</td>\n",
       "      <td>51153</td>\n",
       "      <td>1</td>\n",
       "      <td>0</td>\n",
       "      <td>0</td>\n",
       "      <td>0</td>\n",
       "      <td>0</td>\n",
       "      <td>0</td>\n",
       "      <td>0</td>\n",
       "      <td>0</td>\n",
       "    </tr>\n",
       "    <tr>\n",
       "      <td>2131409</td>\n",
       "      <td>Atlanta</td>\n",
       "      <td>51</td>\n",
       "      <td>59</td>\n",
       "      <td>47900</td>\n",
       "      <td>9999999999</td>\n",
       "      <td>4221.02</td>\n",
       "      <td>75.97</td>\n",
       "      <td>89250</td>\n",
       "      <td>108141</td>\n",
       "      <td>0.8253</td>\n",
       "      <td>...</td>\n",
       "      <td>0</td>\n",
       "      <td>5159</td>\n",
       "      <td>1</td>\n",
       "      <td>0</td>\n",
       "      <td>0</td>\n",
       "      <td>0</td>\n",
       "      <td>0</td>\n",
       "      <td>0</td>\n",
       "      <td>0</td>\n",
       "      <td>0</td>\n",
       "    </tr>\n",
       "    <tr>\n",
       "      <td>2131410</td>\n",
       "      <td>Atlanta</td>\n",
       "      <td>24</td>\n",
       "      <td>5</td>\n",
       "      <td>12580</td>\n",
       "      <td>9999999999</td>\n",
       "      <td>4924.02</td>\n",
       "      <td>64.56</td>\n",
       "      <td>81397</td>\n",
       "      <td>87788</td>\n",
       "      <td>0.9272</td>\n",
       "      <td>...</td>\n",
       "      <td>0</td>\n",
       "      <td>245</td>\n",
       "      <td>1</td>\n",
       "      <td>0</td>\n",
       "      <td>0</td>\n",
       "      <td>0</td>\n",
       "      <td>0</td>\n",
       "      <td>0</td>\n",
       "      <td>0</td>\n",
       "      <td>0</td>\n",
       "    </tr>\n",
       "  </tbody>\n",
       "</table>\n",
       "<p>5 rows × 93 columns</p>\n",
       "</div>"
      ],
      "text/plain": [
       "               Bank FIPSStateCode FIPSCountyCode    MSA   FeatureID    Tract  \\\n",
       "AssignedID                                                                     \n",
       "2131406     Atlanta            24             21  47900  9999999999  7512.01   \n",
       "2131407     Atlanta            24             17  47900  9999999999  8509.04   \n",
       "2131408     Atlanta            51            153  47900  9999999999  9012.36   \n",
       "2131409     Atlanta            51             59  47900  9999999999  4221.02   \n",
       "2131410     Atlanta            24              5  12580  9999999999  4924.02   \n",
       "\n",
       "            MinPer  TraMedY  LocMedY  Tractrat  ...  StateCluster  \\\n",
       "AssignedID                                      ...                 \n",
       "2131406      29.85    93261   108141    0.8624  ...             0   \n",
       "2131407      67.24   112623   108141    1.0414  ...             0   \n",
       "2131408      40.76   140156   108141    1.2960  ...             0   \n",
       "2131409      75.97    89250   108141    0.8253  ...             0   \n",
       "2131410      64.56    81397    87788    0.9272  ...             0   \n",
       "\n",
       "            StateCounty  StateCluster_0  StateCluster_1  StateCluster_2  \\\n",
       "AssignedID                                                                \n",
       "2131406            2421               1               0               0   \n",
       "2131407            2417               1               0               0   \n",
       "2131408           51153               1               0               0   \n",
       "2131409            5159               1               0               0   \n",
       "2131410             245               1               0               0   \n",
       "\n",
       "            StateCluster_3  StateCluster_4  StateCluster_5  StateCluster_7  \\\n",
       "AssignedID                                                                   \n",
       "2131406                  0               0               0               0   \n",
       "2131407                  0               0               0               0   \n",
       "2131408                  0               0               0               0   \n",
       "2131409                  0               0               0               0   \n",
       "2131410                  0               0               0               0   \n",
       "\n",
       "            StateCluster_8  \n",
       "AssignedID                  \n",
       "2131406                  0  \n",
       "2131407                  0  \n",
       "2131408                  0  \n",
       "2131409                  0  \n",
       "2131410                  0  \n",
       "\n",
       "[5 rows x 93 columns]"
      ]
     },
     "execution_count": 115,
     "metadata": {},
     "output_type": "execute_result"
    }
   ],
   "source": [
    "# join cluster dummy to data\n",
    "data = data.join(cluster_dummy_state)\n",
    "data.head()"
   ]
  },
  {
   "cell_type": "code",
   "execution_count": 116,
   "metadata": {},
   "outputs": [
    {
     "data": {
      "text/plain": [
       "PT01    48436\n",
       "PT07    10096\n",
       "PT11     2937\n",
       "PT02     2455\n",
       "PT06     1032\n",
       "PT12      121\n",
       "PT04        1\n",
       "Name: PropType, dtype: int64"
      ]
     },
     "execution_count": 116,
     "metadata": {},
     "output_type": "execute_result"
    }
   ],
   "source": [
    "data.PropType.value_counts()"
   ]
  },
  {
   "cell_type": "code",
   "execution_count": 117,
   "metadata": {},
   "outputs": [],
   "source": [
    "# create a dictionary with property type codes and what they represent\n",
    "keys = [idx for idx in data.PropType.value_counts().index]\n",
    "vals = ['Single_Family', 'PUD', 'Hi-Rise_Condo', 'Dem_PUD', 'Low_Rise_Condo', 'Manufactured', 'Two_Family']\n",
    "prop_dict = {k:v for k,v in zip(keys,vals)}"
   ]
  },
  {
   "cell_type": "code",
   "execution_count": 118,
   "metadata": {},
   "outputs": [
    {
     "data": {
      "text/plain": [
       "AssignedID\n",
       "2131406              PUD\n",
       "2131407              PUD\n",
       "2131408              PUD\n",
       "2131409              PUD\n",
       "2131410    Single_Family\n",
       "               ...      \n",
       "2161350              PUD\n",
       "2161351              PUD\n",
       "2161352    Single_Family\n",
       "2161353              PUD\n",
       "2161354    Single_Family\n",
       "Name: PropType, Length: 65078, dtype: object"
      ]
     },
     "execution_count": 118,
     "metadata": {},
     "output_type": "execute_result"
    }
   ],
   "source": [
    "# change Property type code to description\n",
    "data.PropType = data.PropType.apply(lambda x: prop_dict[x])\n",
    "data.PropType"
   ]
  },
  {
   "cell_type": "code",
   "execution_count": 119,
   "metadata": {},
   "outputs": [],
   "source": [
    "# get dummy cols into model column list\n",
    "dummy_prop = dummy_getter(data, ['PropType'])\n",
    "for col in dummy_prop.columns:\n",
    "    cols_for_model.append(col)"
   ]
  },
  {
   "cell_type": "code",
   "execution_count": 120,
   "metadata": {},
   "outputs": [],
   "source": [
    "# join PropType dummy df to data\n",
    "\n",
    "data = data.join(dummy_prop)"
   ]
  },
  {
   "cell_type": "markdown",
   "metadata": {},
   "source": [
    "#  Borrower Data\n",
    "\n",
    "Look at the borrower data and try to get clusters for categories"
   ]
  },
  {
   "cell_type": "code",
   "execution_count": 121,
   "metadata": {},
   "outputs": [
    {
     "name": "stdout",
     "output_type": "stream",
     "text": [
      "<class 'pandas.core.frame.DataFrame'>\n",
      "Int64Index: 65078 entries, 2131406 to 2161354\n",
      "Data columns (total 18 columns):\n",
      "NumBor             65078 non-null int64\n",
      "First              65078 non-null int64\n",
      "BoRace             65078 non-null int64\n",
      "CoRace             65078 non-null int64\n",
      "BoGender           65078 non-null int64\n",
      "CoGender           65078 non-null int64\n",
      "BoAge              65078 non-null int64\n",
      "CoAge              65078 non-null int64\n",
      "Occup              65078 non-null int64\n",
      "BoCreditScore      65078 non-null int64\n",
      "CoBoCreditScore    65078 non-null int64\n",
      "BoEth              65078 non-null int64\n",
      "CoEth              65078 non-null int64\n",
      "Corace2            65078 non-null int64\n",
      "Corace3            65078 non-null int64\n",
      "Corace4            65078 non-null int64\n",
      "Corace5            65078 non-null int64\n",
      "Self               65078 non-null int64\n",
      "dtypes: int64(18)\n",
      "memory usage: 11.9 MB\n"
     ]
    }
   ],
   "source": [
    "borr_df.info()"
   ]
  },
  {
   "cell_type": "code",
   "execution_count": 122,
   "metadata": {},
   "outputs": [
    {
     "data": {
      "text/plain": [
       "2    35664\n",
       "1    29002\n",
       "3      343\n",
       "4       69\n",
       "Name: NumBor, dtype: int64"
      ]
     },
     "execution_count": 122,
     "metadata": {},
     "output_type": "execute_result"
    }
   ],
   "source": [
    "borr_df.NumBor.value_counts()"
   ]
  },
  {
   "cell_type": "code",
   "execution_count": 123,
   "metadata": {},
   "outputs": [],
   "source": [
    "# change num of borrowers to being single  (0) or multi (1)\n",
    "borr_df.NumBor = borr_df.NumBor.apply(lambda x: 0 if x ==1 else 1)\n"
   ]
  },
  {
   "cell_type": "code",
   "execution_count": 124,
   "metadata": {},
   "outputs": [],
   "source": [
    "# change first time home buyer no (2) and yes (1) to (0) for no (1) for yes\n",
    "borr_df.First = borr_df.First.apply(lambda x: 0 if x == 2 else 1)"
   ]
  },
  {
   "cell_type": "code",
   "execution_count": 125,
   "metadata": {},
   "outputs": [
    {
     "data": {
      "text/plain": [
       "5    54211\n",
       "7     6439\n",
       "2     2500\n",
       "3     1489\n",
       "1      318\n",
       "4      121\n",
       "Name: BoRace, dtype: int64"
      ]
     },
     "execution_count": 125,
     "metadata": {},
     "output_type": "execute_result"
    }
   ],
   "source": [
    "borr_df.BoRace.value_counts()"
   ]
  },
  {
   "cell_type": "code",
   "execution_count": 126,
   "metadata": {},
   "outputs": [
    {
     "data": {
      "text/plain": [
       "White              54211\n",
       "Not_Given           6439\n",
       "Asian               2500\n",
       "Afr_American        1489\n",
       "Native_American      318\n",
       "Islander             121\n",
       "Name: BoRace, dtype: int64"
      ]
     },
     "execution_count": 126,
     "metadata": {},
     "output_type": "execute_result"
    }
   ],
   "source": [
    "# change borrower race number to race as string\n",
    "keys = [1,2,3,4,5,7]\n",
    "vals = ['Native_American', 'Asian', 'Afr_American', 'Islander', 'White', 'Not_Given']\n",
    "race_dict = {k:v for k,v in zip(keys,vals)}\n",
    "\n",
    "borr_df.BoRace = borr_df.BoRace.apply(lambda x: race_dict[x])\n",
    "borr_df.BoRace.value_counts()\n"
   ]
  },
  {
   "cell_type": "code",
   "execution_count": 127,
   "metadata": {},
   "outputs": [],
   "source": [
    "# get dummys for Borrower race\n",
    "dummy_borr_race = dummy_getter(borr_df, ['BoRace'])\n",
    "\n",
    "# add dummys to borrower df\n",
    "borr_df = borr_df.join(dummy_borr_race)\n",
    "\n",
    "# drop BoRace column\n",
    "borr_df.drop(labels='BoRace', axis=1, inplace=True)\n"
   ]
  },
  {
   "cell_type": "code",
   "execution_count": 128,
   "metadata": {},
   "outputs": [
    {
     "data": {
      "text/plain": [
       "5    30291\n",
       "8    29002\n",
       "7     3783\n",
       "2     1289\n",
       "3      524\n",
       "1      118\n",
       "4       71\n",
       "Name: CoRace, dtype: int64"
      ]
     },
     "execution_count": 128,
     "metadata": {},
     "output_type": "execute_result"
    }
   ],
   "source": [
    "borr_df.CoRace.value_counts()"
   ]
  },
  {
   "cell_type": "code",
   "execution_count": 129,
   "metadata": {},
   "outputs": [
    {
     "data": {
      "text/plain": [
       "White              30291\n",
       "No_CoBorr          29002\n",
       "Not_Given           3783\n",
       "Asian               1289\n",
       "Afr_American         524\n",
       "Native_American      118\n",
       "Islander              71\n",
       "Name: CoRace, dtype: int64"
      ]
     },
     "execution_count": 129,
     "metadata": {},
     "output_type": "execute_result"
    }
   ],
   "source": [
    "# change coborrower in same fashion as borrower\n",
    "# account for additional category in coborrower data\n",
    "keys.append(8)\n",
    "vals.append('No_CoBorr')\n",
    "\n",
    "race_dict = {k:v for k,v in zip(keys,vals)}\n",
    "\n",
    "borr_df.CoRace = borr_df.CoRace.apply(lambda x: race_dict[x])\n",
    "borr_df.CoRace.value_counts()\n"
   ]
  },
  {
   "cell_type": "code",
   "execution_count": 130,
   "metadata": {},
   "outputs": [],
   "source": [
    "# get dummys for CoBorrower race\n",
    "dummy_coborr_race = dummy_getter(borr_df, ['CoRace'])\n",
    "\n",
    "# add dummys to borrower df\n",
    "borr_df = borr_df.join(dummy_coborr_race)\n",
    "\n",
    "# drop CoRace column\n",
    "borr_df.drop(labels='CoRace', axis=1, inplace=True)\n"
   ]
  },
  {
   "cell_type": "code",
   "execution_count": 131,
   "metadata": {},
   "outputs": [
    {
     "data": {
      "text/plain": [
       "Male         43205\n",
       "Female       17611\n",
       "Not_Given     4262\n",
       "Name: BoGender, dtype: int64"
      ]
     },
     "execution_count": 131,
     "metadata": {},
     "output_type": "execute_result"
    }
   ],
   "source": [
    "# change borrower gender to 'Male' 'Female' or 'Not Given'\n",
    "keys = range(1,4)\n",
    "vals = ['Male', 'Female', 'Not_Given']\n",
    "gender_dict = {k:v for k,v in zip(keys,vals)}\n",
    "\n",
    "borr_df.BoGender = borr_df.BoGender.apply(lambda x: gender_dict[x])\n",
    "borr_df.BoGender.value_counts()"
   ]
  },
  {
   "cell_type": "code",
   "execution_count": 132,
   "metadata": {},
   "outputs": [],
   "source": [
    "# get dummys for Borrower Gender\n",
    "dummy_borr_gender = dummy_getter(borr_df, ['BoGender'])\n",
    "\n",
    "# add dummys to borrower df\n",
    "borr_df = borr_df.join(dummy_borr_gender)\n",
    "\n",
    "# drop BoGender\n",
    "borr_df.drop(labels='BoGender', axis=1, inplace=True)\n"
   ]
  },
  {
   "cell_type": "code",
   "execution_count": 133,
   "metadata": {},
   "outputs": [
    {
     "data": {
      "text/plain": [
       "No_CoBorr    29002\n",
       "Female       26918\n",
       "Male          6612\n",
       "Not_Given     2546\n",
       "Name: CoGender, dtype: int64"
      ]
     },
     "execution_count": 133,
     "metadata": {},
     "output_type": "execute_result"
    }
   ],
   "source": [
    "# add additional values for co borrower\n",
    "keys = range(1,5)\n",
    "vals.append('No_CoBorr')\n",
    "gender_dict = {k:v for k,v in zip(keys,vals)}\n",
    "\n",
    "borr_df.CoGender = borr_df.CoGender.apply(lambda x: gender_dict[x])\n",
    "borr_df.CoGender.value_counts()"
   ]
  },
  {
   "cell_type": "code",
   "execution_count": 134,
   "metadata": {},
   "outputs": [],
   "source": [
    "# get dummys for coBorrower Gender\n",
    "dummy_coborr_gender = dummy_getter(borr_df, ['CoGender'])\n",
    "\n",
    "# add dummys to borrower df\n",
    "borr_df = borr_df.join(dummy_coborr_gender)\n",
    "\n",
    "# drop BoGender\n",
    "borr_df.drop(labels='CoGender', axis=1, inplace=True)\n"
   ]
  },
  {
   "cell_type": "code",
   "execution_count": 135,
   "metadata": {},
   "outputs": [
    {
     "data": {
      "text/plain": [
       "count    65078.000000\n",
       "mean        48.718799\n",
       "std         20.455908\n",
       "min         18.000000\n",
       "25%         34.000000\n",
       "50%         44.000000\n",
       "75%         58.000000\n",
       "max         99.000000\n",
       "Name: BoAge, dtype: float64"
      ]
     },
     "execution_count": 135,
     "metadata": {},
     "output_type": "execute_result"
    }
   ],
   "source": [
    "borr_df.BoAge.describe()"
   ]
  },
  {
   "cell_type": "code",
   "execution_count": 136,
   "metadata": {},
   "outputs": [],
   "source": [
    "# looking at age, dividing into age groups of 20 years will result in five groups with 99 being \"not_given\"\n",
    "def age_cat(ser):\n",
    "    \"\"\"\n",
    "    Bin ages into bins of 20 years.  \n",
    "    \n",
    "    Input: BoAge value\n",
    "    \n",
    "    Output: Bin BoAge is in\n",
    "    \"\"\"\n",
    "    #Bin 18-38 yrs\n",
    "    if ser <= 38:\n",
    "        return(\"Age_18_38\")\n",
    "    #Bin 39-58 yrs\n",
    "    elif 38 < ser <= 58:\n",
    "        return(\"Age_39_58\")\n",
    "    #Bin 59-78 yrs\n",
    "    elif 58 < ser <= 78:\n",
    "        return(\"Age_59_78\")\n",
    "    #Bin 79-98 yrs\n",
    "    elif 78 < ser <= 98:\n",
    "        return(\"Age_79_98\")\n",
    "    #Bin for age not given\n",
    "    return(\"Not_Given\")\n",
    "    \n",
    "    \n"
   ]
  },
  {
   "cell_type": "code",
   "execution_count": 137,
   "metadata": {},
   "outputs": [
    {
     "data": {
      "text/plain": [
       "Age_18_38    25132\n",
       "Age_39_58    24521\n",
       "Age_59_78     9087\n",
       "Not_Given     5948\n",
       "Age_79_98      390\n",
       "Name: BoAge, dtype: int64"
      ]
     },
     "execution_count": 137,
     "metadata": {},
     "output_type": "execute_result"
    }
   ],
   "source": [
    "borr_df.BoAge = borr_df.BoAge.apply(age_cat)\n",
    "borr_df.BoAge.value_counts()"
   ]
  },
  {
   "cell_type": "code",
   "execution_count": 138,
   "metadata": {},
   "outputs": [],
   "source": [
    "# get dummys for new age categories and add to borr_df\n",
    "dummy_boAge = dummy_getter(borr_df, ['BoAge'])\n",
    "\n",
    "borr_df = borr_df.join(dummy_boAge)\n",
    "\n",
    "borr_df.drop(labels='BoAge', axis=1, inplace=True)\n"
   ]
  },
  {
   "cell_type": "code",
   "execution_count": 139,
   "metadata": {},
   "outputs": [],
   "source": [
    "# Co borrower age binning. Cant use same function because of the \"No co borrower\" option\n",
    "# modify age_cat func to work with CoAge column\n",
    "def coBor_age_cat(ser):\n",
    "    \"\"\"\n",
    "    Bin ages into bins of 20 years.  \n",
    "    \n",
    "    Input: BoAge value\n",
    "    \n",
    "    Output: Bin BoAge is in\n",
    "    \"\"\"\n",
    "    #Bin 18-38 yrs\n",
    "    if ser <= 38:\n",
    "        return(\"Age_18_38\")\n",
    "    #Bin 39-58 yrs\n",
    "    elif 38 < ser <= 58:\n",
    "        return(\"Age_39_58\")\n",
    "    #Bin 59-78 yrs\n",
    "    elif 58 < ser <= 78:\n",
    "        return(\"Age_59_78\")\n",
    "    #Bin 79-98 yrs\n",
    "    elif 78 < ser <= 97:\n",
    "        return(\"Age_79_97\")\n",
    "    # Bin for \"No coborrower\"\n",
    "    elif ser == 98:\n",
    "        return(\"No_CoBorr\")\n",
    "    #Bin for age not given\n",
    "    return(\"Not_Given\")"
   ]
  },
  {
   "cell_type": "code",
   "execution_count": 140,
   "metadata": {},
   "outputs": [
    {
     "data": {
      "text/plain": [
       "No_CoBorr    29002\n",
       "Age_18_38    14667\n",
       "Age_39_58    12826\n",
       "Age_59_78     5058\n",
       "Not_Given     3365\n",
       "Age_79_97      160\n",
       "Name: CoAge, dtype: int64"
      ]
     },
     "execution_count": 140,
     "metadata": {},
     "output_type": "execute_result"
    }
   ],
   "source": [
    "borr_df.CoAge = borr_df.CoAge.apply(coBor_age_cat)\n",
    "borr_df.CoAge.value_counts()"
   ]
  },
  {
   "cell_type": "code",
   "execution_count": 141,
   "metadata": {},
   "outputs": [],
   "source": [
    "# get dummys for co-borrower age\n",
    "dummy_coBor_age = dummy_getter(borr_df, ['CoAge'])\n",
    "\n",
    "# add to borrower dataframe\n",
    "borr_df = borr_df.join(dummy_coBor_age)\n",
    "\n",
    "# drop CoAge\n",
    "borr_df.drop(labels='CoAge', axis=1, inplace=True)"
   ]
  },
  {
   "cell_type": "code",
   "execution_count": 142,
   "metadata": {},
   "outputs": [
    {
     "data": {
      "text/html": [
       "<div>\n",
       "<style scoped>\n",
       "    .dataframe tbody tr th:only-of-type {\n",
       "        vertical-align: middle;\n",
       "    }\n",
       "\n",
       "    .dataframe tbody tr th {\n",
       "        vertical-align: top;\n",
       "    }\n",
       "\n",
       "    .dataframe thead th {\n",
       "        text-align: right;\n",
       "    }\n",
       "</style>\n",
       "<table border=\"1\" class=\"dataframe\">\n",
       "  <thead>\n",
       "    <tr style=\"text-align: right;\">\n",
       "      <th></th>\n",
       "      <th>NumBor</th>\n",
       "      <th>First</th>\n",
       "      <th>Occup</th>\n",
       "      <th>BoCreditScore</th>\n",
       "      <th>CoBoCreditScore</th>\n",
       "      <th>BoEth</th>\n",
       "      <th>CoEth</th>\n",
       "      <th>Corace2</th>\n",
       "      <th>Corace3</th>\n",
       "      <th>Corace4</th>\n",
       "      <th>...</th>\n",
       "      <th>CoGender_No_CoBorr</th>\n",
       "      <th>BoAge_Age_18_38</th>\n",
       "      <th>BoAge_Age_39_58</th>\n",
       "      <th>BoAge_Age_59_78</th>\n",
       "      <th>BoAge_Not_Given</th>\n",
       "      <th>CoAge_Age_18_38</th>\n",
       "      <th>CoAge_Age_39_58</th>\n",
       "      <th>CoAge_Age_59_78</th>\n",
       "      <th>CoAge_No_CoBorr</th>\n",
       "      <th>CoAge_Not_Given</th>\n",
       "    </tr>\n",
       "    <tr>\n",
       "      <th>AssignedID</th>\n",
       "      <th></th>\n",
       "      <th></th>\n",
       "      <th></th>\n",
       "      <th></th>\n",
       "      <th></th>\n",
       "      <th></th>\n",
       "      <th></th>\n",
       "      <th></th>\n",
       "      <th></th>\n",
       "      <th></th>\n",
       "      <th></th>\n",
       "      <th></th>\n",
       "      <th></th>\n",
       "      <th></th>\n",
       "      <th></th>\n",
       "      <th></th>\n",
       "      <th></th>\n",
       "      <th></th>\n",
       "      <th></th>\n",
       "      <th></th>\n",
       "      <th></th>\n",
       "    </tr>\n",
       "  </thead>\n",
       "  <tbody>\n",
       "    <tr>\n",
       "      <td>2131406</td>\n",
       "      <td>1</td>\n",
       "      <td>1</td>\n",
       "      <td>1</td>\n",
       "      <td>4</td>\n",
       "      <td>4</td>\n",
       "      <td>3</td>\n",
       "      <td>3</td>\n",
       "      <td>6</td>\n",
       "      <td>6</td>\n",
       "      <td>6</td>\n",
       "      <td>...</td>\n",
       "      <td>0</td>\n",
       "      <td>0</td>\n",
       "      <td>1</td>\n",
       "      <td>0</td>\n",
       "      <td>0</td>\n",
       "      <td>0</td>\n",
       "      <td>1</td>\n",
       "      <td>0</td>\n",
       "      <td>0</td>\n",
       "      <td>0</td>\n",
       "    </tr>\n",
       "    <tr>\n",
       "      <td>2131407</td>\n",
       "      <td>1</td>\n",
       "      <td>1</td>\n",
       "      <td>1</td>\n",
       "      <td>4</td>\n",
       "      <td>5</td>\n",
       "      <td>2</td>\n",
       "      <td>2</td>\n",
       "      <td>6</td>\n",
       "      <td>6</td>\n",
       "      <td>6</td>\n",
       "      <td>...</td>\n",
       "      <td>0</td>\n",
       "      <td>0</td>\n",
       "      <td>0</td>\n",
       "      <td>1</td>\n",
       "      <td>0</td>\n",
       "      <td>0</td>\n",
       "      <td>1</td>\n",
       "      <td>0</td>\n",
       "      <td>0</td>\n",
       "      <td>0</td>\n",
       "    </tr>\n",
       "    <tr>\n",
       "      <td>2131408</td>\n",
       "      <td>1</td>\n",
       "      <td>0</td>\n",
       "      <td>1</td>\n",
       "      <td>5</td>\n",
       "      <td>5</td>\n",
       "      <td>2</td>\n",
       "      <td>2</td>\n",
       "      <td>6</td>\n",
       "      <td>6</td>\n",
       "      <td>6</td>\n",
       "      <td>...</td>\n",
       "      <td>0</td>\n",
       "      <td>0</td>\n",
       "      <td>1</td>\n",
       "      <td>0</td>\n",
       "      <td>0</td>\n",
       "      <td>0</td>\n",
       "      <td>0</td>\n",
       "      <td>1</td>\n",
       "      <td>0</td>\n",
       "      <td>0</td>\n",
       "    </tr>\n",
       "    <tr>\n",
       "      <td>2131409</td>\n",
       "      <td>0</td>\n",
       "      <td>1</td>\n",
       "      <td>1</td>\n",
       "      <td>5</td>\n",
       "      <td>9</td>\n",
       "      <td>2</td>\n",
       "      <td>5</td>\n",
       "      <td>8</td>\n",
       "      <td>8</td>\n",
       "      <td>8</td>\n",
       "      <td>...</td>\n",
       "      <td>1</td>\n",
       "      <td>1</td>\n",
       "      <td>0</td>\n",
       "      <td>0</td>\n",
       "      <td>0</td>\n",
       "      <td>0</td>\n",
       "      <td>0</td>\n",
       "      <td>0</td>\n",
       "      <td>1</td>\n",
       "      <td>0</td>\n",
       "    </tr>\n",
       "    <tr>\n",
       "      <td>2131410</td>\n",
       "      <td>0</td>\n",
       "      <td>1</td>\n",
       "      <td>1</td>\n",
       "      <td>4</td>\n",
       "      <td>9</td>\n",
       "      <td>2</td>\n",
       "      <td>5</td>\n",
       "      <td>8</td>\n",
       "      <td>8</td>\n",
       "      <td>8</td>\n",
       "      <td>...</td>\n",
       "      <td>1</td>\n",
       "      <td>1</td>\n",
       "      <td>0</td>\n",
       "      <td>0</td>\n",
       "      <td>0</td>\n",
       "      <td>0</td>\n",
       "      <td>0</td>\n",
       "      <td>0</td>\n",
       "      <td>1</td>\n",
       "      <td>0</td>\n",
       "    </tr>\n",
       "    <tr>\n",
       "      <td>...</td>\n",
       "      <td>...</td>\n",
       "      <td>...</td>\n",
       "      <td>...</td>\n",
       "      <td>...</td>\n",
       "      <td>...</td>\n",
       "      <td>...</td>\n",
       "      <td>...</td>\n",
       "      <td>...</td>\n",
       "      <td>...</td>\n",
       "      <td>...</td>\n",
       "      <td>...</td>\n",
       "      <td>...</td>\n",
       "      <td>...</td>\n",
       "      <td>...</td>\n",
       "      <td>...</td>\n",
       "      <td>...</td>\n",
       "      <td>...</td>\n",
       "      <td>...</td>\n",
       "      <td>...</td>\n",
       "      <td>...</td>\n",
       "      <td>...</td>\n",
       "    </tr>\n",
       "    <tr>\n",
       "      <td>2161350</td>\n",
       "      <td>1</td>\n",
       "      <td>0</td>\n",
       "      <td>1</td>\n",
       "      <td>5</td>\n",
       "      <td>5</td>\n",
       "      <td>2</td>\n",
       "      <td>2</td>\n",
       "      <td>6</td>\n",
       "      <td>6</td>\n",
       "      <td>6</td>\n",
       "      <td>...</td>\n",
       "      <td>0</td>\n",
       "      <td>0</td>\n",
       "      <td>1</td>\n",
       "      <td>0</td>\n",
       "      <td>0</td>\n",
       "      <td>0</td>\n",
       "      <td>0</td>\n",
       "      <td>1</td>\n",
       "      <td>0</td>\n",
       "      <td>0</td>\n",
       "    </tr>\n",
       "    <tr>\n",
       "      <td>2161351</td>\n",
       "      <td>1</td>\n",
       "      <td>0</td>\n",
       "      <td>1</td>\n",
       "      <td>3</td>\n",
       "      <td>4</td>\n",
       "      <td>2</td>\n",
       "      <td>2</td>\n",
       "      <td>6</td>\n",
       "      <td>6</td>\n",
       "      <td>6</td>\n",
       "      <td>...</td>\n",
       "      <td>0</td>\n",
       "      <td>0</td>\n",
       "      <td>1</td>\n",
       "      <td>0</td>\n",
       "      <td>0</td>\n",
       "      <td>0</td>\n",
       "      <td>1</td>\n",
       "      <td>0</td>\n",
       "      <td>0</td>\n",
       "      <td>0</td>\n",
       "    </tr>\n",
       "    <tr>\n",
       "      <td>2161352</td>\n",
       "      <td>0</td>\n",
       "      <td>0</td>\n",
       "      <td>1</td>\n",
       "      <td>5</td>\n",
       "      <td>9</td>\n",
       "      <td>2</td>\n",
       "      <td>5</td>\n",
       "      <td>8</td>\n",
       "      <td>8</td>\n",
       "      <td>8</td>\n",
       "      <td>...</td>\n",
       "      <td>1</td>\n",
       "      <td>1</td>\n",
       "      <td>0</td>\n",
       "      <td>0</td>\n",
       "      <td>0</td>\n",
       "      <td>0</td>\n",
       "      <td>0</td>\n",
       "      <td>0</td>\n",
       "      <td>1</td>\n",
       "      <td>0</td>\n",
       "    </tr>\n",
       "    <tr>\n",
       "      <td>2161353</td>\n",
       "      <td>1</td>\n",
       "      <td>1</td>\n",
       "      <td>1</td>\n",
       "      <td>5</td>\n",
       "      <td>4</td>\n",
       "      <td>2</td>\n",
       "      <td>2</td>\n",
       "      <td>6</td>\n",
       "      <td>6</td>\n",
       "      <td>6</td>\n",
       "      <td>...</td>\n",
       "      <td>0</td>\n",
       "      <td>1</td>\n",
       "      <td>0</td>\n",
       "      <td>0</td>\n",
       "      <td>0</td>\n",
       "      <td>1</td>\n",
       "      <td>0</td>\n",
       "      <td>0</td>\n",
       "      <td>0</td>\n",
       "      <td>0</td>\n",
       "    </tr>\n",
       "    <tr>\n",
       "      <td>2161354</td>\n",
       "      <td>1</td>\n",
       "      <td>0</td>\n",
       "      <td>1</td>\n",
       "      <td>4</td>\n",
       "      <td>5</td>\n",
       "      <td>2</td>\n",
       "      <td>2</td>\n",
       "      <td>6</td>\n",
       "      <td>6</td>\n",
       "      <td>6</td>\n",
       "      <td>...</td>\n",
       "      <td>0</td>\n",
       "      <td>0</td>\n",
       "      <td>0</td>\n",
       "      <td>1</td>\n",
       "      <td>0</td>\n",
       "      <td>0</td>\n",
       "      <td>1</td>\n",
       "      <td>0</td>\n",
       "      <td>0</td>\n",
       "      <td>0</td>\n",
       "    </tr>\n",
       "  </tbody>\n",
       "</table>\n",
       "<p>65078 rows × 37 columns</p>\n",
       "</div>"
      ],
      "text/plain": [
       "            NumBor  First  Occup  BoCreditScore  CoBoCreditScore  BoEth  \\\n",
       "AssignedID                                                                \n",
       "2131406          1      1      1              4                4      3   \n",
       "2131407          1      1      1              4                5      2   \n",
       "2131408          1      0      1              5                5      2   \n",
       "2131409          0      1      1              5                9      2   \n",
       "2131410          0      1      1              4                9      2   \n",
       "...            ...    ...    ...            ...              ...    ...   \n",
       "2161350          1      0      1              5                5      2   \n",
       "2161351          1      0      1              3                4      2   \n",
       "2161352          0      0      1              5                9      2   \n",
       "2161353          1      1      1              5                4      2   \n",
       "2161354          1      0      1              4                5      2   \n",
       "\n",
       "            CoEth  Corace2  Corace3  Corace4  ...  CoGender_No_CoBorr  \\\n",
       "AssignedID                                    ...                       \n",
       "2131406         3        6        6        6  ...                   0   \n",
       "2131407         2        6        6        6  ...                   0   \n",
       "2131408         2        6        6        6  ...                   0   \n",
       "2131409         5        8        8        8  ...                   1   \n",
       "2131410         5        8        8        8  ...                   1   \n",
       "...           ...      ...      ...      ...  ...                 ...   \n",
       "2161350         2        6        6        6  ...                   0   \n",
       "2161351         2        6        6        6  ...                   0   \n",
       "2161352         5        8        8        8  ...                   1   \n",
       "2161353         2        6        6        6  ...                   0   \n",
       "2161354         2        6        6        6  ...                   0   \n",
       "\n",
       "            BoAge_Age_18_38  BoAge_Age_39_58  BoAge_Age_59_78  \\\n",
       "AssignedID                                                      \n",
       "2131406                   0                1                0   \n",
       "2131407                   0                0                1   \n",
       "2131408                   0                1                0   \n",
       "2131409                   1                0                0   \n",
       "2131410                   1                0                0   \n",
       "...                     ...              ...              ...   \n",
       "2161350                   0                1                0   \n",
       "2161351                   0                1                0   \n",
       "2161352                   1                0                0   \n",
       "2161353                   1                0                0   \n",
       "2161354                   0                0                1   \n",
       "\n",
       "            BoAge_Not_Given  CoAge_Age_18_38  CoAge_Age_39_58  \\\n",
       "AssignedID                                                      \n",
       "2131406                   0                0                1   \n",
       "2131407                   0                0                1   \n",
       "2131408                   0                0                0   \n",
       "2131409                   0                0                0   \n",
       "2131410                   0                0                0   \n",
       "...                     ...              ...              ...   \n",
       "2161350                   0                0                0   \n",
       "2161351                   0                0                1   \n",
       "2161352                   0                0                0   \n",
       "2161353                   0                1                0   \n",
       "2161354                   0                0                1   \n",
       "\n",
       "            CoAge_Age_59_78  CoAge_No_CoBorr  CoAge_Not_Given  \n",
       "AssignedID                                                     \n",
       "2131406                   0                0                0  \n",
       "2131407                   0                0                0  \n",
       "2131408                   1                0                0  \n",
       "2131409                   0                1                0  \n",
       "2131410                   0                1                0  \n",
       "...                     ...              ...              ...  \n",
       "2161350                   1                0                0  \n",
       "2161351                   0                0                0  \n",
       "2161352                   0                1                0  \n",
       "2161353                   0                0                0  \n",
       "2161354                   0                0                0  \n",
       "\n",
       "[65078 rows x 37 columns]"
      ]
     },
     "execution_count": 142,
     "metadata": {},
     "output_type": "execute_result"
    }
   ],
   "source": [
    "borr_df"
   ]
  },
  {
   "cell_type": "code",
   "execution_count": 143,
   "metadata": {},
   "outputs": [
    {
     "data": {
      "text/plain": [
       "1    63006\n",
       "2     2072\n",
       "Name: Occup, dtype: int64"
      ]
     },
     "execution_count": 143,
     "metadata": {},
     "output_type": "execute_result"
    }
   ],
   "source": [
    "borr_df.Occup.value_counts()"
   ]
  },
  {
   "cell_type": "code",
   "execution_count": 144,
   "metadata": {},
   "outputs": [],
   "source": [
    "# Categorize and get dummies for Occupancy code\n",
    "borr_df.Occup = borr_df.Occup.apply(lambda x: \"Primary\" if x == 1 else \"Secondary\")\n",
    "\n",
    "dummy_occup = dummy_getter(borr_df, ['Occup'])\n",
    "\n",
    "borr_df = borr_df.join(dummy_occup)\n",
    "\n",
    "borr_df.drop(labels='Occup', axis=1, inplace=True)\n"
   ]
  },
  {
   "cell_type": "code",
   "execution_count": 145,
   "metadata": {},
   "outputs": [
    {
     "data": {
      "text/plain": [
       "5    34272\n",
       "4    20768\n",
       "3     7313\n",
       "2     2482\n",
       "9      129\n",
       "1      114\n",
       "Name: BoCreditScore, dtype: int64"
      ]
     },
     "execution_count": 145,
     "metadata": {},
     "output_type": "execute_result"
    }
   ],
   "source": [
    "borr_df.BoCreditScore.value_counts()"
   ]
  },
  {
   "cell_type": "code",
   "execution_count": 146,
   "metadata": {},
   "outputs": [],
   "source": [
    "# categorize and get dummys for Borrower Credit score\n",
    "keys = [9,5,4,3,2,1]\n",
    "vals = ['Not_Given', 'Excellent', 'Good', 'Average', 'Poor', 'Terrible']\n",
    "credit_dict = {k:v for k,v in zip(keys, vals)}\n",
    "\n",
    "# apply to series\n",
    "borr_df.BoCreditScore = borr_df.BoCreditScore.apply(lambda x: credit_dict[x])\n",
    "\n",
    "# get dummys\n",
    "dummy_boCredit = dummy_getter(borr_df, ['BoCreditScore'])\n",
    "\n",
    "# join to borr_df\n",
    "borr_df = borr_df.join(dummy_boCredit)\n",
    "\n",
    "# drop BoCreditScore\n",
    "borr_df.drop(labels='BoCreditScore', axis=1, inplace=True)\n"
   ]
  },
  {
   "cell_type": "code",
   "execution_count": 147,
   "metadata": {},
   "outputs": [
    {
     "data": {
      "text/html": [
       "<div>\n",
       "<style scoped>\n",
       "    .dataframe tbody tr th:only-of-type {\n",
       "        vertical-align: middle;\n",
       "    }\n",
       "\n",
       "    .dataframe tbody tr th {\n",
       "        vertical-align: top;\n",
       "    }\n",
       "\n",
       "    .dataframe thead th {\n",
       "        text-align: right;\n",
       "    }\n",
       "</style>\n",
       "<table border=\"1\" class=\"dataframe\">\n",
       "  <thead>\n",
       "    <tr style=\"text-align: right;\">\n",
       "      <th></th>\n",
       "      <th>NumBor</th>\n",
       "      <th>First</th>\n",
       "      <th>CoBoCreditScore</th>\n",
       "      <th>BoEth</th>\n",
       "      <th>CoEth</th>\n",
       "      <th>Corace2</th>\n",
       "      <th>Corace3</th>\n",
       "      <th>Corace4</th>\n",
       "      <th>Corace5</th>\n",
       "      <th>Self</th>\n",
       "      <th>...</th>\n",
       "      <th>CoAge_Age_39_58</th>\n",
       "      <th>CoAge_Age_59_78</th>\n",
       "      <th>CoAge_No_CoBorr</th>\n",
       "      <th>CoAge_Not_Given</th>\n",
       "      <th>Occup_Primary</th>\n",
       "      <th>BoCreditScore_Average</th>\n",
       "      <th>BoCreditScore_Excellent</th>\n",
       "      <th>BoCreditScore_Good</th>\n",
       "      <th>BoCreditScore_Not_Given</th>\n",
       "      <th>BoCreditScore_Poor</th>\n",
       "    </tr>\n",
       "    <tr>\n",
       "      <th>AssignedID</th>\n",
       "      <th></th>\n",
       "      <th></th>\n",
       "      <th></th>\n",
       "      <th></th>\n",
       "      <th></th>\n",
       "      <th></th>\n",
       "      <th></th>\n",
       "      <th></th>\n",
       "      <th></th>\n",
       "      <th></th>\n",
       "      <th></th>\n",
       "      <th></th>\n",
       "      <th></th>\n",
       "      <th></th>\n",
       "      <th></th>\n",
       "      <th></th>\n",
       "      <th></th>\n",
       "      <th></th>\n",
       "      <th></th>\n",
       "      <th></th>\n",
       "      <th></th>\n",
       "    </tr>\n",
       "  </thead>\n",
       "  <tbody>\n",
       "    <tr>\n",
       "      <td>2131406</td>\n",
       "      <td>1</td>\n",
       "      <td>1</td>\n",
       "      <td>4</td>\n",
       "      <td>3</td>\n",
       "      <td>3</td>\n",
       "      <td>6</td>\n",
       "      <td>6</td>\n",
       "      <td>6</td>\n",
       "      <td>6</td>\n",
       "      <td>2</td>\n",
       "      <td>...</td>\n",
       "      <td>1</td>\n",
       "      <td>0</td>\n",
       "      <td>0</td>\n",
       "      <td>0</td>\n",
       "      <td>1</td>\n",
       "      <td>0</td>\n",
       "      <td>0</td>\n",
       "      <td>1</td>\n",
       "      <td>0</td>\n",
       "      <td>0</td>\n",
       "    </tr>\n",
       "    <tr>\n",
       "      <td>2131407</td>\n",
       "      <td>1</td>\n",
       "      <td>1</td>\n",
       "      <td>5</td>\n",
       "      <td>2</td>\n",
       "      <td>2</td>\n",
       "      <td>6</td>\n",
       "      <td>6</td>\n",
       "      <td>6</td>\n",
       "      <td>6</td>\n",
       "      <td>2</td>\n",
       "      <td>...</td>\n",
       "      <td>1</td>\n",
       "      <td>0</td>\n",
       "      <td>0</td>\n",
       "      <td>0</td>\n",
       "      <td>1</td>\n",
       "      <td>0</td>\n",
       "      <td>0</td>\n",
       "      <td>1</td>\n",
       "      <td>0</td>\n",
       "      <td>0</td>\n",
       "    </tr>\n",
       "    <tr>\n",
       "      <td>2131408</td>\n",
       "      <td>1</td>\n",
       "      <td>0</td>\n",
       "      <td>5</td>\n",
       "      <td>2</td>\n",
       "      <td>2</td>\n",
       "      <td>6</td>\n",
       "      <td>6</td>\n",
       "      <td>6</td>\n",
       "      <td>6</td>\n",
       "      <td>2</td>\n",
       "      <td>...</td>\n",
       "      <td>0</td>\n",
       "      <td>1</td>\n",
       "      <td>0</td>\n",
       "      <td>0</td>\n",
       "      <td>1</td>\n",
       "      <td>0</td>\n",
       "      <td>1</td>\n",
       "      <td>0</td>\n",
       "      <td>0</td>\n",
       "      <td>0</td>\n",
       "    </tr>\n",
       "    <tr>\n",
       "      <td>2131409</td>\n",
       "      <td>0</td>\n",
       "      <td>1</td>\n",
       "      <td>9</td>\n",
       "      <td>2</td>\n",
       "      <td>5</td>\n",
       "      <td>8</td>\n",
       "      <td>8</td>\n",
       "      <td>8</td>\n",
       "      <td>8</td>\n",
       "      <td>2</td>\n",
       "      <td>...</td>\n",
       "      <td>0</td>\n",
       "      <td>0</td>\n",
       "      <td>1</td>\n",
       "      <td>0</td>\n",
       "      <td>1</td>\n",
       "      <td>0</td>\n",
       "      <td>1</td>\n",
       "      <td>0</td>\n",
       "      <td>0</td>\n",
       "      <td>0</td>\n",
       "    </tr>\n",
       "    <tr>\n",
       "      <td>2131410</td>\n",
       "      <td>0</td>\n",
       "      <td>1</td>\n",
       "      <td>9</td>\n",
       "      <td>2</td>\n",
       "      <td>5</td>\n",
       "      <td>8</td>\n",
       "      <td>8</td>\n",
       "      <td>8</td>\n",
       "      <td>8</td>\n",
       "      <td>2</td>\n",
       "      <td>...</td>\n",
       "      <td>0</td>\n",
       "      <td>0</td>\n",
       "      <td>1</td>\n",
       "      <td>0</td>\n",
       "      <td>1</td>\n",
       "      <td>0</td>\n",
       "      <td>0</td>\n",
       "      <td>1</td>\n",
       "      <td>0</td>\n",
       "      <td>0</td>\n",
       "    </tr>\n",
       "    <tr>\n",
       "      <td>...</td>\n",
       "      <td>...</td>\n",
       "      <td>...</td>\n",
       "      <td>...</td>\n",
       "      <td>...</td>\n",
       "      <td>...</td>\n",
       "      <td>...</td>\n",
       "      <td>...</td>\n",
       "      <td>...</td>\n",
       "      <td>...</td>\n",
       "      <td>...</td>\n",
       "      <td>...</td>\n",
       "      <td>...</td>\n",
       "      <td>...</td>\n",
       "      <td>...</td>\n",
       "      <td>...</td>\n",
       "      <td>...</td>\n",
       "      <td>...</td>\n",
       "      <td>...</td>\n",
       "      <td>...</td>\n",
       "      <td>...</td>\n",
       "      <td>...</td>\n",
       "    </tr>\n",
       "    <tr>\n",
       "      <td>2161350</td>\n",
       "      <td>1</td>\n",
       "      <td>0</td>\n",
       "      <td>5</td>\n",
       "      <td>2</td>\n",
       "      <td>2</td>\n",
       "      <td>6</td>\n",
       "      <td>6</td>\n",
       "      <td>6</td>\n",
       "      <td>6</td>\n",
       "      <td>2</td>\n",
       "      <td>...</td>\n",
       "      <td>0</td>\n",
       "      <td>1</td>\n",
       "      <td>0</td>\n",
       "      <td>0</td>\n",
       "      <td>1</td>\n",
       "      <td>0</td>\n",
       "      <td>1</td>\n",
       "      <td>0</td>\n",
       "      <td>0</td>\n",
       "      <td>0</td>\n",
       "    </tr>\n",
       "    <tr>\n",
       "      <td>2161351</td>\n",
       "      <td>1</td>\n",
       "      <td>0</td>\n",
       "      <td>4</td>\n",
       "      <td>2</td>\n",
       "      <td>2</td>\n",
       "      <td>6</td>\n",
       "      <td>6</td>\n",
       "      <td>6</td>\n",
       "      <td>6</td>\n",
       "      <td>2</td>\n",
       "      <td>...</td>\n",
       "      <td>1</td>\n",
       "      <td>0</td>\n",
       "      <td>0</td>\n",
       "      <td>0</td>\n",
       "      <td>1</td>\n",
       "      <td>1</td>\n",
       "      <td>0</td>\n",
       "      <td>0</td>\n",
       "      <td>0</td>\n",
       "      <td>0</td>\n",
       "    </tr>\n",
       "    <tr>\n",
       "      <td>2161352</td>\n",
       "      <td>0</td>\n",
       "      <td>0</td>\n",
       "      <td>9</td>\n",
       "      <td>2</td>\n",
       "      <td>5</td>\n",
       "      <td>8</td>\n",
       "      <td>8</td>\n",
       "      <td>8</td>\n",
       "      <td>8</td>\n",
       "      <td>2</td>\n",
       "      <td>...</td>\n",
       "      <td>0</td>\n",
       "      <td>0</td>\n",
       "      <td>1</td>\n",
       "      <td>0</td>\n",
       "      <td>1</td>\n",
       "      <td>0</td>\n",
       "      <td>1</td>\n",
       "      <td>0</td>\n",
       "      <td>0</td>\n",
       "      <td>0</td>\n",
       "    </tr>\n",
       "    <tr>\n",
       "      <td>2161353</td>\n",
       "      <td>1</td>\n",
       "      <td>1</td>\n",
       "      <td>4</td>\n",
       "      <td>2</td>\n",
       "      <td>2</td>\n",
       "      <td>6</td>\n",
       "      <td>6</td>\n",
       "      <td>6</td>\n",
       "      <td>6</td>\n",
       "      <td>2</td>\n",
       "      <td>...</td>\n",
       "      <td>0</td>\n",
       "      <td>0</td>\n",
       "      <td>0</td>\n",
       "      <td>0</td>\n",
       "      <td>1</td>\n",
       "      <td>0</td>\n",
       "      <td>1</td>\n",
       "      <td>0</td>\n",
       "      <td>0</td>\n",
       "      <td>0</td>\n",
       "    </tr>\n",
       "    <tr>\n",
       "      <td>2161354</td>\n",
       "      <td>1</td>\n",
       "      <td>0</td>\n",
       "      <td>5</td>\n",
       "      <td>2</td>\n",
       "      <td>2</td>\n",
       "      <td>6</td>\n",
       "      <td>6</td>\n",
       "      <td>6</td>\n",
       "      <td>6</td>\n",
       "      <td>1</td>\n",
       "      <td>...</td>\n",
       "      <td>1</td>\n",
       "      <td>0</td>\n",
       "      <td>0</td>\n",
       "      <td>0</td>\n",
       "      <td>1</td>\n",
       "      <td>0</td>\n",
       "      <td>0</td>\n",
       "      <td>1</td>\n",
       "      <td>0</td>\n",
       "      <td>0</td>\n",
       "    </tr>\n",
       "  </tbody>\n",
       "</table>\n",
       "<p>65078 rows × 41 columns</p>\n",
       "</div>"
      ],
      "text/plain": [
       "            NumBor  First  CoBoCreditScore  BoEth  CoEth  Corace2  Corace3  \\\n",
       "AssignedID                                                                   \n",
       "2131406          1      1                4      3      3        6        6   \n",
       "2131407          1      1                5      2      2        6        6   \n",
       "2131408          1      0                5      2      2        6        6   \n",
       "2131409          0      1                9      2      5        8        8   \n",
       "2131410          0      1                9      2      5        8        8   \n",
       "...            ...    ...              ...    ...    ...      ...      ...   \n",
       "2161350          1      0                5      2      2        6        6   \n",
       "2161351          1      0                4      2      2        6        6   \n",
       "2161352          0      0                9      2      5        8        8   \n",
       "2161353          1      1                4      2      2        6        6   \n",
       "2161354          1      0                5      2      2        6        6   \n",
       "\n",
       "            Corace4  Corace5  Self  ...  CoAge_Age_39_58  CoAge_Age_59_78  \\\n",
       "AssignedID                          ...                                     \n",
       "2131406           6        6     2  ...                1                0   \n",
       "2131407           6        6     2  ...                1                0   \n",
       "2131408           6        6     2  ...                0                1   \n",
       "2131409           8        8     2  ...                0                0   \n",
       "2131410           8        8     2  ...                0                0   \n",
       "...             ...      ...   ...  ...              ...              ...   \n",
       "2161350           6        6     2  ...                0                1   \n",
       "2161351           6        6     2  ...                1                0   \n",
       "2161352           8        8     2  ...                0                0   \n",
       "2161353           6        6     2  ...                0                0   \n",
       "2161354           6        6     1  ...                1                0   \n",
       "\n",
       "            CoAge_No_CoBorr  CoAge_Not_Given  Occup_Primary  \\\n",
       "AssignedID                                                    \n",
       "2131406                   0                0              1   \n",
       "2131407                   0                0              1   \n",
       "2131408                   0                0              1   \n",
       "2131409                   1                0              1   \n",
       "2131410                   1                0              1   \n",
       "...                     ...              ...            ...   \n",
       "2161350                   0                0              1   \n",
       "2161351                   0                0              1   \n",
       "2161352                   1                0              1   \n",
       "2161353                   0                0              1   \n",
       "2161354                   0                0              1   \n",
       "\n",
       "            BoCreditScore_Average  BoCreditScore_Excellent  \\\n",
       "AssignedID                                                   \n",
       "2131406                         0                        0   \n",
       "2131407                         0                        0   \n",
       "2131408                         0                        1   \n",
       "2131409                         0                        1   \n",
       "2131410                         0                        0   \n",
       "...                           ...                      ...   \n",
       "2161350                         0                        1   \n",
       "2161351                         1                        0   \n",
       "2161352                         0                        1   \n",
       "2161353                         0                        1   \n",
       "2161354                         0                        0   \n",
       "\n",
       "            BoCreditScore_Good  BoCreditScore_Not_Given  BoCreditScore_Poor  \n",
       "AssignedID                                                                   \n",
       "2131406                      1                        0                   0  \n",
       "2131407                      1                        0                   0  \n",
       "2131408                      0                        0                   0  \n",
       "2131409                      0                        0                   0  \n",
       "2131410                      1                        0                   0  \n",
       "...                        ...                      ...                 ...  \n",
       "2161350                      0                        0                   0  \n",
       "2161351                      0                        0                   0  \n",
       "2161352                      0                        0                   0  \n",
       "2161353                      0                        0                   0  \n",
       "2161354                      1                        0                   0  \n",
       "\n",
       "[65078 rows x 41 columns]"
      ]
     },
     "execution_count": 147,
     "metadata": {},
     "output_type": "execute_result"
    }
   ],
   "source": [
    "borr_df"
   ]
  },
  {
   "cell_type": "code",
   "execution_count": 148,
   "metadata": {},
   "outputs": [],
   "source": [
    "# categorize and get dummies for CoBorrower creit score\n",
    "\n",
    "# using same dictionary for Borrower credit score\n",
    "borr_df.CoBoCreditScore = borr_df.CoBoCreditScore.apply(lambda x: credit_dict[x])\n",
    "\n",
    "# get dummys\n",
    "dummy_CoBoCredit = dummy_getter(borr_df, ['CoBoCreditScore'])\n",
    "\n",
    "# join to borr_df\n",
    "borr_df = borr_df.join(dummy_CoBoCredit)\n",
    "\n",
    "# Drop CoBoCreditScore\n",
    "borr_df.drop(labels='CoBoCreditScore', axis=1, inplace=True)"
   ]
  },
  {
   "cell_type": "code",
   "execution_count": 149,
   "metadata": {},
   "outputs": [
    {
     "data": {
      "text/plain": [
       "(2    54667\n",
       " 3     7428\n",
       " 1     2983\n",
       " Name: BoEth, dtype: int64, 2    30226\n",
       " 5    29002\n",
       " 3     4394\n",
       " 1     1456\n",
       " Name: CoEth, dtype: int64)"
      ]
     },
     "execution_count": 149,
     "metadata": {},
     "output_type": "execute_result"
    }
   ],
   "source": [
    "# (1) Hispanic or Latino, (2) Not Hispanic or Latino, (3) Info not provided\n",
    "borr_df.BoEth.value_counts(), borr_df.CoEth.value_counts()"
   ]
  },
  {
   "cell_type": "code",
   "execution_count": 150,
   "metadata": {},
   "outputs": [
    {
     "data": {
      "text/plain": [
       "6    35959\n",
       "8    29002\n",
       "5       85\n",
       "2       12\n",
       "4        9\n",
       "3        9\n",
       "1        2\n",
       "Name: Corace2, dtype: int64"
      ]
     },
     "execution_count": 150,
     "metadata": {},
     "output_type": "execute_result"
    }
   ],
   "source": [
    "# (6) Info not provided, (8) No co-borrower\n",
    "borr_df.Corace2.value_counts()"
   ]
  },
  {
   "cell_type": "markdown",
   "metadata": {},
   "source": [
    "The Borrower and co-borrower ethnicity columns are deciphering between if the Borrower/Co-borrower are Hispanic/Latino.  The value counts show that most of the Borrowers/Co-borrowers are not Hispanic/Latino, No Co-borrower or info not provided.  After looking at the other categories put together, these aren't very helpful so they are going to get dropped.\n",
    "\n",
    "The Co-borrower race columns have the same situation.  The value counts show either no info provided or no co-borrower.  These will get dropped as well."
   ]
  },
  {
   "cell_type": "code",
   "execution_count": 151,
   "metadata": {},
   "outputs": [],
   "source": [
    "borr_df.drop(labels=['BoEth', 'CoEth', 'Corace2', 'Corace3', 'Corace4', 'Corace5'], axis =1, inplace=True)"
   ]
  },
  {
   "cell_type": "code",
   "execution_count": 152,
   "metadata": {},
   "outputs": [
    {
     "data": {
      "text/plain": [
       "0    58063\n",
       "1     7015\n",
       "Name: Self, dtype: int64"
      ]
     },
     "execution_count": 152,
     "metadata": {},
     "output_type": "execute_result"
    }
   ],
   "source": [
    "# look at Self employed indicator and change to (0) No and (1) yes\n",
    "borr_df.Self = borr_df.Self.apply(lambda x: 0 if x == 2 else 1)\n",
    "borr_df.Self.value_counts()"
   ]
  },
  {
   "cell_type": "markdown",
   "metadata": {},
   "source": [
    "### Clustering for Borrower data\n",
    "\n",
    "Now let's run the borr_df through KMeans and see what kind of clusters result"
   ]
  },
  {
   "cell_type": "code",
   "execution_count": 153,
   "metadata": {},
   "outputs": [
    {
     "name": "stdout",
     "output_type": "stream",
     "text": [
      "Number of Clusters: 2\n"
     ]
    }
   ],
   "source": [
    "results, predictions = cluster_func(borr_df)"
   ]
  },
  {
   "cell_type": "code",
   "execution_count": 154,
   "metadata": {},
   "outputs": [
    {
     "data": {
      "text/plain": [
       "0    36076\n",
       "1    29002\n",
       "Name: Borr_Cluster, dtype: int64"
      ]
     },
     "execution_count": 154,
     "metadata": {},
     "output_type": "execute_result"
    }
   ],
   "source": [
    "data['Borr_Cluster'] = predictions\n",
    "data.Borr_Cluster.value_counts()"
   ]
  },
  {
   "cell_type": "code",
   "execution_count": 155,
   "metadata": {},
   "outputs": [
    {
     "data": {
      "text/plain": [
       "(5    30632\n",
       " 7     3515\n",
       " 2     1167\n",
       " 3      540\n",
       " 1      159\n",
       " 4       63\n",
       " Name: BoRace, dtype: int64, 5    23579\n",
       " 7     2924\n",
       " 2     1333\n",
       " 3      949\n",
       " 1      159\n",
       " 4       58\n",
       " Name: BoRace, dtype: int64)"
      ]
     },
     "execution_count": 155,
     "metadata": {},
     "output_type": "execute_result"
    }
   ],
   "source": [
    "data[data.Borr_Cluster == 0]['BoRace'].value_counts(), data[data.Borr_Cluster == 1]['BoRace'].value_counts()"
   ]
  },
  {
   "cell_type": "markdown",
   "metadata": {},
   "source": [
    "It appears the clusters essentially deliniate between being white (5) or not.  Not sure this cluster is important at all so I will add the columns from the borr_df to the data dataframe to be used for modeling"
   ]
  },
  {
   "cell_type": "markdown",
   "metadata": {},
   "source": [
    "# Income data\n",
    "Look at income data frame and try to incorporate PCA or clustering to see if any useful features can be created"
   ]
  },
  {
   "cell_type": "code",
   "execution_count": 156,
   "metadata": {},
   "outputs": [
    {
     "data": {
      "text/html": [
       "<div>\n",
       "<style scoped>\n",
       "    .dataframe tbody tr th:only-of-type {\n",
       "        vertical-align: middle;\n",
       "    }\n",
       "\n",
       "    .dataframe tbody tr th {\n",
       "        vertical-align: top;\n",
       "    }\n",
       "\n",
       "    .dataframe thead th {\n",
       "        text-align: right;\n",
       "    }\n",
       "</style>\n",
       "<table border=\"1\" class=\"dataframe\">\n",
       "  <thead>\n",
       "    <tr style=\"text-align: right;\">\n",
       "      <th></th>\n",
       "      <th>TraMedY</th>\n",
       "      <th>LocMedY</th>\n",
       "      <th>Tractrat</th>\n",
       "      <th>Income</th>\n",
       "      <th>CurAreY</th>\n",
       "      <th>IncRat</th>\n",
       "      <th>UPB</th>\n",
       "      <th>LTV</th>\n",
       "    </tr>\n",
       "    <tr>\n",
       "      <th>AssignedID</th>\n",
       "      <th></th>\n",
       "      <th></th>\n",
       "      <th></th>\n",
       "      <th></th>\n",
       "      <th></th>\n",
       "      <th></th>\n",
       "      <th></th>\n",
       "      <th></th>\n",
       "    </tr>\n",
       "  </thead>\n",
       "  <tbody>\n",
       "    <tr>\n",
       "      <td>2131406</td>\n",
       "      <td>93261</td>\n",
       "      <td>108141</td>\n",
       "      <td>0.8624</td>\n",
       "      <td>11.892703</td>\n",
       "      <td>110300</td>\n",
       "      <td>0.281714</td>\n",
       "      <td>463939</td>\n",
       "      <td>1.03</td>\n",
       "    </tr>\n",
       "    <tr>\n",
       "      <td>2131407</td>\n",
       "      <td>112623</td>\n",
       "      <td>108141</td>\n",
       "      <td>1.0414</td>\n",
       "      <td>11.963823</td>\n",
       "      <td>110300</td>\n",
       "      <td>0.352838</td>\n",
       "      <td>495000</td>\n",
       "      <td>1.00</td>\n",
       "    </tr>\n",
       "    <tr>\n",
       "      <td>2131408</td>\n",
       "      <td>140156</td>\n",
       "      <td>108141</td>\n",
       "      <td>1.2960</td>\n",
       "      <td>12.729214</td>\n",
       "      <td>110300</td>\n",
       "      <td>1.118252</td>\n",
       "      <td>664307</td>\n",
       "      <td>0.99</td>\n",
       "    </tr>\n",
       "    <tr>\n",
       "      <td>2131409</td>\n",
       "      <td>89250</td>\n",
       "      <td>108141</td>\n",
       "      <td>0.8253</td>\n",
       "      <td>11.790557</td>\n",
       "      <td>110300</td>\n",
       "      <td>0.179568</td>\n",
       "      <td>490320</td>\n",
       "      <td>1.03</td>\n",
       "    </tr>\n",
       "    <tr>\n",
       "      <td>2131410</td>\n",
       "      <td>81397</td>\n",
       "      <td>87788</td>\n",
       "      <td>0.9272</td>\n",
       "      <td>10.287933</td>\n",
       "      <td>91100</td>\n",
       "      <td>-1.131652</td>\n",
       "      <td>97206</td>\n",
       "      <td>0.99</td>\n",
       "    </tr>\n",
       "    <tr>\n",
       "      <td>...</td>\n",
       "      <td>...</td>\n",
       "      <td>...</td>\n",
       "      <td>...</td>\n",
       "      <td>...</td>\n",
       "      <td>...</td>\n",
       "      <td>...</td>\n",
       "      <td>...</td>\n",
       "      <td>...</td>\n",
       "    </tr>\n",
       "    <tr>\n",
       "      <td>2161350</td>\n",
       "      <td>69635</td>\n",
       "      <td>62478</td>\n",
       "      <td>1.1146</td>\n",
       "      <td>11.513005</td>\n",
       "      <td>67100</td>\n",
       "      <td>0.399045</td>\n",
       "      <td>195865</td>\n",
       "      <td>0.99</td>\n",
       "    </tr>\n",
       "    <tr>\n",
       "      <td>2161351</td>\n",
       "      <td>94198</td>\n",
       "      <td>72700</td>\n",
       "      <td>1.2957</td>\n",
       "      <td>11.947639</td>\n",
       "      <td>78400</td>\n",
       "      <td>0.678084</td>\n",
       "      <td>296000</td>\n",
       "      <td>0.80</td>\n",
       "    </tr>\n",
       "    <tr>\n",
       "      <td>2161352</td>\n",
       "      <td>69688</td>\n",
       "      <td>63366</td>\n",
       "      <td>1.0998</td>\n",
       "      <td>10.906690</td>\n",
       "      <td>67800</td>\n",
       "      <td>-0.217659</td>\n",
       "      <td>66400</td>\n",
       "      <td>0.79</td>\n",
       "    </tr>\n",
       "    <tr>\n",
       "      <td>2161353</td>\n",
       "      <td>98707</td>\n",
       "      <td>75898</td>\n",
       "      <td>1.3005</td>\n",
       "      <td>11.385047</td>\n",
       "      <td>81600</td>\n",
       "      <td>0.075478</td>\n",
       "      <td>245600</td>\n",
       "      <td>0.80</td>\n",
       "    </tr>\n",
       "    <tr>\n",
       "      <td>2161354</td>\n",
       "      <td>69090</td>\n",
       "      <td>70303</td>\n",
       "      <td>0.9827</td>\n",
       "      <td>11.422125</td>\n",
       "      <td>76500</td>\n",
       "      <td>0.177058</td>\n",
       "      <td>100000</td>\n",
       "      <td>0.50</td>\n",
       "    </tr>\n",
       "  </tbody>\n",
       "</table>\n",
       "<p>65078 rows × 8 columns</p>\n",
       "</div>"
      ],
      "text/plain": [
       "            TraMedY  LocMedY  Tractrat     Income  CurAreY    IncRat     UPB  \\\n",
       "AssignedID                                                                     \n",
       "2131406       93261   108141    0.8624  11.892703   110300  0.281714  463939   \n",
       "2131407      112623   108141    1.0414  11.963823   110300  0.352838  495000   \n",
       "2131408      140156   108141    1.2960  12.729214   110300  1.118252  664307   \n",
       "2131409       89250   108141    0.8253  11.790557   110300  0.179568  490320   \n",
       "2131410       81397    87788    0.9272  10.287933    91100 -1.131652   97206   \n",
       "...             ...      ...       ...        ...      ...       ...     ...   \n",
       "2161350       69635    62478    1.1146  11.513005    67100  0.399045  195865   \n",
       "2161351       94198    72700    1.2957  11.947639    78400  0.678084  296000   \n",
       "2161352       69688    63366    1.0998  10.906690    67800 -0.217659   66400   \n",
       "2161353       98707    75898    1.3005  11.385047    81600  0.075478  245600   \n",
       "2161354       69090    70303    0.9827  11.422125    76500  0.177058  100000   \n",
       "\n",
       "             LTV  \n",
       "AssignedID        \n",
       "2131406     1.03  \n",
       "2131407     1.00  \n",
       "2131408     0.99  \n",
       "2131409     1.03  \n",
       "2131410     0.99  \n",
       "...          ...  \n",
       "2161350     0.99  \n",
       "2161351     0.80  \n",
       "2161352     0.79  \n",
       "2161353     0.80  \n",
       "2161354     0.50  \n",
       "\n",
       "[65078 rows x 8 columns]"
      ]
     },
     "execution_count": 156,
     "metadata": {},
     "output_type": "execute_result"
    }
   ],
   "source": [
    "income_df"
   ]
  },
  {
   "cell_type": "code",
   "execution_count": 157,
   "metadata": {},
   "outputs": [],
   "source": [
    "from sklearn.preprocessing import StandardScaler\n",
    "from sklearn.decomposition import PCA"
   ]
  },
  {
   "cell_type": "code",
   "execution_count": 158,
   "metadata": {},
   "outputs": [],
   "source": [
    "# scale data for pca\n",
    "income_df = StandardScaler().fit_transform(income_df)"
   ]
  },
  {
   "cell_type": "code",
   "execution_count": 159,
   "metadata": {},
   "outputs": [],
   "source": [
    "# fit pca \n",
    "pca = PCA(n_components=4)\n",
    "\n",
    "princ_comps = pca.fit_transform(income_df)"
   ]
  },
  {
   "cell_type": "code",
   "execution_count": 160,
   "metadata": {},
   "outputs": [
    {
     "name": "stdout",
     "output_type": "stream",
     "text": [
      "Variance of each component: [0.42161056 0.24204827 0.16052969 0.12286878]\n",
      "\n",
      " Total Variance Explained: 94.71\n"
     ]
    }
   ],
   "source": [
    "print('Variance of each component:', pca.explained_variance_ratio_)\n",
    "print('\\n Total Variance Explained:', round(sum(list(pca.explained_variance_ratio_))*100, 2))"
   ]
  },
  {
   "cell_type": "code",
   "execution_count": 161,
   "metadata": {},
   "outputs": [
    {
     "data": {
      "text/plain": [
       "(65078, 4)"
      ]
     },
     "execution_count": 161,
     "metadata": {},
     "output_type": "execute_result"
    }
   ],
   "source": [
    "princ_comps.shape"
   ]
  },
  {
   "cell_type": "code",
   "execution_count": 162,
   "metadata": {},
   "outputs": [
    {
     "data": {
      "text/plain": [
       "array([[ 2.77192712, -2.67029112, -2.54130157,  1.51280489],\n",
       "       [ 3.42178356, -2.53492905, -1.98613207,  1.47824123],\n",
       "       [ 5.59901086, -1.25644135, -2.10576445,  1.48824823],\n",
       "       ...,\n",
       "       [-1.86602585, -0.24241109,  0.60893904,  0.11860574],\n",
       "       [ 0.52649476, -0.66529857,  0.33685635,  0.33414973],\n",
       "       [-0.7512171 , -0.32945242,  0.09794946, -1.99848969]])"
      ]
     },
     "execution_count": 162,
     "metadata": {},
     "output_type": "execute_result"
    }
   ],
   "source": [
    "princ_comps"
   ]
  },
  {
   "cell_type": "code",
   "execution_count": 163,
   "metadata": {},
   "outputs": [],
   "source": [
    "# put pca components into df\n",
    "idx = data.index\n",
    "inc_pca_df = pd.DataFrame(princ_comps, index=idx, columns=['Inc_PCA_1', 'Inc_PCA_2', 'Inc_PCA_3', 'Inc_PCA_4'])"
   ]
  },
  {
   "cell_type": "code",
   "execution_count": 164,
   "metadata": {},
   "outputs": [
    {
     "data": {
      "text/html": [
       "<div>\n",
       "<style scoped>\n",
       "    .dataframe tbody tr th:only-of-type {\n",
       "        vertical-align: middle;\n",
       "    }\n",
       "\n",
       "    .dataframe tbody tr th {\n",
       "        vertical-align: top;\n",
       "    }\n",
       "\n",
       "    .dataframe thead th {\n",
       "        text-align: right;\n",
       "    }\n",
       "</style>\n",
       "<table border=\"1\" class=\"dataframe\">\n",
       "  <thead>\n",
       "    <tr style=\"text-align: right;\">\n",
       "      <th></th>\n",
       "      <th>Inc_PCA_1</th>\n",
       "      <th>Inc_PCA_2</th>\n",
       "      <th>Inc_PCA_3</th>\n",
       "      <th>Inc_PCA_4</th>\n",
       "    </tr>\n",
       "    <tr>\n",
       "      <th>AssignedID</th>\n",
       "      <th></th>\n",
       "      <th></th>\n",
       "      <th></th>\n",
       "      <th></th>\n",
       "    </tr>\n",
       "  </thead>\n",
       "  <tbody>\n",
       "    <tr>\n",
       "      <td>2131406</td>\n",
       "      <td>2.771927</td>\n",
       "      <td>-2.670291</td>\n",
       "      <td>-2.541302</td>\n",
       "      <td>1.512805</td>\n",
       "    </tr>\n",
       "    <tr>\n",
       "      <td>2131407</td>\n",
       "      <td>3.421784</td>\n",
       "      <td>-2.534929</td>\n",
       "      <td>-1.986132</td>\n",
       "      <td>1.478241</td>\n",
       "    </tr>\n",
       "    <tr>\n",
       "      <td>2131408</td>\n",
       "      <td>5.599011</td>\n",
       "      <td>-1.256441</td>\n",
       "      <td>-2.105764</td>\n",
       "      <td>1.488248</td>\n",
       "    </tr>\n",
       "    <tr>\n",
       "      <td>2131409</td>\n",
       "      <td>2.637855</td>\n",
       "      <td>-2.814497</td>\n",
       "      <td>-2.608760</td>\n",
       "      <td>1.533818</td>\n",
       "    </tr>\n",
       "    <tr>\n",
       "      <td>2131410</td>\n",
       "      <td>-1.531902</td>\n",
       "      <td>-3.449427</td>\n",
       "      <td>0.142973</td>\n",
       "      <td>1.599184</td>\n",
       "    </tr>\n",
       "    <tr>\n",
       "      <td>...</td>\n",
       "      <td>...</td>\n",
       "      <td>...</td>\n",
       "      <td>...</td>\n",
       "      <td>...</td>\n",
       "    </tr>\n",
       "    <tr>\n",
       "      <td>2161350</td>\n",
       "      <td>-0.764327</td>\n",
       "      <td>0.890055</td>\n",
       "      <td>-0.468630</td>\n",
       "      <td>1.299704</td>\n",
       "    </tr>\n",
       "    <tr>\n",
       "      <td>2161351</td>\n",
       "      <td>1.197972</td>\n",
       "      <td>0.526754</td>\n",
       "      <td>-0.304443</td>\n",
       "      <td>0.149079</td>\n",
       "    </tr>\n",
       "    <tr>\n",
       "      <td>2161352</td>\n",
       "      <td>-1.866026</td>\n",
       "      <td>-0.242411</td>\n",
       "      <td>0.608939</td>\n",
       "      <td>0.118606</td>\n",
       "    </tr>\n",
       "    <tr>\n",
       "      <td>2161353</td>\n",
       "      <td>0.526495</td>\n",
       "      <td>-0.665299</td>\n",
       "      <td>0.336856</td>\n",
       "      <td>0.334150</td>\n",
       "    </tr>\n",
       "    <tr>\n",
       "      <td>2161354</td>\n",
       "      <td>-0.751217</td>\n",
       "      <td>-0.329452</td>\n",
       "      <td>0.097949</td>\n",
       "      <td>-1.998490</td>\n",
       "    </tr>\n",
       "  </tbody>\n",
       "</table>\n",
       "<p>65078 rows × 4 columns</p>\n",
       "</div>"
      ],
      "text/plain": [
       "            Inc_PCA_1  Inc_PCA_2  Inc_PCA_3  Inc_PCA_4\n",
       "AssignedID                                            \n",
       "2131406      2.771927  -2.670291  -2.541302   1.512805\n",
       "2131407      3.421784  -2.534929  -1.986132   1.478241\n",
       "2131408      5.599011  -1.256441  -2.105764   1.488248\n",
       "2131409      2.637855  -2.814497  -2.608760   1.533818\n",
       "2131410     -1.531902  -3.449427   0.142973   1.599184\n",
       "...               ...        ...        ...        ...\n",
       "2161350     -0.764327   0.890055  -0.468630   1.299704\n",
       "2161351      1.197972   0.526754  -0.304443   0.149079\n",
       "2161352     -1.866026  -0.242411   0.608939   0.118606\n",
       "2161353      0.526495  -0.665299   0.336856   0.334150\n",
       "2161354     -0.751217  -0.329452   0.097949  -1.998490\n",
       "\n",
       "[65078 rows x 4 columns]"
      ]
     },
     "execution_count": 164,
     "metadata": {},
     "output_type": "execute_result"
    }
   ],
   "source": [
    "inc_pca_df"
   ]
  },
  {
   "cell_type": "code",
   "execution_count": 165,
   "metadata": {},
   "outputs": [],
   "source": [
    "# add column names for model data frame\n",
    "for col in inc_pca_df.columns:\n",
    "    cols_for_model.append(col)\n",
    "    \n",
    "# join inc_pca_df to data\n",
    "data = data.join(inc_pca_df)"
   ]
  },
  {
   "cell_type": "markdown",
   "metadata": {},
   "source": [
    "### Loan data\n",
    "\n",
    "Build features to represent the loan data"
   ]
  },
  {
   "cell_type": "code",
   "execution_count": 166,
   "metadata": {},
   "outputs": [
    {
     "data": {
      "text/html": [
       "<div>\n",
       "<style scoped>\n",
       "    .dataframe tbody tr th:only-of-type {\n",
       "        vertical-align: middle;\n",
       "    }\n",
       "\n",
       "    .dataframe tbody tr th {\n",
       "        vertical-align: top;\n",
       "    }\n",
       "\n",
       "    .dataframe thead th {\n",
       "        text-align: right;\n",
       "    }\n",
       "</style>\n",
       "<table border=\"1\" class=\"dataframe\">\n",
       "  <thead>\n",
       "    <tr style=\"text-align: right;\">\n",
       "      <th></th>\n",
       "      <th>MortDate</th>\n",
       "      <th>FedGuar</th>\n",
       "      <th>Term</th>\n",
       "      <th>AmorTerm</th>\n",
       "      <th>Rate</th>\n",
       "      <th>Amount</th>\n",
       "      <th>Front</th>\n",
       "      <th>Back</th>\n",
       "      <th>PMI</th>\n",
       "      <th>AcqTyp</th>\n",
       "      <th>SpcHsgGoals</th>\n",
       "    </tr>\n",
       "    <tr>\n",
       "      <th>AssignedID</th>\n",
       "      <th></th>\n",
       "      <th></th>\n",
       "      <th></th>\n",
       "      <th></th>\n",
       "      <th></th>\n",
       "      <th></th>\n",
       "      <th></th>\n",
       "      <th></th>\n",
       "      <th></th>\n",
       "      <th></th>\n",
       "      <th></th>\n",
       "    </tr>\n",
       "  </thead>\n",
       "  <tbody>\n",
       "    <tr>\n",
       "      <td>2131406</td>\n",
       "      <td>2017</td>\n",
       "      <td>2</td>\n",
       "      <td>360</td>\n",
       "      <td>360</td>\n",
       "      <td>0.0400</td>\n",
       "      <td>464782</td>\n",
       "      <td>0.2424</td>\n",
       "      <td>0.3221</td>\n",
       "      <td>0.0</td>\n",
       "      <td>1</td>\n",
       "      <td>2</td>\n",
       "    </tr>\n",
       "    <tr>\n",
       "      <td>2131407</td>\n",
       "      <td>2017</td>\n",
       "      <td>2</td>\n",
       "      <td>360</td>\n",
       "      <td>360</td>\n",
       "      <td>0.0375</td>\n",
       "      <td>495000</td>\n",
       "      <td>0.2384</td>\n",
       "      <td>0.4550</td>\n",
       "      <td>0.0</td>\n",
       "      <td>1</td>\n",
       "      <td>2</td>\n",
       "    </tr>\n",
       "    <tr>\n",
       "      <td>2131408</td>\n",
       "      <td>2017</td>\n",
       "      <td>2</td>\n",
       "      <td>360</td>\n",
       "      <td>360</td>\n",
       "      <td>0.0388</td>\n",
       "      <td>665287</td>\n",
       "      <td>0.1369</td>\n",
       "      <td>0.2102</td>\n",
       "      <td>0.0</td>\n",
       "      <td>1</td>\n",
       "      <td>2</td>\n",
       "    </tr>\n",
       "    <tr>\n",
       "      <td>2131409</td>\n",
       "      <td>2017</td>\n",
       "      <td>2</td>\n",
       "      <td>360</td>\n",
       "      <td>360</td>\n",
       "      <td>0.0375</td>\n",
       "      <td>490320</td>\n",
       "      <td>0.2582</td>\n",
       "      <td>0.2951</td>\n",
       "      <td>0.0</td>\n",
       "      <td>1</td>\n",
       "      <td>2</td>\n",
       "    </tr>\n",
       "    <tr>\n",
       "      <td>2131410</td>\n",
       "      <td>2017</td>\n",
       "      <td>1</td>\n",
       "      <td>360</td>\n",
       "      <td>360</td>\n",
       "      <td>0.0375</td>\n",
       "      <td>97206</td>\n",
       "      <td>0.4012</td>\n",
       "      <td>0.5304</td>\n",
       "      <td>0.0</td>\n",
       "      <td>1</td>\n",
       "      <td>2</td>\n",
       "    </tr>\n",
       "    <tr>\n",
       "      <td>...</td>\n",
       "      <td>...</td>\n",
       "      <td>...</td>\n",
       "      <td>...</td>\n",
       "      <td>...</td>\n",
       "      <td>...</td>\n",
       "      <td>...</td>\n",
       "      <td>...</td>\n",
       "      <td>...</td>\n",
       "      <td>...</td>\n",
       "      <td>...</td>\n",
       "      <td>...</td>\n",
       "    </tr>\n",
       "    <tr>\n",
       "      <td>2161350</td>\n",
       "      <td>2018</td>\n",
       "      <td>1</td>\n",
       "      <td>360</td>\n",
       "      <td>360</td>\n",
       "      <td>0.0525</td>\n",
       "      <td>195865</td>\n",
       "      <td>0.3263</td>\n",
       "      <td>0.4912</td>\n",
       "      <td>0.0</td>\n",
       "      <td>1</td>\n",
       "      <td>2</td>\n",
       "    </tr>\n",
       "    <tr>\n",
       "      <td>2161351</td>\n",
       "      <td>2018</td>\n",
       "      <td>0</td>\n",
       "      <td>180</td>\n",
       "      <td>180</td>\n",
       "      <td>0.0438</td>\n",
       "      <td>296000</td>\n",
       "      <td>0.2250</td>\n",
       "      <td>0.3657</td>\n",
       "      <td>0.0</td>\n",
       "      <td>1</td>\n",
       "      <td>2</td>\n",
       "    </tr>\n",
       "    <tr>\n",
       "      <td>2161352</td>\n",
       "      <td>2018</td>\n",
       "      <td>0</td>\n",
       "      <td>360</td>\n",
       "      <td>360</td>\n",
       "      <td>0.0475</td>\n",
       "      <td>66400</td>\n",
       "      <td>0.1089</td>\n",
       "      <td>0.2918</td>\n",
       "      <td>0.0</td>\n",
       "      <td>1</td>\n",
       "      <td>2</td>\n",
       "    </tr>\n",
       "    <tr>\n",
       "      <td>2161353</td>\n",
       "      <td>2018</td>\n",
       "      <td>0</td>\n",
       "      <td>360</td>\n",
       "      <td>360</td>\n",
       "      <td>0.0500</td>\n",
       "      <td>245600</td>\n",
       "      <td>0.2114</td>\n",
       "      <td>0.2701</td>\n",
       "      <td>0.0</td>\n",
       "      <td>1</td>\n",
       "      <td>2</td>\n",
       "    </tr>\n",
       "    <tr>\n",
       "      <td>2161354</td>\n",
       "      <td>2018</td>\n",
       "      <td>0</td>\n",
       "      <td>240</td>\n",
       "      <td>240</td>\n",
       "      <td>0.0463</td>\n",
       "      <td>100000</td>\n",
       "      <td>0.1453</td>\n",
       "      <td>0.4085</td>\n",
       "      <td>0.0</td>\n",
       "      <td>1</td>\n",
       "      <td>2</td>\n",
       "    </tr>\n",
       "  </tbody>\n",
       "</table>\n",
       "<p>65078 rows × 11 columns</p>\n",
       "</div>"
      ],
      "text/plain": [
       "            MortDate  FedGuar  Term  AmorTerm    Rate  Amount   Front    Back  \\\n",
       "AssignedID                                                                      \n",
       "2131406         2017        2   360       360  0.0400  464782  0.2424  0.3221   \n",
       "2131407         2017        2   360       360  0.0375  495000  0.2384  0.4550   \n",
       "2131408         2017        2   360       360  0.0388  665287  0.1369  0.2102   \n",
       "2131409         2017        2   360       360  0.0375  490320  0.2582  0.2951   \n",
       "2131410         2017        1   360       360  0.0375   97206  0.4012  0.5304   \n",
       "...              ...      ...   ...       ...     ...     ...     ...     ...   \n",
       "2161350         2018        1   360       360  0.0525  195865  0.3263  0.4912   \n",
       "2161351         2018        0   180       180  0.0438  296000  0.2250  0.3657   \n",
       "2161352         2018        0   360       360  0.0475   66400  0.1089  0.2918   \n",
       "2161353         2018        0   360       360  0.0500  245600  0.2114  0.2701   \n",
       "2161354         2018        0   240       240  0.0463  100000  0.1453  0.4085   \n",
       "\n",
       "            PMI  AcqTyp  SpcHsgGoals  \n",
       "AssignedID                            \n",
       "2131406     0.0       1            2  \n",
       "2131407     0.0       1            2  \n",
       "2131408     0.0       1            2  \n",
       "2131409     0.0       1            2  \n",
       "2131410     0.0       1            2  \n",
       "...         ...     ...          ...  \n",
       "2161350     0.0       1            2  \n",
       "2161351     0.0       1            2  \n",
       "2161352     0.0       1            2  \n",
       "2161353     0.0       1            2  \n",
       "2161354     0.0       1            2  \n",
       "\n",
       "[65078 rows x 11 columns]"
      ]
     },
     "execution_count": 166,
     "metadata": {},
     "output_type": "execute_result"
    }
   ],
   "source": [
    "loan_df"
   ]
  },
  {
   "cell_type": "markdown",
   "metadata": {},
   "source": [
    "Theres a few categorical columns in this dataframe but from earlier EDA some of them will be left out.  The mortgage date, FedGuar, AcqTyp, and SpcHsgGoals columns lean pretty heavily to one value in value counts.  After tinkering with the other categories and trying to get clusters, I'm sure I will get the same results, where clustering only gets 2 clusters.  "
   ]
  },
  {
   "cell_type": "code",
   "execution_count": 167,
   "metadata": {},
   "outputs": [],
   "source": [
    "loan_df.drop(['MortDate', 'FedGuar', 'AcqTyp', 'SpcHsgGoals'], axis=1, inplace=True)"
   ]
  },
  {
   "cell_type": "code",
   "execution_count": 168,
   "metadata": {},
   "outputs": [
    {
     "data": {
      "text/plain": [
       "['StateCluster_0',\n",
       " 'StateCluster_1',\n",
       " 'StateCluster_2',\n",
       " 'StateCluster_3',\n",
       " 'StateCluster_4',\n",
       " 'StateCluster_5',\n",
       " 'StateCluster_7',\n",
       " 'StateCluster_8',\n",
       " 'MinPer',\n",
       " 'PropType_Dem_PUD',\n",
       " 'PropType_Hi-Rise_Condo',\n",
       " 'PropType_Low_Rise_Condo',\n",
       " 'PropType_Manufactured',\n",
       " 'PropType_PUD',\n",
       " 'PropType_Single_Family',\n",
       " 'Inc_PCA_1',\n",
       " 'Inc_PCA_2',\n",
       " 'Inc_PCA_3',\n",
       " 'Inc_PCA_4']"
      ]
     },
     "execution_count": 168,
     "metadata": {},
     "output_type": "execute_result"
    }
   ],
   "source": [
    "cols_for_model"
   ]
  },
  {
   "cell_type": "code",
   "execution_count": 169,
   "metadata": {},
   "outputs": [
    {
     "data": {
      "text/html": [
       "<div>\n",
       "<style scoped>\n",
       "    .dataframe tbody tr th:only-of-type {\n",
       "        vertical-align: middle;\n",
       "    }\n",
       "\n",
       "    .dataframe tbody tr th {\n",
       "        vertical-align: top;\n",
       "    }\n",
       "\n",
       "    .dataframe thead th {\n",
       "        text-align: right;\n",
       "    }\n",
       "</style>\n",
       "<table border=\"1\" class=\"dataframe\">\n",
       "  <thead>\n",
       "    <tr style=\"text-align: right;\">\n",
       "      <th></th>\n",
       "      <th>StateCluster_0</th>\n",
       "      <th>StateCluster_1</th>\n",
       "      <th>StateCluster_2</th>\n",
       "      <th>StateCluster_3</th>\n",
       "      <th>StateCluster_4</th>\n",
       "      <th>StateCluster_5</th>\n",
       "      <th>StateCluster_7</th>\n",
       "      <th>StateCluster_8</th>\n",
       "      <th>MinPer</th>\n",
       "      <th>PropType_Dem_PUD</th>\n",
       "      <th>...</th>\n",
       "      <th>CoBoCreditScore_Good</th>\n",
       "      <th>CoBoCreditScore_Not_Given</th>\n",
       "      <th>CoBoCreditScore_Poor</th>\n",
       "      <th>Term</th>\n",
       "      <th>AmorTerm</th>\n",
       "      <th>Rate</th>\n",
       "      <th>Amount</th>\n",
       "      <th>Front</th>\n",
       "      <th>Back</th>\n",
       "      <th>PMI</th>\n",
       "    </tr>\n",
       "    <tr>\n",
       "      <th>AssignedID</th>\n",
       "      <th></th>\n",
       "      <th></th>\n",
       "      <th></th>\n",
       "      <th></th>\n",
       "      <th></th>\n",
       "      <th></th>\n",
       "      <th></th>\n",
       "      <th></th>\n",
       "      <th></th>\n",
       "      <th></th>\n",
       "      <th></th>\n",
       "      <th></th>\n",
       "      <th></th>\n",
       "      <th></th>\n",
       "      <th></th>\n",
       "      <th></th>\n",
       "      <th></th>\n",
       "      <th></th>\n",
       "      <th></th>\n",
       "      <th></th>\n",
       "      <th></th>\n",
       "    </tr>\n",
       "  </thead>\n",
       "  <tbody>\n",
       "    <tr>\n",
       "      <td>2131406</td>\n",
       "      <td>1</td>\n",
       "      <td>0</td>\n",
       "      <td>0</td>\n",
       "      <td>0</td>\n",
       "      <td>0</td>\n",
       "      <td>0</td>\n",
       "      <td>0</td>\n",
       "      <td>0</td>\n",
       "      <td>29.85</td>\n",
       "      <td>0</td>\n",
       "      <td>...</td>\n",
       "      <td>1</td>\n",
       "      <td>0</td>\n",
       "      <td>0</td>\n",
       "      <td>360</td>\n",
       "      <td>360</td>\n",
       "      <td>0.0400</td>\n",
       "      <td>464782</td>\n",
       "      <td>0.2424</td>\n",
       "      <td>0.3221</td>\n",
       "      <td>0.0</td>\n",
       "    </tr>\n",
       "    <tr>\n",
       "      <td>2131407</td>\n",
       "      <td>1</td>\n",
       "      <td>0</td>\n",
       "      <td>0</td>\n",
       "      <td>0</td>\n",
       "      <td>0</td>\n",
       "      <td>0</td>\n",
       "      <td>0</td>\n",
       "      <td>0</td>\n",
       "      <td>67.24</td>\n",
       "      <td>0</td>\n",
       "      <td>...</td>\n",
       "      <td>0</td>\n",
       "      <td>0</td>\n",
       "      <td>0</td>\n",
       "      <td>360</td>\n",
       "      <td>360</td>\n",
       "      <td>0.0375</td>\n",
       "      <td>495000</td>\n",
       "      <td>0.2384</td>\n",
       "      <td>0.4550</td>\n",
       "      <td>0.0</td>\n",
       "    </tr>\n",
       "    <tr>\n",
       "      <td>2131408</td>\n",
       "      <td>1</td>\n",
       "      <td>0</td>\n",
       "      <td>0</td>\n",
       "      <td>0</td>\n",
       "      <td>0</td>\n",
       "      <td>0</td>\n",
       "      <td>0</td>\n",
       "      <td>0</td>\n",
       "      <td>40.76</td>\n",
       "      <td>0</td>\n",
       "      <td>...</td>\n",
       "      <td>0</td>\n",
       "      <td>0</td>\n",
       "      <td>0</td>\n",
       "      <td>360</td>\n",
       "      <td>360</td>\n",
       "      <td>0.0388</td>\n",
       "      <td>665287</td>\n",
       "      <td>0.1369</td>\n",
       "      <td>0.2102</td>\n",
       "      <td>0.0</td>\n",
       "    </tr>\n",
       "    <tr>\n",
       "      <td>2131409</td>\n",
       "      <td>1</td>\n",
       "      <td>0</td>\n",
       "      <td>0</td>\n",
       "      <td>0</td>\n",
       "      <td>0</td>\n",
       "      <td>0</td>\n",
       "      <td>0</td>\n",
       "      <td>0</td>\n",
       "      <td>75.97</td>\n",
       "      <td>0</td>\n",
       "      <td>...</td>\n",
       "      <td>0</td>\n",
       "      <td>1</td>\n",
       "      <td>0</td>\n",
       "      <td>360</td>\n",
       "      <td>360</td>\n",
       "      <td>0.0375</td>\n",
       "      <td>490320</td>\n",
       "      <td>0.2582</td>\n",
       "      <td>0.2951</td>\n",
       "      <td>0.0</td>\n",
       "    </tr>\n",
       "    <tr>\n",
       "      <td>2131410</td>\n",
       "      <td>1</td>\n",
       "      <td>0</td>\n",
       "      <td>0</td>\n",
       "      <td>0</td>\n",
       "      <td>0</td>\n",
       "      <td>0</td>\n",
       "      <td>0</td>\n",
       "      <td>0</td>\n",
       "      <td>64.56</td>\n",
       "      <td>0</td>\n",
       "      <td>...</td>\n",
       "      <td>0</td>\n",
       "      <td>1</td>\n",
       "      <td>0</td>\n",
       "      <td>360</td>\n",
       "      <td>360</td>\n",
       "      <td>0.0375</td>\n",
       "      <td>97206</td>\n",
       "      <td>0.4012</td>\n",
       "      <td>0.5304</td>\n",
       "      <td>0.0</td>\n",
       "    </tr>\n",
       "    <tr>\n",
       "      <td>...</td>\n",
       "      <td>...</td>\n",
       "      <td>...</td>\n",
       "      <td>...</td>\n",
       "      <td>...</td>\n",
       "      <td>...</td>\n",
       "      <td>...</td>\n",
       "      <td>...</td>\n",
       "      <td>...</td>\n",
       "      <td>...</td>\n",
       "      <td>...</td>\n",
       "      <td>...</td>\n",
       "      <td>...</td>\n",
       "      <td>...</td>\n",
       "      <td>...</td>\n",
       "      <td>...</td>\n",
       "      <td>...</td>\n",
       "      <td>...</td>\n",
       "      <td>...</td>\n",
       "      <td>...</td>\n",
       "      <td>...</td>\n",
       "      <td>...</td>\n",
       "    </tr>\n",
       "    <tr>\n",
       "      <td>2161350</td>\n",
       "      <td>1</td>\n",
       "      <td>0</td>\n",
       "      <td>0</td>\n",
       "      <td>0</td>\n",
       "      <td>0</td>\n",
       "      <td>0</td>\n",
       "      <td>0</td>\n",
       "      <td>0</td>\n",
       "      <td>22.82</td>\n",
       "      <td>0</td>\n",
       "      <td>...</td>\n",
       "      <td>0</td>\n",
       "      <td>0</td>\n",
       "      <td>0</td>\n",
       "      <td>360</td>\n",
       "      <td>360</td>\n",
       "      <td>0.0525</td>\n",
       "      <td>195865</td>\n",
       "      <td>0.3263</td>\n",
       "      <td>0.4912</td>\n",
       "      <td>0.0</td>\n",
       "    </tr>\n",
       "    <tr>\n",
       "      <td>2161351</td>\n",
       "      <td>1</td>\n",
       "      <td>0</td>\n",
       "      <td>0</td>\n",
       "      <td>0</td>\n",
       "      <td>0</td>\n",
       "      <td>0</td>\n",
       "      <td>0</td>\n",
       "      <td>0</td>\n",
       "      <td>7.61</td>\n",
       "      <td>0</td>\n",
       "      <td>...</td>\n",
       "      <td>1</td>\n",
       "      <td>0</td>\n",
       "      <td>0</td>\n",
       "      <td>180</td>\n",
       "      <td>180</td>\n",
       "      <td>0.0438</td>\n",
       "      <td>296000</td>\n",
       "      <td>0.2250</td>\n",
       "      <td>0.3657</td>\n",
       "      <td>0.0</td>\n",
       "    </tr>\n",
       "    <tr>\n",
       "      <td>2161352</td>\n",
       "      <td>1</td>\n",
       "      <td>0</td>\n",
       "      <td>0</td>\n",
       "      <td>0</td>\n",
       "      <td>0</td>\n",
       "      <td>0</td>\n",
       "      <td>0</td>\n",
       "      <td>0</td>\n",
       "      <td>3.69</td>\n",
       "      <td>0</td>\n",
       "      <td>...</td>\n",
       "      <td>0</td>\n",
       "      <td>1</td>\n",
       "      <td>0</td>\n",
       "      <td>360</td>\n",
       "      <td>360</td>\n",
       "      <td>0.0475</td>\n",
       "      <td>66400</td>\n",
       "      <td>0.1089</td>\n",
       "      <td>0.2918</td>\n",
       "      <td>0.0</td>\n",
       "    </tr>\n",
       "    <tr>\n",
       "      <td>2161353</td>\n",
       "      <td>1</td>\n",
       "      <td>0</td>\n",
       "      <td>0</td>\n",
       "      <td>0</td>\n",
       "      <td>0</td>\n",
       "      <td>0</td>\n",
       "      <td>0</td>\n",
       "      <td>0</td>\n",
       "      <td>10.16</td>\n",
       "      <td>0</td>\n",
       "      <td>...</td>\n",
       "      <td>1</td>\n",
       "      <td>0</td>\n",
       "      <td>0</td>\n",
       "      <td>360</td>\n",
       "      <td>360</td>\n",
       "      <td>0.0500</td>\n",
       "      <td>245600</td>\n",
       "      <td>0.2114</td>\n",
       "      <td>0.2701</td>\n",
       "      <td>0.0</td>\n",
       "    </tr>\n",
       "    <tr>\n",
       "      <td>2161354</td>\n",
       "      <td>1</td>\n",
       "      <td>0</td>\n",
       "      <td>0</td>\n",
       "      <td>0</td>\n",
       "      <td>0</td>\n",
       "      <td>0</td>\n",
       "      <td>0</td>\n",
       "      <td>0</td>\n",
       "      <td>9.02</td>\n",
       "      <td>0</td>\n",
       "      <td>...</td>\n",
       "      <td>0</td>\n",
       "      <td>0</td>\n",
       "      <td>0</td>\n",
       "      <td>240</td>\n",
       "      <td>240</td>\n",
       "      <td>0.0463</td>\n",
       "      <td>100000</td>\n",
       "      <td>0.1453</td>\n",
       "      <td>0.4085</td>\n",
       "      <td>0.0</td>\n",
       "    </tr>\n",
       "  </tbody>\n",
       "</table>\n",
       "<p>65078 rows × 65 columns</p>\n",
       "</div>"
      ],
      "text/plain": [
       "            StateCluster_0  StateCluster_1  StateCluster_2  StateCluster_3  \\\n",
       "AssignedID                                                                   \n",
       "2131406                  1               0               0               0   \n",
       "2131407                  1               0               0               0   \n",
       "2131408                  1               0               0               0   \n",
       "2131409                  1               0               0               0   \n",
       "2131410                  1               0               0               0   \n",
       "...                    ...             ...             ...             ...   \n",
       "2161350                  1               0               0               0   \n",
       "2161351                  1               0               0               0   \n",
       "2161352                  1               0               0               0   \n",
       "2161353                  1               0               0               0   \n",
       "2161354                  1               0               0               0   \n",
       "\n",
       "            StateCluster_4  StateCluster_5  StateCluster_7  StateCluster_8  \\\n",
       "AssignedID                                                                   \n",
       "2131406                  0               0               0               0   \n",
       "2131407                  0               0               0               0   \n",
       "2131408                  0               0               0               0   \n",
       "2131409                  0               0               0               0   \n",
       "2131410                  0               0               0               0   \n",
       "...                    ...             ...             ...             ...   \n",
       "2161350                  0               0               0               0   \n",
       "2161351                  0               0               0               0   \n",
       "2161352                  0               0               0               0   \n",
       "2161353                  0               0               0               0   \n",
       "2161354                  0               0               0               0   \n",
       "\n",
       "            MinPer  PropType_Dem_PUD  ...  CoBoCreditScore_Good  \\\n",
       "AssignedID                            ...                         \n",
       "2131406      29.85                 0  ...                     1   \n",
       "2131407      67.24                 0  ...                     0   \n",
       "2131408      40.76                 0  ...                     0   \n",
       "2131409      75.97                 0  ...                     0   \n",
       "2131410      64.56                 0  ...                     0   \n",
       "...            ...               ...  ...                   ...   \n",
       "2161350      22.82                 0  ...                     0   \n",
       "2161351       7.61                 0  ...                     1   \n",
       "2161352       3.69                 0  ...                     0   \n",
       "2161353      10.16                 0  ...                     1   \n",
       "2161354       9.02                 0  ...                     0   \n",
       "\n",
       "            CoBoCreditScore_Not_Given  CoBoCreditScore_Poor  Term  AmorTerm  \\\n",
       "AssignedID                                                                    \n",
       "2131406                             0                     0   360       360   \n",
       "2131407                             0                     0   360       360   \n",
       "2131408                             0                     0   360       360   \n",
       "2131409                             1                     0   360       360   \n",
       "2131410                             1                     0   360       360   \n",
       "...                               ...                   ...   ...       ...   \n",
       "2161350                             0                     0   360       360   \n",
       "2161351                             0                     0   180       180   \n",
       "2161352                             1                     0   360       360   \n",
       "2161353                             0                     0   360       360   \n",
       "2161354                             0                     0   240       240   \n",
       "\n",
       "              Rate  Amount   Front    Back  PMI  \n",
       "AssignedID                                       \n",
       "2131406     0.0400  464782  0.2424  0.3221  0.0  \n",
       "2131407     0.0375  495000  0.2384  0.4550  0.0  \n",
       "2131408     0.0388  665287  0.1369  0.2102  0.0  \n",
       "2131409     0.0375  490320  0.2582  0.2951  0.0  \n",
       "2131410     0.0375   97206  0.4012  0.5304  0.0  \n",
       "...            ...     ...     ...     ...  ...  \n",
       "2161350     0.0525  195865  0.3263  0.4912  0.0  \n",
       "2161351     0.0438  296000  0.2250  0.3657  0.0  \n",
       "2161352     0.0475   66400  0.1089  0.2918  0.0  \n",
       "2161353     0.0500  245600  0.2114  0.2701  0.0  \n",
       "2161354     0.0463  100000  0.1453  0.4085  0.0  \n",
       "\n",
       "[65078 rows x 65 columns]"
      ]
     },
     "execution_count": 169,
     "metadata": {},
     "output_type": "execute_result"
    }
   ],
   "source": [
    "# create model df\n",
    "model_df = data[cols_for_model]\n",
    "model_df = model_df.join(borr_df)\n",
    "model_df = model_df.join(loan_df)\n",
    "model_df"
   ]
  },
  {
   "cell_type": "code",
   "execution_count": 170,
   "metadata": {},
   "outputs": [],
   "source": [
    "# add purpose as target variable at end of df\n",
    "model_df['Purpose'] = data.Purpose\n"
   ]
  },
  {
   "cell_type": "code",
   "execution_count": 171,
   "metadata": {},
   "outputs": [],
   "source": [
    "# add raw data columns for income and income ratio to avoid back transformation\n",
    "data['RawInc'] = inc_raw\n",
    "data['BorrIncRatRaw'] = borr_inc_rat_raw"
   ]
  },
  {
   "cell_type": "code",
   "execution_count": 173,
   "metadata": {},
   "outputs": [],
   "source": [
    "# save model df as csv to open in Modeling notebook\n",
    "model_df.to_csv('model.csv')"
   ]
  },
  {
   "cell_type": "code",
   "execution_count": 174,
   "metadata": {},
   "outputs": [],
   "source": [
    "# save data df as csv to open in Modeling notebook\n",
    "data.to_csv('data.csv')"
   ]
  },
  {
   "cell_type": "code",
   "execution_count": null,
   "metadata": {},
   "outputs": [],
   "source": []
  }
 ],
 "metadata": {
  "kernelspec": {
   "display_name": "Python 3",
   "language": "python",
   "name": "python3"
  },
  "language_info": {
   "codemirror_mode": {
    "name": "ipython",
    "version": 3
   },
   "file_extension": ".py",
   "mimetype": "text/x-python",
   "name": "python",
   "nbconvert_exporter": "python",
   "pygments_lexer": "ipython3",
   "version": "3.6.9"
  }
 },
 "nbformat": 4,
 "nbformat_minor": 2
}
